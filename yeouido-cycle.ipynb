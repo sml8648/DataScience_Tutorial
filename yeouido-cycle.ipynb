{
 "cells": [
  {
   "cell_type": "code",
   "execution_count": 1,
   "id": "3529179c",
   "metadata": {
    "_cell_guid": "b1076dfc-b9ad-4769-8c92-a6c4dae69d19",
    "_uuid": "8f2839f25d086af736a60e9eeb907d3b93b6e0e5",
    "execution": {
     "iopub.execute_input": "2022-06-01T04:22:59.793081Z",
     "iopub.status.busy": "2022-06-01T04:22:59.792721Z",
     "iopub.status.idle": "2022-06-01T04:22:59.809688Z",
     "shell.execute_reply": "2022-06-01T04:22:59.808615Z"
    },
    "papermill": {
     "duration": 0.033067,
     "end_time": "2022-06-01T04:22:59.812549",
     "exception": false,
     "start_time": "2022-06-01T04:22:59.779482",
     "status": "completed"
    },
    "tags": []
   },
   "outputs": [
    {
     "name": "stdout",
     "output_type": "stream",
     "text": [
      "/kaggle/input/cycle-seoul/submission.csv\n",
      "/kaggle/input/cycle-seoul/train.csv\n",
      "/kaggle/input/cycle-seoul/test.csv\n"
     ]
    }
   ],
   "source": [
    "# This Python 3 environment comes with many helpful analytics libraries installed\n",
    "# It is defined by the kaggle/python Docker image: https://github.com/kaggle/docker-python\n",
    "# For example, here's several helpful packages to load\n",
    "\n",
    "import numpy as np # linear algebra\n",
    "import pandas as pd # data processing, CSV file I/O (e.g. pd.read_csv)\n",
    "\n",
    "# Input data files are available in the read-only \"../input/\" directory\n",
    "# For example, running this (by clicking run or pressing Shift+Enter) will list all files under the input directory\n",
    "\n",
    "import os\n",
    "for dirname, _, filenames in os.walk('/kaggle/input'):\n",
    "    for filename in filenames:\n",
    "        print(os.path.join(dirname, filename))\n",
    "\n",
    "# You can write up to 20GB to the current directory (/kaggle/working/) that gets preserved as output when you create a version using \"Save & Run All\" \n",
    "# You can also write temporary files to /kaggle/temp/, but they won't be saved outside of the current session"
   ]
  },
  {
   "cell_type": "code",
   "execution_count": 2,
   "id": "9fbfb60e",
   "metadata": {
    "execution": {
     "iopub.execute_input": "2022-06-01T04:22:59.837658Z",
     "iopub.status.busy": "2022-06-01T04:22:59.837130Z",
     "iopub.status.idle": "2022-06-01T04:23:00.949472Z",
     "shell.execute_reply": "2022-06-01T04:23:00.948510Z"
    },
    "papermill": {
     "duration": 1.12687,
     "end_time": "2022-06-01T04:23:00.951814",
     "exception": false,
     "start_time": "2022-06-01T04:22:59.824944",
     "status": "completed"
    },
    "tags": []
   },
   "outputs": [],
   "source": [
    "import numpy as np\n",
    "import pandas as pd\n",
    "import seaborn as sns\n",
    "import matplotlib as mpl\n",
    "import matplotlib.pylab as plb\n",
    "import matplotlib.pyplot as plt\n",
    "import seaborn as sns\n",
    "import warnings\n",
    "warnings.filterwarnings(\"ignore\")"
   ]
  },
  {
   "cell_type": "code",
   "execution_count": 3,
   "id": "eae72484",
   "metadata": {
    "execution": {
     "iopub.execute_input": "2022-06-01T04:23:00.981680Z",
     "iopub.status.busy": "2022-06-01T04:23:00.981251Z",
     "iopub.status.idle": "2022-06-01T04:23:01.008206Z",
     "shell.execute_reply": "2022-06-01T04:23:01.007157Z"
    },
    "papermill": {
     "duration": 0.047567,
     "end_time": "2022-06-01T04:23:01.010796",
     "exception": false,
     "start_time": "2022-06-01T04:23:00.963229",
     "status": "completed"
    },
    "tags": []
   },
   "outputs": [],
   "source": [
    "train = pd.read_csv('../input/cycle-seoul/train.csv')\n",
    "test = pd.read_csv('../input/cycle-seoul/test.csv')"
   ]
  },
  {
   "cell_type": "code",
   "execution_count": 4,
   "id": "1eb12d62",
   "metadata": {
    "execution": {
     "iopub.execute_input": "2022-06-01T04:23:01.045951Z",
     "iopub.status.busy": "2022-06-01T04:23:01.045060Z",
     "iopub.status.idle": "2022-06-01T04:23:01.063841Z",
     "shell.execute_reply": "2022-06-01T04:23:01.062993Z"
    },
    "papermill": {
     "duration": 0.039243,
     "end_time": "2022-06-01T04:23:01.066893",
     "exception": false,
     "start_time": "2022-06-01T04:23:01.027650",
     "status": "completed"
    },
    "tags": []
   },
   "outputs": [],
   "source": [
    "# for null value and scaling \n",
    "data_total = pd.concat([train,test])\n",
    "data_total = data_total.drop(columns=['id','count'])"
   ]
  },
  {
   "cell_type": "code",
   "execution_count": 5,
   "id": "ed869eb1",
   "metadata": {
    "execution": {
     "iopub.execute_input": "2022-06-01T04:23:01.095639Z",
     "iopub.status.busy": "2022-06-01T04:23:01.095174Z",
     "iopub.status.idle": "2022-06-01T04:23:01.454436Z",
     "shell.execute_reply": "2022-06-01T04:23:01.453501Z"
    },
    "papermill": {
     "duration": 0.374467,
     "end_time": "2022-06-01T04:23:01.456590",
     "exception": false,
     "start_time": "2022-06-01T04:23:01.082123",
     "status": "completed"
    },
    "tags": []
   },
   "outputs": [
    {
     "data": {
      "text/plain": [
       "0    0\n",
       "1    0\n",
       "2    0\n",
       "3    0\n",
       "4    0\n",
       "5    0\n",
       "6    0\n",
       "7    0\n",
       "8    0\n",
       "dtype: int64"
      ]
     },
     "execution_count": 5,
     "metadata": {},
     "output_type": "execute_result"
    }
   ],
   "source": [
    "# Fill null value with mean\n",
    "from sklearn.impute import SimpleImputer\n",
    "\n",
    "imputer = SimpleImputer(strategy='mean')\n",
    "\n",
    "imputer.fit(data_total)\n",
    "\n",
    "result = imputer.transform(data_total)\n",
    "\n",
    "data_total = pd.DataFrame(result)\n",
    "data_total.isnull().sum()"
   ]
  },
  {
   "cell_type": "code",
   "execution_count": 6,
   "id": "cb9a9b48",
   "metadata": {
    "execution": {
     "iopub.execute_input": "2022-06-01T04:23:01.481976Z",
     "iopub.status.busy": "2022-06-01T04:23:01.481653Z",
     "iopub.status.idle": "2022-06-01T04:23:01.493285Z",
     "shell.execute_reply": "2022-06-01T04:23:01.492568Z"
    },
    "papermill": {
     "duration": 0.026655,
     "end_time": "2022-06-01T04:23:01.495494",
     "exception": false,
     "start_time": "2022-06-01T04:23:01.468839",
     "status": "completed"
    },
    "tags": []
   },
   "outputs": [],
   "source": [
    "from sklearn.preprocessing import StandardScaler, RobustScaler\n",
    "scaler = RobustScaler()\n",
    "scaler.fit(data_total)\n",
    "data_total = scaler.transform(data_total)"
   ]
  },
  {
   "cell_type": "code",
   "execution_count": 7,
   "id": "3153c925",
   "metadata": {
    "execution": {
     "iopub.execute_input": "2022-06-01T04:23:01.521588Z",
     "iopub.status.busy": "2022-06-01T04:23:01.520542Z",
     "iopub.status.idle": "2022-06-01T04:23:01.527615Z",
     "shell.execute_reply": "2022-06-01T04:23:01.526954Z"
    },
    "papermill": {
     "duration": 0.022277,
     "end_time": "2022-06-01T04:23:01.529658",
     "exception": false,
     "start_time": "2022-06-01T04:23:01.507381",
     "status": "completed"
    },
    "tags": []
   },
   "outputs": [],
   "source": [
    "# Re Split train and test\n",
    "train_data = data_total[:1459]\n",
    "test_data = data_total[1459:]\n",
    "\n",
    "# Train Count\n",
    "Train_Count = train['count'].to_numpy()"
   ]
  },
  {
   "cell_type": "code",
   "execution_count": 8,
   "id": "ad372d7a",
   "metadata": {
    "execution": {
     "iopub.execute_input": "2022-06-01T04:23:01.555589Z",
     "iopub.status.busy": "2022-06-01T04:23:01.554645Z",
     "iopub.status.idle": "2022-06-01T04:23:07.930291Z",
     "shell.execute_reply": "2022-06-01T04:23:07.929293Z"
    },
    "papermill": {
     "duration": 6.391901,
     "end_time": "2022-06-01T04:23:07.933166",
     "exception": false,
     "start_time": "2022-06-01T04:23:01.541265",
     "status": "completed"
    },
    "tags": []
   },
   "outputs": [
    {
     "name": "stdout",
     "output_type": "stream",
     "text": [
      "(1313, 9) (1313,)\n"
     ]
    }
   ],
   "source": [
    "# DNN model\n",
    "import tensorflow as tf\n",
    "from tensorflow.keras import Sequential\n",
    "from tensorflow.keras.layers import Dense, Dropout\n",
    "from tensorflow.keras.optimizers import Adam\n",
    "from keras import metrics\n",
    "\n",
    "from sklearn.model_selection import train_test_split\n",
    "\n",
    "x_train, x_test, y_train, y_test = train_test_split(train_data,Train_Count, train_size=0.9) \n",
    "\n",
    "print(x_train.shape, y_train.shape)"
   ]
  },
  {
   "cell_type": "code",
   "execution_count": 9,
   "id": "2476d922",
   "metadata": {
    "execution": {
     "iopub.execute_input": "2022-06-01T04:23:07.959057Z",
     "iopub.status.busy": "2022-06-01T04:23:07.958622Z",
     "iopub.status.idle": "2022-06-01T04:23:08.143076Z",
     "shell.execute_reply": "2022-06-01T04:23:08.142194Z"
    },
    "papermill": {
     "duration": 0.201138,
     "end_time": "2022-06-01T04:23:08.146705",
     "exception": false,
     "start_time": "2022-06-01T04:23:07.945567",
     "status": "completed"
    },
    "tags": []
   },
   "outputs": [
    {
     "name": "stdout",
     "output_type": "stream",
     "text": [
      "Model: \"sequential\"\n",
      "_________________________________________________________________\n",
      "Layer (type)                 Output Shape              Param #   \n",
      "=================================================================\n",
      "dense (Dense)                (None, 128)               1280      \n",
      "_________________________________________________________________\n",
      "dropout (Dropout)            (None, 128)               0         \n",
      "_________________________________________________________________\n",
      "dense_1 (Dense)              (None, 64)                8256      \n",
      "_________________________________________________________________\n",
      "dropout_1 (Dropout)          (None, 64)                0         \n",
      "_________________________________________________________________\n",
      "dense_2 (Dense)              (None, 64)                4160      \n",
      "_________________________________________________________________\n",
      "dropout_2 (Dropout)          (None, 64)                0         \n",
      "_________________________________________________________________\n",
      "dense_3 (Dense)              (None, 64)                4160      \n",
      "_________________________________________________________________\n",
      "dropout_3 (Dropout)          (None, 64)                0         \n",
      "_________________________________________________________________\n",
      "dense_4 (Dense)              (None, 32)                2080      \n",
      "_________________________________________________________________\n",
      "dropout_4 (Dropout)          (None, 32)                0         \n",
      "_________________________________________________________________\n",
      "dense_5 (Dense)              (None, 32)                1056      \n",
      "_________________________________________________________________\n",
      "dropout_5 (Dropout)          (None, 32)                0         \n",
      "_________________________________________________________________\n",
      "dense_6 (Dense)              (None, 1)                 33        \n",
      "=================================================================\n",
      "Total params: 21,025\n",
      "Trainable params: 21,025\n",
      "Non-trainable params: 0\n",
      "_________________________________________________________________\n"
     ]
    },
    {
     "name": "stderr",
     "output_type": "stream",
     "text": [
      "2022-06-01 04:23:08.004230: I tensorflow/core/common_runtime/process_util.cc:146] Creating new thread pool with default inter op setting: 2. Tune using inter_op_parallelism_threads for best performance.\n"
     ]
    }
   ],
   "source": [
    "# flush model\n",
    "tf.keras.backend.clear_session()\n",
    "\n",
    "# Make model\n",
    "model = Sequential()\n",
    "model.add(Dense(128, activation='relu',input_shape=(9,)))\n",
    "model.add(Dropout(0.3))\n",
    "model.add(Dense(64, activation='relu',input_shape=(9,)))\n",
    "model.add(Dropout(0.3))\n",
    "model.add(Dense(64, activation='relu'))\n",
    "model.add(Dropout(0.3))\n",
    "model.add(Dense(64, activation='relu'))\n",
    "model.add(Dropout(0.3))\n",
    "model.add(Dense(32, activation='relu'))\n",
    "model.add(Dropout(0.3))\n",
    "model.add(Dense(32, activation='relu'))\n",
    "model.add(Dropout(0.3))\n",
    "model.add(Dense(1))\n",
    "\n",
    "model.compile(optimizer='Adam', loss='mean_squared_error',metrics=[metrics.mse])\n",
    "\n",
    "# call back early stopping\n",
    "callback = tf.keras.callbacks.EarlyStopping(monitor='loss', patience=10)\n",
    "\n",
    "# model summary\n",
    "model.summary()"
   ]
  },
  {
   "cell_type": "code",
   "execution_count": 10,
   "id": "4aebefa7",
   "metadata": {
    "execution": {
     "iopub.execute_input": "2022-06-01T04:23:08.174041Z",
     "iopub.status.busy": "2022-06-01T04:23:08.173729Z",
     "iopub.status.idle": "2022-06-01T04:23:29.593462Z",
     "shell.execute_reply": "2022-06-01T04:23:29.592696Z"
    },
    "papermill": {
     "duration": 21.435376,
     "end_time": "2022-06-01T04:23:29.595535",
     "exception": false,
     "start_time": "2022-06-01T04:23:08.160159",
     "status": "completed"
    },
    "tags": []
   },
   "outputs": [
    {
     "name": "stdout",
     "output_type": "stream",
     "text": [
      "Epoch 1/100\n"
     ]
    },
    {
     "name": "stderr",
     "output_type": "stream",
     "text": [
      "2022-06-01 04:23:08.256519: I tensorflow/compiler/mlir/mlir_graph_optimization_pass.cc:185] None of the MLIR Optimization Passes are enabled (registered 2)\n"
     ]
    },
    {
     "name": "stdout",
     "output_type": "stream",
     "text": [
      "42/42 - 1s - loss: 17996.6895 - mean_squared_error: 17996.6895 - val_loss: 15264.3701 - val_mean_squared_error: 15264.3701\n",
      "Epoch 2/100\n",
      "42/42 - 0s - loss: 8443.7441 - mean_squared_error: 8443.7441 - val_loss: 4009.6760 - val_mean_squared_error: 4009.6760\n",
      "Epoch 3/100\n",
      "42/42 - 0s - loss: 5322.8711 - mean_squared_error: 5322.8711 - val_loss: 3532.0198 - val_mean_squared_error: 3532.0198\n",
      "Epoch 4/100\n",
      "42/42 - 0s - loss: 4868.7896 - mean_squared_error: 4868.7896 - val_loss: 3324.5156 - val_mean_squared_error: 3324.5156\n",
      "Epoch 5/100\n",
      "42/42 - 0s - loss: 4778.8735 - mean_squared_error: 4778.8735 - val_loss: 2826.7314 - val_mean_squared_error: 2826.7314\n",
      "Epoch 6/100\n",
      "42/42 - 0s - loss: 4413.4194 - mean_squared_error: 4413.4194 - val_loss: 2885.2769 - val_mean_squared_error: 2885.2769\n",
      "Epoch 7/100\n",
      "42/42 - 0s - loss: 4386.2642 - mean_squared_error: 4386.2642 - val_loss: 2722.5530 - val_mean_squared_error: 2722.5530\n",
      "Epoch 8/100\n",
      "42/42 - 0s - loss: 4345.1211 - mean_squared_error: 4345.1211 - val_loss: 3024.2891 - val_mean_squared_error: 3024.2891\n",
      "Epoch 9/100\n",
      "42/42 - 0s - loss: 4032.0693 - mean_squared_error: 4032.0693 - val_loss: 3316.0681 - val_mean_squared_error: 3316.0681\n",
      "Epoch 10/100\n",
      "42/42 - 0s - loss: 4262.5874 - mean_squared_error: 4262.5874 - val_loss: 3438.7461 - val_mean_squared_error: 3438.7461\n",
      "Epoch 11/100\n",
      "42/42 - 0s - loss: 4409.8765 - mean_squared_error: 4409.8765 - val_loss: 2788.8391 - val_mean_squared_error: 2788.8391\n",
      "Epoch 12/100\n",
      "42/42 - 0s - loss: 4164.1685 - mean_squared_error: 4164.1685 - val_loss: 3118.2800 - val_mean_squared_error: 3118.2800\n",
      "Epoch 13/100\n",
      "42/42 - 0s - loss: 4215.2080 - mean_squared_error: 4215.2080 - val_loss: 2926.1057 - val_mean_squared_error: 2926.1057\n",
      "Epoch 14/100\n",
      "42/42 - 0s - loss: 4125.2651 - mean_squared_error: 4125.2651 - val_loss: 2862.2615 - val_mean_squared_error: 2862.2615\n",
      "Epoch 15/100\n",
      "42/42 - 0s - loss: 3878.7905 - mean_squared_error: 3878.7905 - val_loss: 3040.5947 - val_mean_squared_error: 3040.5947\n",
      "Epoch 16/100\n",
      "42/42 - 0s - loss: 3697.7341 - mean_squared_error: 3697.7341 - val_loss: 2551.4570 - val_mean_squared_error: 2551.4570\n",
      "Epoch 17/100\n",
      "42/42 - 0s - loss: 3756.0205 - mean_squared_error: 3756.0205 - val_loss: 2858.2249 - val_mean_squared_error: 2858.2249\n",
      "Epoch 18/100\n",
      "42/42 - 0s - loss: 3716.9919 - mean_squared_error: 3716.9919 - val_loss: 2795.0498 - val_mean_squared_error: 2795.0498\n",
      "Epoch 19/100\n",
      "42/42 - 0s - loss: 3651.4797 - mean_squared_error: 3651.4797 - val_loss: 3209.1641 - val_mean_squared_error: 3209.1641\n",
      "Epoch 20/100\n",
      "42/42 - 0s - loss: 3652.9722 - mean_squared_error: 3652.9722 - val_loss: 2587.4858 - val_mean_squared_error: 2587.4858\n",
      "Epoch 21/100\n",
      "42/42 - 0s - loss: 3603.5708 - mean_squared_error: 3603.5708 - val_loss: 2611.4028 - val_mean_squared_error: 2611.4028\n",
      "Epoch 22/100\n",
      "42/42 - 0s - loss: 3609.3845 - mean_squared_error: 3609.3845 - val_loss: 2612.5652 - val_mean_squared_error: 2612.5652\n",
      "Epoch 23/100\n",
      "42/42 - 0s - loss: 3751.7063 - mean_squared_error: 3751.7063 - val_loss: 2523.6575 - val_mean_squared_error: 2523.6575\n",
      "Epoch 24/100\n",
      "42/42 - 0s - loss: 3610.5225 - mean_squared_error: 3610.5225 - val_loss: 2664.4233 - val_mean_squared_error: 2664.4233\n",
      "Epoch 25/100\n",
      "42/42 - 0s - loss: 3623.6855 - mean_squared_error: 3623.6855 - val_loss: 2993.4470 - val_mean_squared_error: 2993.4470\n",
      "Epoch 26/100\n",
      "42/42 - 0s - loss: 3742.6230 - mean_squared_error: 3742.6230 - val_loss: 2522.7729 - val_mean_squared_error: 2522.7729\n",
      "Epoch 27/100\n",
      "42/42 - 0s - loss: 3589.5430 - mean_squared_error: 3589.5430 - val_loss: 2693.7202 - val_mean_squared_error: 2693.7202\n",
      "Epoch 28/100\n",
      "42/42 - 0s - loss: 3616.3328 - mean_squared_error: 3616.3328 - val_loss: 2689.4800 - val_mean_squared_error: 2689.4800\n",
      "Epoch 29/100\n",
      "42/42 - 0s - loss: 3305.9055 - mean_squared_error: 3305.9055 - val_loss: 2552.9670 - val_mean_squared_error: 2552.9670\n",
      "Epoch 30/100\n",
      "42/42 - 0s - loss: 3521.1086 - mean_squared_error: 3521.1086 - val_loss: 2950.4001 - val_mean_squared_error: 2950.4001\n",
      "Epoch 31/100\n",
      "42/42 - 0s - loss: 3606.6191 - mean_squared_error: 3606.6191 - val_loss: 2523.1946 - val_mean_squared_error: 2523.1946\n",
      "Epoch 32/100\n",
      "42/42 - 0s - loss: 3567.0110 - mean_squared_error: 3567.0110 - val_loss: 2529.4167 - val_mean_squared_error: 2529.4167\n",
      "Epoch 33/100\n",
      "42/42 - 0s - loss: 3544.3782 - mean_squared_error: 3544.3782 - val_loss: 2502.5076 - val_mean_squared_error: 2502.5076\n",
      "Epoch 34/100\n",
      "42/42 - 0s - loss: 3383.3210 - mean_squared_error: 3383.3210 - val_loss: 2466.7122 - val_mean_squared_error: 2466.7122\n",
      "Epoch 35/100\n",
      "42/42 - 0s - loss: 3225.7856 - mean_squared_error: 3225.7856 - val_loss: 2696.8220 - val_mean_squared_error: 2696.8220\n",
      "Epoch 36/100\n",
      "42/42 - 0s - loss: 3204.1787 - mean_squared_error: 3204.1787 - val_loss: 2780.8425 - val_mean_squared_error: 2780.8425\n",
      "Epoch 37/100\n",
      "42/42 - 0s - loss: 3523.4924 - mean_squared_error: 3523.4924 - val_loss: 2485.1599 - val_mean_squared_error: 2485.1599\n",
      "Epoch 38/100\n",
      "42/42 - 0s - loss: 3376.5359 - mean_squared_error: 3376.5359 - val_loss: 2477.6965 - val_mean_squared_error: 2477.6965\n",
      "Epoch 39/100\n",
      "42/42 - 0s - loss: 3357.1482 - mean_squared_error: 3357.1482 - val_loss: 2423.4482 - val_mean_squared_error: 2423.4482\n",
      "Epoch 40/100\n",
      "42/42 - 0s - loss: 3444.1467 - mean_squared_error: 3444.1467 - val_loss: 2535.5227 - val_mean_squared_error: 2535.5227\n",
      "Epoch 41/100\n",
      "42/42 - 0s - loss: 3380.1455 - mean_squared_error: 3380.1455 - val_loss: 2738.5588 - val_mean_squared_error: 2738.5588\n",
      "Epoch 42/100\n",
      "42/42 - 0s - loss: 3161.1038 - mean_squared_error: 3161.1038 - val_loss: 2433.4519 - val_mean_squared_error: 2433.4519\n",
      "Epoch 43/100\n",
      "42/42 - 0s - loss: 3194.5774 - mean_squared_error: 3194.5774 - val_loss: 2406.8970 - val_mean_squared_error: 2406.8970\n",
      "Epoch 44/100\n",
      "42/42 - 0s - loss: 3224.7798 - mean_squared_error: 3224.7798 - val_loss: 2665.2380 - val_mean_squared_error: 2665.2380\n",
      "Epoch 45/100\n",
      "42/42 - 0s - loss: 3033.9209 - mean_squared_error: 3033.9209 - val_loss: 2361.6733 - val_mean_squared_error: 2361.6733\n",
      "Epoch 46/100\n",
      "42/42 - 0s - loss: 3201.5532 - mean_squared_error: 3201.5532 - val_loss: 2545.6516 - val_mean_squared_error: 2545.6516\n",
      "Epoch 47/100\n",
      "42/42 - 0s - loss: 3369.8918 - mean_squared_error: 3369.8918 - val_loss: 2839.4629 - val_mean_squared_error: 2839.4629\n",
      "Epoch 48/100\n",
      "42/42 - 0s - loss: 3331.0728 - mean_squared_error: 3331.0728 - val_loss: 2540.4368 - val_mean_squared_error: 2540.4368\n",
      "Epoch 49/100\n",
      "42/42 - 0s - loss: 3244.6843 - mean_squared_error: 3244.6843 - val_loss: 2368.1104 - val_mean_squared_error: 2368.1104\n",
      "Epoch 50/100\n",
      "42/42 - 0s - loss: 3132.6340 - mean_squared_error: 3132.6340 - val_loss: 2483.2927 - val_mean_squared_error: 2483.2927\n",
      "Epoch 51/100\n",
      "42/42 - 0s - loss: 2829.0215 - mean_squared_error: 2829.0215 - val_loss: 2697.2195 - val_mean_squared_error: 2697.2195\n",
      "Epoch 52/100\n",
      "42/42 - 0s - loss: 3116.2996 - mean_squared_error: 3116.2996 - val_loss: 2303.0581 - val_mean_squared_error: 2303.0581\n",
      "Epoch 53/100\n",
      "42/42 - 0s - loss: 3114.1042 - mean_squared_error: 3114.1042 - val_loss: 2286.7498 - val_mean_squared_error: 2286.7498\n",
      "Epoch 54/100\n",
      "42/42 - 0s - loss: 3178.5583 - mean_squared_error: 3178.5583 - val_loss: 2463.4260 - val_mean_squared_error: 2463.4260\n",
      "Epoch 55/100\n",
      "42/42 - 0s - loss: 3084.3044 - mean_squared_error: 3084.3044 - val_loss: 2469.6458 - val_mean_squared_error: 2469.6458\n",
      "Epoch 56/100\n",
      "42/42 - 0s - loss: 2718.0840 - mean_squared_error: 2718.0840 - val_loss: 2445.9155 - val_mean_squared_error: 2445.9155\n",
      "Epoch 57/100\n",
      "42/42 - 0s - loss: 2893.0684 - mean_squared_error: 2893.0684 - val_loss: 2419.5945 - val_mean_squared_error: 2419.5945\n",
      "Epoch 58/100\n",
      "42/42 - 0s - loss: 3135.7844 - mean_squared_error: 3135.7844 - val_loss: 2405.4392 - val_mean_squared_error: 2405.4392\n",
      "Epoch 59/100\n",
      "42/42 - 0s - loss: 2860.7065 - mean_squared_error: 2860.7065 - val_loss: 2279.6770 - val_mean_squared_error: 2279.6770\n",
      "Epoch 60/100\n",
      "42/42 - 0s - loss: 2962.2444 - mean_squared_error: 2962.2444 - val_loss: 2330.1067 - val_mean_squared_error: 2330.1067\n",
      "Epoch 61/100\n",
      "42/42 - 0s - loss: 3253.3020 - mean_squared_error: 3253.3020 - val_loss: 2553.3958 - val_mean_squared_error: 2553.3958\n",
      "Epoch 62/100\n",
      "42/42 - 0s - loss: 3162.5210 - mean_squared_error: 3162.5210 - val_loss: 2385.6394 - val_mean_squared_error: 2385.6394\n",
      "Epoch 63/100\n",
      "42/42 - 0s - loss: 3129.4053 - mean_squared_error: 3129.4053 - val_loss: 2282.0928 - val_mean_squared_error: 2282.0928\n",
      "Epoch 64/100\n",
      "42/42 - 0s - loss: 2898.2859 - mean_squared_error: 2898.2859 - val_loss: 2160.4661 - val_mean_squared_error: 2160.4661\n",
      "Epoch 65/100\n",
      "42/42 - 0s - loss: 3100.1074 - mean_squared_error: 3100.1074 - val_loss: 2171.5081 - val_mean_squared_error: 2171.5081\n",
      "Epoch 66/100\n",
      "42/42 - 0s - loss: 2986.5356 - mean_squared_error: 2986.5356 - val_loss: 2151.4558 - val_mean_squared_error: 2151.4558\n",
      "Epoch 67/100\n",
      "42/42 - 0s - loss: 2747.9314 - mean_squared_error: 2747.9314 - val_loss: 2437.2510 - val_mean_squared_error: 2437.2510\n",
      "Epoch 68/100\n",
      "42/42 - 0s - loss: 2722.9175 - mean_squared_error: 2722.9175 - val_loss: 2177.5315 - val_mean_squared_error: 2177.5315\n",
      "Epoch 69/100\n",
      "42/42 - 0s - loss: 2868.1621 - mean_squared_error: 2868.1621 - val_loss: 2247.8420 - val_mean_squared_error: 2247.8420\n",
      "Epoch 70/100\n",
      "42/42 - 0s - loss: 3382.7122 - mean_squared_error: 3382.7122 - val_loss: 2246.3611 - val_mean_squared_error: 2246.3611\n",
      "Epoch 71/100\n",
      "42/42 - 0s - loss: 3011.5757 - mean_squared_error: 3011.5757 - val_loss: 2282.5146 - val_mean_squared_error: 2282.5146\n",
      "Epoch 72/100\n",
      "42/42 - 0s - loss: 3302.7185 - mean_squared_error: 3302.7185 - val_loss: 2214.2415 - val_mean_squared_error: 2214.2415\n",
      "Epoch 73/100\n",
      "42/42 - 0s - loss: 2966.2344 - mean_squared_error: 2966.2344 - val_loss: 2158.2847 - val_mean_squared_error: 2158.2847\n",
      "Epoch 74/100\n",
      "42/42 - 0s - loss: 2912.9182 - mean_squared_error: 2912.9182 - val_loss: 2162.0095 - val_mean_squared_error: 2162.0095\n",
      "Epoch 75/100\n",
      "42/42 - 0s - loss: 2755.5964 - mean_squared_error: 2755.5964 - val_loss: 2208.0784 - val_mean_squared_error: 2208.0784\n",
      "Epoch 76/100\n",
      "42/42 - 0s - loss: 2997.3955 - mean_squared_error: 2997.3955 - val_loss: 2301.7629 - val_mean_squared_error: 2301.7629\n",
      "Epoch 77/100\n",
      "42/42 - 0s - loss: 2939.0784 - mean_squared_error: 2939.0784 - val_loss: 2500.7197 - val_mean_squared_error: 2500.7197\n",
      "Epoch 78/100\n",
      "42/42 - 0s - loss: 2874.8967 - mean_squared_error: 2874.8967 - val_loss: 2095.2407 - val_mean_squared_error: 2095.2407\n",
      "Epoch 79/100\n",
      "42/42 - 0s - loss: 2914.3889 - mean_squared_error: 2914.3889 - val_loss: 2106.6604 - val_mean_squared_error: 2106.6604\n",
      "Epoch 80/100\n",
      "42/42 - 0s - loss: 2777.0496 - mean_squared_error: 2777.0496 - val_loss: 2050.0681 - val_mean_squared_error: 2050.0681\n",
      "Epoch 81/100\n",
      "42/42 - 0s - loss: 2624.4109 - mean_squared_error: 2624.4109 - val_loss: 2050.5898 - val_mean_squared_error: 2050.5898\n",
      "Epoch 82/100\n",
      "42/42 - 0s - loss: 2862.4182 - mean_squared_error: 2862.4182 - val_loss: 2117.1294 - val_mean_squared_error: 2117.1294\n",
      "Epoch 83/100\n",
      "42/42 - 0s - loss: 2736.6646 - mean_squared_error: 2736.6646 - val_loss: 2120.1218 - val_mean_squared_error: 2120.1218\n",
      "Epoch 84/100\n",
      "42/42 - 0s - loss: 2767.7217 - mean_squared_error: 2767.7217 - val_loss: 2232.5222 - val_mean_squared_error: 2232.5222\n",
      "Epoch 85/100\n",
      "42/42 - 0s - loss: 2678.0195 - mean_squared_error: 2678.0195 - val_loss: 2046.3716 - val_mean_squared_error: 2046.3716\n",
      "Epoch 86/100\n",
      "42/42 - 0s - loss: 3120.2771 - mean_squared_error: 3120.2771 - val_loss: 2211.8547 - val_mean_squared_error: 2211.8547\n",
      "Epoch 87/100\n",
      "42/42 - 0s - loss: 2836.5627 - mean_squared_error: 2836.5627 - val_loss: 2170.6531 - val_mean_squared_error: 2170.6531\n",
      "Epoch 88/100\n",
      "42/42 - 0s - loss: 2559.7583 - mean_squared_error: 2559.7583 - val_loss: 2222.2754 - val_mean_squared_error: 2222.2754\n",
      "Epoch 89/100\n",
      "42/42 - 0s - loss: 2938.4736 - mean_squared_error: 2938.4736 - val_loss: 2214.6658 - val_mean_squared_error: 2214.6658\n",
      "Epoch 90/100\n",
      "42/42 - 0s - loss: 2797.5710 - mean_squared_error: 2797.5710 - val_loss: 2069.2900 - val_mean_squared_error: 2069.2900\n",
      "Epoch 91/100\n",
      "42/42 - 0s - loss: 2779.3250 - mean_squared_error: 2779.3250 - val_loss: 2197.2234 - val_mean_squared_error: 2197.2234\n",
      "Epoch 92/100\n",
      "42/42 - 0s - loss: 2687.6025 - mean_squared_error: 2687.6025 - val_loss: 2129.2708 - val_mean_squared_error: 2129.2708\n",
      "Epoch 93/100\n",
      "42/42 - 0s - loss: 2954.1104 - mean_squared_error: 2954.1104 - val_loss: 2123.1379 - val_mean_squared_error: 2123.1379\n",
      "Epoch 94/100\n",
      "42/42 - 0s - loss: 2427.5159 - mean_squared_error: 2427.5159 - val_loss: 2100.5186 - val_mean_squared_error: 2100.5186\n",
      "Epoch 95/100\n",
      "42/42 - 0s - loss: 2764.2339 - mean_squared_error: 2764.2339 - val_loss: 2109.4946 - val_mean_squared_error: 2109.4946\n",
      "Epoch 96/100\n",
      "42/42 - 0s - loss: 2610.1958 - mean_squared_error: 2610.1958 - val_loss: 2129.6877 - val_mean_squared_error: 2129.6877\n",
      "Epoch 97/100\n",
      "42/42 - 0s - loss: 2746.9866 - mean_squared_error: 2746.9866 - val_loss: 2048.0759 - val_mean_squared_error: 2048.0759\n",
      "Epoch 98/100\n",
      "42/42 - 0s - loss: 2835.5566 - mean_squared_error: 2835.5566 - val_loss: 2555.3174 - val_mean_squared_error: 2555.3174\n",
      "Epoch 99/100\n",
      "42/42 - 0s - loss: 2724.9348 - mean_squared_error: 2724.9348 - val_loss: 2144.6064 - val_mean_squared_error: 2144.6064\n",
      "Epoch 100/100\n",
      "42/42 - 0s - loss: 2715.4668 - mean_squared_error: 2715.4668 - val_loss: 2006.6616 - val_mean_squared_error: 2006.6616\n"
     ]
    }
   ],
   "source": [
    "# Fit modle\n",
    "history = model.fit(x_train, y_train, epochs=100, validation_data=(x_test,y_test),verbose=2)"
   ]
  },
  {
   "cell_type": "code",
   "execution_count": 11,
   "id": "8cb77c65",
   "metadata": {
    "execution": {
     "iopub.execute_input": "2022-06-01T04:23:29.729838Z",
     "iopub.status.busy": "2022-06-01T04:23:29.729324Z",
     "iopub.status.idle": "2022-06-01T04:23:30.110460Z",
     "shell.execute_reply": "2022-06-01T04:23:30.109500Z"
    },
    "papermill": {
     "duration": 0.44984,
     "end_time": "2022-06-01T04:23:30.112929",
     "exception": false,
     "start_time": "2022-06-01T04:23:29.663089",
     "status": "completed"
    },
    "tags": []
   },
   "outputs": [
    {
     "data": {
      "image/png": "[encoded data removed]",
      "text/plain": [
       "<Figure size 432x288 with 1 Axes>"
      ]
     },
     "metadata": {
      "needs_background": "light"
     },
     "output_type": "display_data"
    },
    {
     "data": {
      "image/png": "[encoded data removed]",
      "text/plain": [
       "<Figure size 432x288 with 1 Axes>"
      ]
     },
     "metadata": {
      "needs_background": "light"
     },
     "output_type": "display_data"
    }
   ],
   "source": [
    "plt.plot(history.history['loss'])\n",
    "plt.plot(history.history['val_loss'])\n",
    "plt.ylabel('loss')\n",
    "plt.xlabel('epoch')\n",
    "plt.legend(['train_loss','val_loss'])\n",
    "plt.show()\n",
    "\n",
    "plt.plot(history.history['mean_squared_error'])\n",
    "plt.plot(history.history['val_mean_squared_error'])\n",
    "plt.ylabel('mean_squared_error')\n",
    "plt.xlabel('epoch')\n",
    "plt.legend(['train_accuracy','val_accuracy'])\n",
    "plt.show()"
   ]
  },
  {
   "cell_type": "code",
   "execution_count": 12,
   "id": "dac49f59",
   "metadata": {
    "execution": {
     "iopub.execute_input": "2022-06-01T04:23:30.249585Z",
     "iopub.status.busy": "2022-06-01T04:23:30.249289Z",
     "iopub.status.idle": "2022-06-01T04:23:30.472595Z",
     "shell.execute_reply": "2022-06-01T04:23:30.471579Z"
    },
    "papermill": {
     "duration": 0.294425,
     "end_time": "2022-06-01T04:23:30.474984",
     "exception": false,
     "start_time": "2022-06-01T04:23:30.180559",
     "status": "completed"
    },
    "tags": []
   },
   "outputs": [],
   "source": [
    "result = model.predict(test_data)\n",
    "submission = pd.read_csv('../input/cycle-seoul/submission.csv')\n",
    "submission['count'] = result\n",
    "submission = submission.set_index('id')\n",
    "submission.to_csv('submission.csv')"
   ]
  },
  {
   "cell_type": "code",
   "execution_count": null,
   "id": "5362da5b",
   "metadata": {
    "papermill": {
     "duration": 0.069292,
     "end_time": "2022-06-01T04:23:30.613672",
     "exception": false,
     "start_time": "2022-06-01T04:23:30.544380",
     "status": "completed"
    },
    "tags": []
   },
   "outputs": [],
   "source": []
  }
 ],
 "metadata": {
  "kernelspec": {
   "display_name": "Python 3",
   "language": "python",
   "name": "python3"
  },
  "language_info": {
   "codemirror_mode": {
    "name": "ipython",
    "version": 3
   },
   "file_extension": ".py",
   "mimetype": "text/x-python",
   "name": "python",
   "nbconvert_exporter": "python",
   "pygments_lexer": "ipython3",
   "version": "3.7.12"
  },
  "papermill": {
   "default_parameters": {},
   "duration": 42.510422,
   "end_time": "2022-06-01T04:23:33.596986",
   "environment_variables": {},
   "exception": null,
   "input_path": "__notebook__.ipynb",
   "output_path": "__notebook__.ipynb",
   "parameters": {},
   "start_time": "2022-06-01T04:22:51.086564",
   "version": "2.3.4"
  }
 },
 "nbformat": 4,
 "nbformat_minor": 5
}
