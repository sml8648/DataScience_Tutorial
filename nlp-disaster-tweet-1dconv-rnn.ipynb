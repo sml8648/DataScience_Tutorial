{
 "cells": [
  {
   "cell_type": "code",
   "execution_count": 1,
   "id": "d24e6777",
   "metadata": {
    "_cell_guid": "b1076dfc-b9ad-4769-8c92-a6c4dae69d19",
    "_uuid": "8f2839f25d086af736a60e9eeb907d3b93b6e0e5",
    "execution": {
     "iopub.execute_input": "2022-07-18T13:13:12.156722Z",
     "iopub.status.busy": "2022-07-18T13:13:12.156103Z",
     "iopub.status.idle": "2022-07-18T13:13:12.182245Z",
     "shell.execute_reply": "2022-07-18T13:13:12.181086Z"
    },
    "papermill": {
     "duration": 0.041102,
     "end_time": "2022-07-18T13:13:12.185257",
     "exception": false,
     "start_time": "2022-07-18T13:13:12.144155",
     "status": "completed"
    },
    "tags": []
   },
   "outputs": [
    {
     "name": "stdout",
     "output_type": "stream",
     "text": [
      "/kaggle/input/glove6b100dtxt/glove.6B.100d.txt\n",
      "/kaggle/input/nlp-getting-started/sample_submission.csv\n",
      "/kaggle/input/nlp-getting-started/train.csv\n",
      "/kaggle/input/nlp-getting-started/test.csv\n"
     ]
    }
   ],
   "source": [
    "# This Python 3 environment comes with many helpful analytics libraries installed\n",
    "# It is defined by the kaggle/python Docker image: https://github.com/kaggle/docker-python\n",
    "# For example, here's several helpful packages to load\n",
    "\n",
    "import numpy as np # linear algebra\n",
    "import pandas as pd # data processing, CSV file I/O (e.g. pd.read_csv)\n",
    "\n",
    "# Input data files are available in the read-only \"../input/\" directory\n",
    "# For example, running this (by clicking run or pressing Shift+Enter) will list all files under the input directory\n",
    "\n",
    "import os\n",
    "for dirname, _, filenames in os.walk('/kaggle/input'):\n",
    "    for filename in filenames:\n",
    "        print(os.path.join(dirname, filename))\n",
    "\n",
    "# You can write up to 20GB to the current directory (/kaggle/working/) that gets preserved as output when you create a version using \"Save & Run All\" \n",
    "# You can also write temporary files to /kaggle/temp/, but they won't be saved outside of the current session"
   ]
  },
  {
   "cell_type": "code",
   "execution_count": 2,
   "id": "43e75033",
   "metadata": {
    "execution": {
     "iopub.execute_input": "2022-07-18T13:13:12.205307Z",
     "iopub.status.busy": "2022-07-18T13:13:12.204927Z",
     "iopub.status.idle": "2022-07-18T13:13:24.326272Z",
     "shell.execute_reply": "2022-07-18T13:13:24.325123Z"
    },
    "papermill": {
     "duration": 12.134732,
     "end_time": "2022-07-18T13:13:24.329278",
     "exception": false,
     "start_time": "2022-07-18T13:13:12.194546",
     "status": "completed"
    },
    "tags": []
   },
   "outputs": [],
   "source": [
    "import pandas as pd\n",
    "import matplotlib.pyplot as plt\n",
    "import seaborn as sns\n",
    "import numpy as np\n",
    "from nltk.corpus import stopwords\n",
    "from nltk.util import ngrams\n",
    "from sklearn.feature_extraction.text import CountVectorizer\n",
    "from collections import defaultdict\n",
    "from collections import  Counter\n",
    "plt.style.use('ggplot')\n",
    "stop=set(stopwords.words('english'))\n",
    "import re\n",
    "from nltk.tokenize import word_tokenize\n",
    "import gensim\n",
    "import string\n",
    "from tensorflow import keras\n",
    "from keras.preprocessing.text import Tokenizer\n",
    "from keras.preprocessing.sequence import pad_sequences\n",
    "from tqdm import tqdm\n",
    "from sklearn.model_selection import train_test_split\n",
    "\n",
    "import warnings\n",
    "warnings.filterwarnings('ignore')"
   ]
  },
  {
   "cell_type": "code",
   "execution_count": 3,
   "id": "150530a0",
   "metadata": {
    "execution": {
     "iopub.execute_input": "2022-07-18T13:13:24.350199Z",
     "iopub.status.busy": "2022-07-18T13:13:24.348674Z",
     "iopub.status.idle": "2022-07-18T13:13:26.023852Z",
     "shell.execute_reply": "2022-07-18T13:13:26.022680Z"
    },
    "papermill": {
     "duration": 1.688185,
     "end_time": "2022-07-18T13:13:26.026568",
     "exception": false,
     "start_time": "2022-07-18T13:13:24.338383",
     "status": "completed"
    },
    "tags": []
   },
   "outputs": [],
   "source": [
    "from torch.utils.data import Dataset, DataLoader\n",
    "\n",
    "import torch\n",
    "import torch.nn as nn\n",
    "import torch.nn.functional as F\n",
    "import torch.optim as optim"
   ]
  },
  {
   "cell_type": "code",
   "execution_count": 4,
   "id": "639a57ff",
   "metadata": {
    "execution": {
     "iopub.execute_input": "2022-07-18T13:13:26.046430Z",
     "iopub.status.busy": "2022-07-18T13:13:26.045665Z",
     "iopub.status.idle": "2022-07-18T13:13:26.119247Z",
     "shell.execute_reply": "2022-07-18T13:13:26.117992Z"
    },
    "papermill": {
     "duration": 0.086454,
     "end_time": "2022-07-18T13:13:26.122001",
     "exception": false,
     "start_time": "2022-07-18T13:13:26.035547",
     "status": "completed"
    },
    "tags": []
   },
   "outputs": [],
   "source": [
    "tweet = pd.read_csv('../input/nlp-getting-started/train.csv')\n",
    "test = pd.read_csv('../input/nlp-getting-started/test.csv')"
   ]
  },
  {
   "cell_type": "code",
   "execution_count": 5,
   "id": "ec5182d7",
   "metadata": {
    "execution": {
     "iopub.execute_input": "2022-07-18T13:13:26.141828Z",
     "iopub.status.busy": "2022-07-18T13:13:26.141414Z",
     "iopub.status.idle": "2022-07-18T13:13:26.356810Z",
     "shell.execute_reply": "2022-07-18T13:13:26.355502Z"
    },
    "papermill": {
     "duration": 0.227961,
     "end_time": "2022-07-18T13:13:26.359130",
     "exception": false,
     "start_time": "2022-07-18T13:13:26.131169",
     "status": "completed"
    },
    "tags": []
   },
   "outputs": [
    {
     "data": {
      "text/plain": [
       "Text(0, 0.5, 'sample')"
      ]
     },
     "execution_count": 5,
     "metadata": {},
     "output_type": "execute_result"
    },
    {
     "data": {
      "image/png": "[encoded data removed]",
      "text/plain": [
       "<Figure size 432x288 with 1 Axes>"
      ]
     },
     "metadata": {},
     "output_type": "display_data"
    }
   ],
   "source": [
    "x=tweet.target.value_counts()\n",
    "sns.barplot(x.index,x)\n",
    "plt.gca().set_ylabel('sample')"
   ]
  },
  {
   "cell_type": "markdown",
   "id": "e4678315",
   "metadata": {
    "papermill": {
     "duration": 0.009259,
     "end_time": "2022-07-18T13:13:26.378520",
     "exception": false,
     "start_time": "2022-07-18T13:13:26.369261",
     "status": "completed"
    },
    "tags": []
   },
   "source": [
    "# Preprocess\n",
    "\n",
    "<h5> Based on thie kernel => https://www.kaggle.com/code/shahules/basic-eda-cleaning-and-glove </h5>"
   ]
  },
  {
   "cell_type": "code",
   "execution_count": 6,
   "id": "7f514889",
   "metadata": {
    "execution": {
     "iopub.execute_input": "2022-07-18T13:13:26.401781Z",
     "iopub.status.busy": "2022-07-18T13:13:26.401170Z",
     "iopub.status.idle": "2022-07-18T13:13:26.411066Z",
     "shell.execute_reply": "2022-07-18T13:13:26.409974Z"
    },
    "papermill": {
     "duration": 0.024237,
     "end_time": "2022-07-18T13:13:26.413723",
     "exception": false,
     "start_time": "2022-07-18T13:13:26.389486",
     "status": "completed"
    },
    "tags": []
   },
   "outputs": [],
   "source": [
    "df = pd.concat([tweet, test])"
   ]
  },
  {
   "cell_type": "code",
   "execution_count": 7,
   "id": "dd2e7723",
   "metadata": {
    "execution": {
     "iopub.execute_input": "2022-07-18T13:13:26.434748Z",
     "iopub.status.busy": "2022-07-18T13:13:26.433870Z",
     "iopub.status.idle": "2022-07-18T13:13:26.490188Z",
     "shell.execute_reply": "2022-07-18T13:13:26.489135Z"
    },
    "papermill": {
     "duration": 0.069775,
     "end_time": "2022-07-18T13:13:26.492946",
     "exception": false,
     "start_time": "2022-07-18T13:13:26.423171",
     "status": "completed"
    },
    "tags": []
   },
   "outputs": [],
   "source": [
    "def remove_URL(text):\n",
    "    url = re.compile(r'https?://\\S+|www\\.\\S+')\n",
    "    return url.sub(r'',text)\n",
    "\n",
    "df['text'] = df['text'].apply(lambda x : remove_URL(x))"
   ]
  },
  {
   "cell_type": "code",
   "execution_count": 8,
   "id": "82f4babb",
   "metadata": {
    "execution": {
     "iopub.execute_input": "2022-07-18T13:13:26.513904Z",
     "iopub.status.busy": "2022-07-18T13:13:26.513018Z",
     "iopub.status.idle": "2022-07-18T13:13:26.536971Z",
     "shell.execute_reply": "2022-07-18T13:13:26.535857Z"
    },
    "papermill": {
     "duration": 0.037168,
     "end_time": "2022-07-18T13:13:26.539585",
     "exception": false,
     "start_time": "2022-07-18T13:13:26.502417",
     "status": "completed"
    },
    "tags": []
   },
   "outputs": [],
   "source": [
    "def remove_html(text):\n",
    "    html=re.compile(r'<.*?>')\n",
    "    return html.sub(r'',text)\n",
    "\n",
    "df['text'] = df['text'].apply(lambda x : remove_html(x))"
   ]
  },
  {
   "cell_type": "code",
   "execution_count": 9,
   "id": "97d5583d",
   "metadata": {
    "execution": {
     "iopub.execute_input": "2022-07-18T13:13:26.560111Z",
     "iopub.status.busy": "2022-07-18T13:13:26.559733Z",
     "iopub.status.idle": "2022-07-18T13:13:26.655413Z",
     "shell.execute_reply": "2022-07-18T13:13:26.654234Z"
    },
    "papermill": {
     "duration": 0.109452,
     "end_time": "2022-07-18T13:13:26.658326",
     "exception": false,
     "start_time": "2022-07-18T13:13:26.548874",
     "status": "completed"
    },
    "tags": []
   },
   "outputs": [],
   "source": [
    "def remove_emoji(text):\n",
    "    emoji_pattern = re.compile(\"[\"\n",
    "                           u\"\\U0001F600-\\U0001F64F\"  # emoticons\n",
    "                           u\"\\U0001F300-\\U0001F5FF\"  # symbols & pictographs\n",
    "                           u\"\\U0001F680-\\U0001F6FF\"  # transport & map symbols\n",
    "                           u\"\\U0001F1E0-\\U0001F1FF\"  # flags (iOS)\n",
    "                           u\"\\U00002702-\\U000027B0\"\n",
    "                           u\"\\U000024C2-\\U0001F251\"\n",
    "                           \"]+\", flags=re.UNICODE)\n",
    "    return emoji_pattern.sub(r'', text)\n",
    "\n",
    "df['text'] = df['text'].apply(lambda x : remove_emoji(x))"
   ]
  },
  {
   "cell_type": "code",
   "execution_count": 10,
   "id": "e576d8a6",
   "metadata": {
    "execution": {
     "iopub.execute_input": "2022-07-18T13:13:26.679521Z",
     "iopub.status.busy": "2022-07-18T13:13:26.679136Z",
     "iopub.status.idle": "2022-07-18T13:13:26.751240Z",
     "shell.execute_reply": "2022-07-18T13:13:26.750225Z"
    },
    "papermill": {
     "duration": 0.085572,
     "end_time": "2022-07-18T13:13:26.753789",
     "exception": false,
     "start_time": "2022-07-18T13:13:26.668217",
     "status": "completed"
    },
    "tags": []
   },
   "outputs": [],
   "source": [
    "def remove_punct(text):\n",
    "    table = str.maketrans('','',string.punctuation)\n",
    "    return text.translate(table)\n",
    "\n",
    "df['text'] = df['text'].apply(lambda x : remove_punct(x))"
   ]
  },
  {
   "cell_type": "code",
   "execution_count": 11,
   "id": "0e87f585",
   "metadata": {
    "execution": {
     "iopub.execute_input": "2022-07-18T13:13:26.774648Z",
     "iopub.status.busy": "2022-07-18T13:13:26.774107Z",
     "iopub.status.idle": "2022-07-18T13:13:26.795623Z",
     "shell.execute_reply": "2022-07-18T13:13:26.794675Z"
    },
    "papermill": {
     "duration": 0.034917,
     "end_time": "2022-07-18T13:13:26.797996",
     "exception": false,
     "start_time": "2022-07-18T13:13:26.763079",
     "status": "completed"
    },
    "tags": []
   },
   "outputs": [
    {
     "data": {
      "text/html": [
       "<div>\n",
       "<style scoped>\n",
       "    .dataframe tbody tr th:only-of-type {\n",
       "        vertical-align: middle;\n",
       "    }\n",
       "\n",
       "    .dataframe tbody tr th {\n",
       "        vertical-align: top;\n",
       "    }\n",
       "\n",
       "    .dataframe thead th {\n",
       "        text-align: right;\n",
       "    }\n",
       "</style>\n",
       "<table border=\"1\" class=\"dataframe\">\n",
       "  <thead>\n",
       "    <tr style=\"text-align: right;\">\n",
       "      <th></th>\n",
       "      <th>id</th>\n",
       "      <th>keyword</th>\n",
       "      <th>location</th>\n",
       "      <th>text</th>\n",
       "      <th>target</th>\n",
       "    </tr>\n",
       "  </thead>\n",
       "  <tbody>\n",
       "    <tr>\n",
       "      <th>0</th>\n",
       "      <td>1</td>\n",
       "      <td>NaN</td>\n",
       "      <td>NaN</td>\n",
       "      <td>Our Deeds are the Reason of this earthquake Ma...</td>\n",
       "      <td>1.0</td>\n",
       "    </tr>\n",
       "    <tr>\n",
       "      <th>1</th>\n",
       "      <td>4</td>\n",
       "      <td>NaN</td>\n",
       "      <td>NaN</td>\n",
       "      <td>Forest fire near La Ronge Sask Canada</td>\n",
       "      <td>1.0</td>\n",
       "    </tr>\n",
       "    <tr>\n",
       "      <th>2</th>\n",
       "      <td>5</td>\n",
       "      <td>NaN</td>\n",
       "      <td>NaN</td>\n",
       "      <td>All residents asked to shelter in place are be...</td>\n",
       "      <td>1.0</td>\n",
       "    </tr>\n",
       "    <tr>\n",
       "      <th>3</th>\n",
       "      <td>6</td>\n",
       "      <td>NaN</td>\n",
       "      <td>NaN</td>\n",
       "      <td>13000 people receive wildfires evacuation orde...</td>\n",
       "      <td>1.0</td>\n",
       "    </tr>\n",
       "    <tr>\n",
       "      <th>4</th>\n",
       "      <td>7</td>\n",
       "      <td>NaN</td>\n",
       "      <td>NaN</td>\n",
       "      <td>Just got sent this photo from Ruby Alaska as s...</td>\n",
       "      <td>1.0</td>\n",
       "    </tr>\n",
       "    <tr>\n",
       "      <th>...</th>\n",
       "      <td>...</td>\n",
       "      <td>...</td>\n",
       "      <td>...</td>\n",
       "      <td>...</td>\n",
       "      <td>...</td>\n",
       "    </tr>\n",
       "    <tr>\n",
       "      <th>3258</th>\n",
       "      <td>10861</td>\n",
       "      <td>NaN</td>\n",
       "      <td>NaN</td>\n",
       "      <td>EARTHQUAKE SAFETY LOS ANGELES ÛÒ SAFETY FASTE...</td>\n",
       "      <td>NaN</td>\n",
       "    </tr>\n",
       "    <tr>\n",
       "      <th>3259</th>\n",
       "      <td>10865</td>\n",
       "      <td>NaN</td>\n",
       "      <td>NaN</td>\n",
       "      <td>Storm in RI worse than last hurricane My citya...</td>\n",
       "      <td>NaN</td>\n",
       "    </tr>\n",
       "    <tr>\n",
       "      <th>3260</th>\n",
       "      <td>10868</td>\n",
       "      <td>NaN</td>\n",
       "      <td>NaN</td>\n",
       "      <td>Green Line derailment in Chicago</td>\n",
       "      <td>NaN</td>\n",
       "    </tr>\n",
       "    <tr>\n",
       "      <th>3261</th>\n",
       "      <td>10874</td>\n",
       "      <td>NaN</td>\n",
       "      <td>NaN</td>\n",
       "      <td>MEG issues Hazardous Weather Outlook HWO</td>\n",
       "      <td>NaN</td>\n",
       "    </tr>\n",
       "    <tr>\n",
       "      <th>3262</th>\n",
       "      <td>10875</td>\n",
       "      <td>NaN</td>\n",
       "      <td>NaN</td>\n",
       "      <td>CityofCalgary has activated its Municipal Emer...</td>\n",
       "      <td>NaN</td>\n",
       "    </tr>\n",
       "  </tbody>\n",
       "</table>\n",
       "<p>10876 rows × 5 columns</p>\n",
       "</div>"
      ],
      "text/plain": [
       "         id keyword location  \\\n",
       "0         1     NaN      NaN   \n",
       "1         4     NaN      NaN   \n",
       "2         5     NaN      NaN   \n",
       "3         6     NaN      NaN   \n",
       "4         7     NaN      NaN   \n",
       "...     ...     ...      ...   \n",
       "3258  10861     NaN      NaN   \n",
       "3259  10865     NaN      NaN   \n",
       "3260  10868     NaN      NaN   \n",
       "3261  10874     NaN      NaN   \n",
       "3262  10875     NaN      NaN   \n",
       "\n",
       "                                                   text  target  \n",
       "0     Our Deeds are the Reason of this earthquake Ma...     1.0  \n",
       "1                 Forest fire near La Ronge Sask Canada     1.0  \n",
       "2     All residents asked to shelter in place are be...     1.0  \n",
       "3     13000 people receive wildfires evacuation orde...     1.0  \n",
       "4     Just got sent this photo from Ruby Alaska as s...     1.0  \n",
       "...                                                 ...     ...  \n",
       "3258  EARTHQUAKE SAFETY LOS ANGELES ÛÒ SAFETY FASTE...     NaN  \n",
       "3259  Storm in RI worse than last hurricane My citya...     NaN  \n",
       "3260                  Green Line derailment in Chicago      NaN  \n",
       "3261          MEG issues Hazardous Weather Outlook HWO      NaN  \n",
       "3262  CityofCalgary has activated its Municipal Emer...     NaN  \n",
       "\n",
       "[10876 rows x 5 columns]"
      ]
     },
     "execution_count": 11,
     "metadata": {},
     "output_type": "execute_result"
    }
   ],
   "source": [
    "df"
   ]
  },
  {
   "cell_type": "code",
   "execution_count": 12,
   "id": "985516f2",
   "metadata": {
    "execution": {
     "iopub.execute_input": "2022-07-18T13:13:26.819076Z",
     "iopub.status.busy": "2022-07-18T13:13:26.818694Z",
     "iopub.status.idle": "2022-07-18T13:13:29.236897Z",
     "shell.execute_reply": "2022-07-18T13:13:29.236008Z"
    },
    "papermill": {
     "duration": 2.431724,
     "end_time": "2022-07-18T13:13:29.239478",
     "exception": false,
     "start_time": "2022-07-18T13:13:26.807754",
     "status": "completed"
    },
    "tags": []
   },
   "outputs": [
    {
     "name": "stderr",
     "output_type": "stream",
     "text": [
      "100%|██████████| 10876/10876 [00:02<00:00, 4518.61it/s]\n"
     ]
    }
   ],
   "source": [
    "def create_corpus(df):\n",
    "    corpus = []\n",
    "    for tweet in tqdm(df['text']):\n",
    "        words = [word.lower() for word in word_tokenize(tweet) if ((word.isalpha() == 1) & (word not in stop))]\n",
    "        \n",
    "        corpus.append(words)\n",
    "        \n",
    "    return corpus\n",
    "\n",
    "corpus = create_corpus(df)"
   ]
  },
  {
   "cell_type": "code",
   "execution_count": 13,
   "id": "f25a381b",
   "metadata": {
    "execution": {
     "iopub.execute_input": "2022-07-18T13:13:29.264483Z",
     "iopub.status.busy": "2022-07-18T13:13:29.263903Z",
     "iopub.status.idle": "2022-07-18T13:13:29.728182Z",
     "shell.execute_reply": "2022-07-18T13:13:29.727061Z"
    },
    "papermill": {
     "duration": 0.479742,
     "end_time": "2022-07-18T13:13:29.730891",
     "exception": false,
     "start_time": "2022-07-18T13:13:29.251149",
     "status": "completed"
    },
    "tags": []
   },
   "outputs": [],
   "source": [
    "MAX_LEN = 50\n",
    "tokenizer_obj = Tokenizer()\n",
    "tokenizer_obj.fit_on_texts(corpus)\n",
    "sequences = tokenizer_obj.texts_to_sequences(corpus)\n",
    "tweet_pad = pad_sequences(sequences, maxlen=MAX_LEN, truncating='post', padding='post')\n",
    "\n",
    "word_index = tokenizer_obj.word_index"
   ]
  },
  {
   "cell_type": "code",
   "execution_count": 14,
   "id": "5f8349bd",
   "metadata": {
    "execution": {
     "iopub.execute_input": "2022-07-18T13:13:29.755194Z",
     "iopub.status.busy": "2022-07-18T13:13:29.754804Z",
     "iopub.status.idle": "2022-07-18T13:13:29.762535Z",
     "shell.execute_reply": "2022-07-18T13:13:29.761410Z"
    },
    "papermill": {
     "duration": 0.022803,
     "end_time": "2022-07-18T13:13:29.764982",
     "exception": false,
     "start_time": "2022-07-18T13:13:29.742179",
     "status": "completed"
    },
    "tags": []
   },
   "outputs": [
    {
     "data": {
      "text/plain": [
       "{'i': 1,\n",
       " 'the': 2,\n",
       " 'like': 3,\n",
       " 'amp': 4,\n",
       " 'im': 5,\n",
       " 'a': 6,\n",
       " 'fire': 7,\n",
       " 'get': 8,\n",
       " 'new': 9,\n",
       " 'via': 10}"
      ]
     },
     "execution_count": 14,
     "metadata": {},
     "output_type": "execute_result"
    }
   ],
   "source": [
    "from itertools import islice\n",
    "\n",
    "# Word index result\n",
    "dict(islice(word_index.items(), 0, 10))"
   ]
  },
  {
   "cell_type": "markdown",
   "id": "625684a2",
   "metadata": {
    "papermill": {
     "duration": 0.011201,
     "end_time": "2022-07-18T13:13:29.787451",
     "exception": false,
     "start_time": "2022-07-18T13:13:29.776250",
     "status": "completed"
    },
    "tags": []
   },
   "source": [
    "# DataLoader"
   ]
  },
  {
   "cell_type": "code",
   "execution_count": 15,
   "id": "5f0181d3",
   "metadata": {
    "execution": {
     "iopub.execute_input": "2022-07-18T13:13:29.813028Z",
     "iopub.status.busy": "2022-07-18T13:13:29.812369Z",
     "iopub.status.idle": "2022-07-18T13:13:29.821516Z",
     "shell.execute_reply": "2022-07-18T13:13:29.820741Z"
    },
    "papermill": {
     "duration": 0.024621,
     "end_time": "2022-07-18T13:13:29.823796",
     "exception": false,
     "start_time": "2022-07-18T13:13:29.799175",
     "status": "completed"
    },
    "tags": []
   },
   "outputs": [],
   "source": [
    "# Convert tweet_pad to Long tensor\n",
    "total = torch.Tensor(tweet_pad)\n",
    "total = total.to(torch.long)"
   ]
  },
  {
   "cell_type": "code",
   "execution_count": 16,
   "id": "ea0d1e44",
   "metadata": {
    "execution": {
     "iopub.execute_input": "2022-07-18T13:13:29.849724Z",
     "iopub.status.busy": "2022-07-18T13:13:29.848932Z",
     "iopub.status.idle": "2022-07-18T13:13:29.858610Z",
     "shell.execute_reply": "2022-07-18T13:13:29.857484Z"
    },
    "papermill": {
     "duration": 0.025959,
     "end_time": "2022-07-18T13:13:29.861209",
     "exception": false,
     "start_time": "2022-07-18T13:13:29.835250",
     "status": "completed"
    },
    "tags": []
   },
   "outputs": [],
   "source": [
    "# Split train and test dataset\n",
    "X_train = total[:7613]\n",
    "y_train = torch.Tensor(df['target'].iloc[:7613])\n",
    "\n",
    "X_test = total[7613:]\n",
    "\n",
    "# Split tran and valid datset\n",
    "train_cnt = int(X_train.size(0)*0.8)\n",
    "valid_cnt = X_train.size(0) - train_cnt\n",
    "\n",
    "indices = torch.randperm(X_train.size(0))"
   ]
  },
  {
   "cell_type": "code",
   "execution_count": 17,
   "id": "e9f44441",
   "metadata": {
    "execution": {
     "iopub.execute_input": "2022-07-18T13:13:29.886417Z",
     "iopub.status.busy": "2022-07-18T13:13:29.885616Z",
     "iopub.status.idle": "2022-07-18T13:13:29.899186Z",
     "shell.execute_reply": "2022-07-18T13:13:29.898227Z"
    },
    "papermill": {
     "duration": 0.029131,
     "end_time": "2022-07-18T13:13:29.901719",
     "exception": false,
     "start_time": "2022-07-18T13:13:29.872588",
     "status": "completed"
    },
    "tags": []
   },
   "outputs": [],
   "source": [
    "train_x, valid_x = torch.index_select(\n",
    "    X_train,\n",
    "    dim = 0,\n",
    "    index=indices\n",
    ").split([train_cnt, valid_cnt], dim=0)\n",
    "\n",
    "\n",
    "train_y, valid_y = torch.index_select(\n",
    "    y_train,\n",
    "    dim=0,\n",
    "    index=indices\n",
    ").split([train_cnt, valid_cnt],dim=0)"
   ]
  },
  {
   "cell_type": "code",
   "execution_count": 18,
   "id": "c9fe2a74",
   "metadata": {
    "execution": {
     "iopub.execute_input": "2022-07-18T13:13:29.926165Z",
     "iopub.status.busy": "2022-07-18T13:13:29.925790Z",
     "iopub.status.idle": "2022-07-18T13:13:29.933145Z",
     "shell.execute_reply": "2022-07-18T13:13:29.931959Z"
    },
    "papermill": {
     "duration": 0.022201,
     "end_time": "2022-07-18T13:13:29.935455",
     "exception": false,
     "start_time": "2022-07-18T13:13:29.913254",
     "status": "completed"
    },
    "tags": []
   },
   "outputs": [],
   "source": [
    "class TweetLoader(Dataset):\n",
    "    \n",
    "    def __init__(self, data, labels):\n",
    "        self.data = data\n",
    "        self.labels = labels.long()\n",
    "        \n",
    "        super().__init__()\n",
    "        \n",
    "    def __len__(self):\n",
    "        return self.data.size(0)\n",
    "    \n",
    "    def __getitem__(self, idx):\n",
    "        \n",
    "        x = self.data[idx]\n",
    "        y = self.labels[idx]\n",
    "        \n",
    "        return x,y"
   ]
  },
  {
   "cell_type": "code",
   "execution_count": 19,
   "id": "6a69b49b",
   "metadata": {
    "execution": {
     "iopub.execute_input": "2022-07-18T13:13:29.960455Z",
     "iopub.status.busy": "2022-07-18T13:13:29.959636Z",
     "iopub.status.idle": "2022-07-18T13:13:29.965967Z",
     "shell.execute_reply": "2022-07-18T13:13:29.965070Z"
    },
    "papermill": {
     "duration": 0.021464,
     "end_time": "2022-07-18T13:13:29.968259",
     "exception": false,
     "start_time": "2022-07-18T13:13:29.946795",
     "status": "completed"
    },
    "tags": []
   },
   "outputs": [],
   "source": [
    "train_loader = DataLoader(\n",
    "    dataset=TweetLoader(train_x, train_y),\n",
    "    batch_size=32,\n",
    "    shuffle=True\n",
    ")\n",
    "\n",
    "valid_loader = DataLoader(\n",
    "    dataset=TweetLoader(valid_x, valid_y),\n",
    "    batch_size=32,\n",
    "    shuffle=True\n",
    ")"
   ]
  },
  {
   "cell_type": "markdown",
   "id": "43f9afad",
   "metadata": {
    "papermill": {
     "duration": 0.010981,
     "end_time": "2022-07-18T13:13:29.990469",
     "exception": false,
     "start_time": "2022-07-18T13:13:29.979488",
     "status": "completed"
    },
    "tags": []
   },
   "source": [
    "# Model\n",
    "\n",
    "<h5> 1DConvNet and Rnn LSTM"
   ]
  },
  {
   "cell_type": "code",
   "execution_count": 20,
   "id": "dca1f425",
   "metadata": {
    "execution": {
     "iopub.execute_input": "2022-07-18T13:13:30.015799Z",
     "iopub.status.busy": "2022-07-18T13:13:30.015011Z",
     "iopub.status.idle": "2022-07-18T13:13:30.036165Z",
     "shell.execute_reply": "2022-07-18T13:13:30.035327Z"
    },
    "papermill": {
     "duration": 0.037021,
     "end_time": "2022-07-18T13:13:30.039010",
     "exception": false,
     "start_time": "2022-07-18T13:13:30.001989",
     "status": "completed"
    },
    "tags": []
   },
   "outputs": [],
   "source": [
    "class CNNClassifier(nn.Module):\n",
    "\n",
    "    def __init__(\n",
    "        self,\n",
    "        input_size,\n",
    "        word_vec_size,\n",
    "        n_classes,\n",
    "        use_batch_norm=False,\n",
    "        dropout_p=.5,\n",
    "        window_sizes=[3,4,5],\n",
    "        n_filters=[100,100,100],\n",
    "    ):\n",
    "        self.input_size = input_size\n",
    "        self.word_vec_size = word_vec_size\n",
    "        self.n_classes = n_classes\n",
    "        self.use_batch_norm = use_batch_norm\n",
    "        self.dropout_p = dropout_p\n",
    "\n",
    "        self.window_sizes = window_sizes\n",
    "        self.n_filters = n_filters\n",
    "\n",
    "        super().__init__()\n",
    "\n",
    "        self.emb = nn.Embedding(input_size, word_vec_size)\n",
    "        self.feature_extractors = nn.ModuleList()\n",
    "\n",
    "        for window_size, n_filters in zip(window_sizes, n_filters):\n",
    "            self.feature_extractors.append(\n",
    "                nn.Sequential(\n",
    "                    nn.Conv2d(\n",
    "                        in_channels=1,\n",
    "                        out_channels=n_filters,\n",
    "                        kernel_size = (window_size, word_vec_size),\n",
    "                    ),\n",
    "                    nn.ReLU(),\n",
    "                    nn.BatchNorm2d(n_filter) if use_batch_norm else nn.Dropout(dropout_p),\n",
    "                )\n",
    "            )\n",
    "            \n",
    "        self.generator = nn.Linear(sum(self.n_filters), n_classes)\n",
    "        \n",
    "        self.activation = nn.LogSoftmax(dim=-1)\n",
    "\n",
    "    def forward(self, x):\n",
    "\n",
    "        x = self.emb(x)\n",
    "    \n",
    "        min_length = max(self.window_sizes)\n",
    "        \n",
    "        if min_length > x.size(1):\n",
    "\n",
    "            pad = x.new(x.size(0), min_length - x.size(1), self.word_vec_size).zero_()\n",
    "\n",
    "            x = torch.cat([x,pad], dim=1)\n",
    "\n",
    "        x = x.unsqueeze(1)\n",
    "        cnn_outs = []\n",
    "        for block in self.feature_extractors:\n",
    "            cnn_out = block(x)\n",
    "            \n",
    "            \n",
    "            cnn_out = nn.functional.max_pool1d(\n",
    "                input=cnn_out.squeeze(-1),\n",
    "                kernel_size=cnn_out.size(-2)\n",
    "            ).squeeze(-1)\n",
    "\n",
    "            cnn_outs += [cnn_out]\n",
    "\n",
    "        cnn_outs = torch.cat(cnn_outs, dim=-1)\n",
    "\n",
    "        y = self.activation(self.generator(cnn_outs))\n",
    "\n",
    "        return y\n",
    "    \n",
    "\n",
    "class RNNClassifier(nn.Module):\n",
    "\n",
    "    def __init__(\n",
    "        self,\n",
    "        input_size,\n",
    "        word_vec_size,\n",
    "        hidden_size,\n",
    "        n_classes,\n",
    "        n_layers=4,\n",
    "        dropout_p=.3,\n",
    "    ):\n",
    "\n",
    "        self.input_size = input_size\n",
    "        self.word_vec_size = word_vec_size\n",
    "        self.hidden_size = hidden_size\n",
    "        self.n_classes = n_classes\n",
    "        self.n_layers = n_layers\n",
    "        self.dropout_p = dropout_p\n",
    "\n",
    "        super().__init__()\n",
    "\n",
    "        self.emb = nn.Embedding(input_size, word_vec_size)\n",
    "        self.rnn = nn.LSTM(\n",
    "            input_size=word_vec_size,\n",
    "            hidden_size=hidden_size,\n",
    "            num_layers=n_layers,\n",
    "            dropout=dropout_p,\n",
    "            batch_first=True,\n",
    "            bidirectional=True,\n",
    "        )\n",
    "        self.generator = nn.Linear(hidden_size * 2, n_classes)\n",
    "\n",
    "        self.activation = nn.LogSoftmax(dim=-1)\n",
    "\n",
    "    def forward(self,x):\n",
    "        # |x| = {batch_size, length}\n",
    "        x = self.emb(x)\n",
    "\n",
    "        # |x| = {batch_size, length, word_vec_size}\n",
    "        x, _ = self.rnn(x)\n",
    "\n",
    "        # |x| x= {batch_size, length, hidden_size *2}\n",
    "        y = self.activation(self.generator(x[:,-1]))\n",
    "\n",
    "        # |y| = {batch_size, n_classes}\n",
    "        return y"
   ]
  },
  {
   "cell_type": "code",
   "execution_count": 21,
   "id": "c6afb1c4",
   "metadata": {
    "execution": {
     "iopub.execute_input": "2022-07-18T13:13:30.064638Z",
     "iopub.status.busy": "2022-07-18T13:13:30.063826Z",
     "iopub.status.idle": "2022-07-18T13:13:30.073960Z",
     "shell.execute_reply": "2022-07-18T13:13:30.072893Z"
    },
    "papermill": {
     "duration": 0.025797,
     "end_time": "2022-07-18T13:13:30.076338",
     "exception": false,
     "start_time": "2022-07-18T13:13:30.050541",
     "status": "completed"
    },
    "tags": []
   },
   "outputs": [],
   "source": [
    "def train(model, optimizer, train_loader, valid_loader, crit, n_epochs):\n",
    "    train_loss_history = []\n",
    "    valid_loss_history = []\n",
    "\n",
    "    for epoch in range(1, n_epochs + 1):\n",
    "\n",
    "        train_loss, valid_loss = 0,0\n",
    "\n",
    "        model.train()\n",
    "        for x, y in train_loader:\n",
    "            optimizer.zero_grad()\n",
    "            y_hat = model(x)\n",
    "            loss = crit(y_hat, y)\n",
    "\n",
    "            train_loss += float(loss)\n",
    "\n",
    "            loss.backward()\n",
    "            optimizer.step()\n",
    "\n",
    "        model.eval()\n",
    "        for x, y in valid_loader:\n",
    "\n",
    "            y_hat = model(x)\n",
    "            loss = crit(y_hat, y)\n",
    "\n",
    "            valid_loss += float(loss)\n",
    "\n",
    "        train_loss_history.append(train_loss / len(train_loader))\n",
    "        valid_loss_history.append(valid_loss / len(valid_loader))\n",
    "\n",
    "        print('Epoch {} / {} train_loss : {} valid_loss : {}'.format(epoch, n_epochs,train_loss/len(train_loader),valid_loss/len(valid_loader)))\n",
    "    \n",
    "    \n",
    "    return model, train_loss_history, valid_loss_history"
   ]
  },
  {
   "cell_type": "code",
   "execution_count": 22,
   "id": "0a293f72",
   "metadata": {
    "execution": {
     "iopub.execute_input": "2022-07-18T13:13:30.101566Z",
     "iopub.status.busy": "2022-07-18T13:13:30.100316Z",
     "iopub.status.idle": "2022-07-18T13:18:20.562570Z",
     "shell.execute_reply": "2022-07-18T13:18:20.561221Z"
    },
    "papermill": {
     "duration": 290.477813,
     "end_time": "2022-07-18T13:18:20.565492",
     "exception": false,
     "start_time": "2022-07-18T13:13:30.087679",
     "status": "completed"
    },
    "tags": []
   },
   "outputs": [
    {
     "name": "stdout",
     "output_type": "stream",
     "text": [
      "Epoch 1 / 30 train_loss : 0.6469433285803071 valid_loss : 0.5635445198665062\n",
      "Epoch 2 / 30 train_loss : 0.4785889438621661 valid_loss : 0.5183894274135431\n",
      "Epoch 3 / 30 train_loss : 0.34821875252960865 valid_loss : 0.5058522777010998\n",
      "Epoch 4 / 30 train_loss : 0.2646577313581374 valid_loss : 0.5023661578694979\n",
      "Epoch 5 / 30 train_loss : 0.20000166664416877 valid_loss : 0.5772877242416143\n",
      "Epoch 6 / 30 train_loss : 0.17148444737205332 valid_loss : 0.5788123471041521\n",
      "Epoch 7 / 30 train_loss : 0.14237702749084427 valid_loss : 0.5903083185354868\n",
      "Epoch 8 / 30 train_loss : 0.12821674490766843 valid_loss : 0.5995225574200352\n",
      "Epoch 9 / 30 train_loss : 0.12365956998951928 valid_loss : 0.5817751114567121\n",
      "Epoch 10 / 30 train_loss : 0.11655096105587576 valid_loss : 0.7114534371842941\n",
      "Epoch 11 / 30 train_loss : 0.11405482943564732 valid_loss : 0.6274593910202384\n",
      "Epoch 12 / 30 train_loss : 0.10895206318700111 valid_loss : 0.6912880533685287\n",
      "Epoch 13 / 30 train_loss : 0.10507453209111048 valid_loss : 0.6740069817751646\n",
      "Epoch 14 / 30 train_loss : 0.10112946933374316 valid_loss : 0.6620718917498986\n",
      "Epoch 15 / 30 train_loss : 0.09945947536467258 valid_loss : 0.6659845324854056\n",
      "Epoch 16 / 30 train_loss : 0.09463054696293012 valid_loss : 0.6935608933369318\n",
      "Epoch 17 / 30 train_loss : 0.08404458052642078 valid_loss : 0.6630679666996002\n",
      "Epoch 18 / 30 train_loss : 0.08727788579033405 valid_loss : 0.7037449547400078\n",
      "Epoch 19 / 30 train_loss : 0.09362230444429394 valid_loss : 0.6931539581467708\n",
      "Epoch 20 / 30 train_loss : 0.08710627627488304 valid_loss : 0.7011685812224945\n",
      "Epoch 21 / 30 train_loss : 0.0815349009426808 valid_loss : 0.6622905197242895\n",
      "Epoch 22 / 30 train_loss : 0.08285350876028957 valid_loss : 0.6922678938135505\n",
      "Epoch 23 / 30 train_loss : 0.08295485051714507 valid_loss : 0.6917828967173895\n",
      "Epoch 24 / 30 train_loss : 0.0739518366850052 valid_loss : 0.6832071704169115\n",
      "Epoch 25 / 30 train_loss : 0.06870212339971662 valid_loss : 0.6870167373369137\n",
      "Epoch 26 / 30 train_loss : 0.0802173238949782 valid_loss : 0.7727913279086351\n",
      "Epoch 27 / 30 train_loss : 0.07514620845843624 valid_loss : 0.6767495684325695\n",
      "Epoch 28 / 30 train_loss : 0.0715571232816614 valid_loss : 0.6981855742633343\n",
      "Epoch 29 / 30 train_loss : 0.07644022283228406 valid_loss : 0.6712606257448593\n",
      "Epoch 30 / 30 train_loss : 0.07357821350366228 valid_loss : 0.7149710208177567\n"
     ]
    }
   ],
   "source": [
    "input_size = len(word_index) + 1\n",
    "word_vec_size = 100\n",
    "num_class = 2\n",
    "n_epochs = 30\n",
    "\n",
    "cnn_model = CNNClassifier(input_size,word_vec_size,num_class)\n",
    "optimizer = optim.Adam(cnn_model.parameters())\n",
    "crit = nn.NLLLoss()\n",
    "\n",
    "cnn_model, cnn_train_history, cnn_valid_history = train(cnn_model, optimizer, train_loader, valid_loader, crit, n_epochs)"
   ]
  },
  {
   "cell_type": "code",
   "execution_count": 23,
   "id": "051c908b",
   "metadata": {
    "execution": {
     "iopub.execute_input": "2022-07-18T13:18:20.595564Z",
     "iopub.status.busy": "2022-07-18T13:18:20.594984Z",
     "iopub.status.idle": "2022-07-18T13:37:10.755214Z",
     "shell.execute_reply": "2022-07-18T13:37:10.753920Z"
    },
    "papermill": {
     "duration": 1130.195307,
     "end_time": "2022-07-18T13:37:10.774521",
     "exception": false,
     "start_time": "2022-07-18T13:18:20.579214",
     "status": "completed"
    },
    "tags": []
   },
   "outputs": [
    {
     "name": "stdout",
     "output_type": "stream",
     "text": [
      "Epoch 1 / 30 train_loss : 0.6856584430365038 valid_loss : 0.6812393255531788\n",
      "Epoch 2 / 30 train_loss : 0.6843762585005835 valid_loss : 0.6809012964367867\n",
      "Epoch 3 / 30 train_loss : 0.6841152194906904 valid_loss : 0.6813980005681515\n",
      "Epoch 4 / 30 train_loss : 0.68481598100113 valid_loss : 0.6830645638207594\n",
      "Epoch 5 / 30 train_loss : 0.6847005801675208 valid_loss : 0.6808579601347446\n",
      "Epoch 6 / 30 train_loss : 0.684307588956743 valid_loss : 0.6810932233929634\n",
      "Epoch 7 / 30 train_loss : 0.6847775019900337 valid_loss : 0.6821338968972365\n",
      "Epoch 8 / 30 train_loss : 0.6843065004698269 valid_loss : 0.6817565262317657\n",
      "Epoch 9 / 30 train_loss : 0.6843171675167783 valid_loss : 0.6810501180589199\n",
      "Epoch 10 / 30 train_loss : 0.6841155259397017 valid_loss : 0.680806660403808\n",
      "Epoch 11 / 30 train_loss : 0.6843502477825624 valid_loss : 0.6818079849084219\n",
      "Epoch 12 / 30 train_loss : 0.6839505324813084 valid_loss : 0.680450384815534\n",
      "Epoch 13 / 30 train_loss : 0.6842781286589138 valid_loss : 0.6802250780165195\n",
      "Epoch 14 / 30 train_loss : 0.6844061463291108 valid_loss : 0.6807699923714002\n",
      "Epoch 15 / 30 train_loss : 0.684122137686345 valid_loss : 0.6805109630028406\n",
      "Epoch 16 / 30 train_loss : 0.6842720287008436 valid_loss : 0.6805259337027868\n",
      "Epoch 17 / 30 train_loss : 0.6844241381939793 valid_loss : 0.6822924936811129\n",
      "Epoch 18 / 30 train_loss : 0.6846918011210976 valid_loss : 0.6803698614239693\n",
      "Epoch 19 / 30 train_loss : 0.6845619949994911 valid_loss : 0.6805919880668322\n",
      "Epoch 20 / 30 train_loss : 0.6844532957875916 valid_loss : 0.6805255425473055\n",
      "Epoch 21 / 30 train_loss : 0.6839600873243122 valid_loss : 0.6809649008015791\n",
      "Epoch 22 / 30 train_loss : 0.6837661035397914 valid_loss : 0.6810012447337309\n",
      "Epoch 23 / 30 train_loss : 0.6848991441477031 valid_loss : 0.6803961048523585\n",
      "Epoch 24 / 30 train_loss : 0.6841745270484405 valid_loss : 0.6810285647710165\n",
      "Epoch 25 / 30 train_loss : 0.6842858538577694 valid_loss : 0.6808551847934723\n",
      "Epoch 26 / 30 train_loss : 0.6841686105852975 valid_loss : 0.6804135491450628\n",
      "Epoch 27 / 30 train_loss : 0.6842329970205018 valid_loss : 0.6807118281722069\n",
      "Epoch 28 / 30 train_loss : 0.6846477760694414 valid_loss : 0.6804171515007814\n",
      "Epoch 29 / 30 train_loss : 0.6840235934207577 valid_loss : 0.6806981737414995\n",
      "Epoch 30 / 30 train_loss : 0.6842096756890182 valid_loss : 0.680509534974893\n"
     ]
    }
   ],
   "source": [
    "input_size = len(word_index)\n",
    "word_vec_size = 100\n",
    "hidden_size=64\n",
    "num_class = 2\n",
    "n_epochs = 30\n",
    "\n",
    "rnn_model = rnn_model = RNNClassifier(input_size,word_vec_size,hidden_size,num_class)\n",
    "optimizer = optim.Adam(rnn_model.parameters())\n",
    "crit = nn.NLLLoss()\n",
    "\n",
    "rnn_model, rnn_train_history, rnn_valid_history = train(rnn_model, optimizer, train_loader, valid_loader, crit, n_epochs)"
   ]
  },
  {
   "cell_type": "markdown",
   "id": "1d915a76",
   "metadata": {
    "papermill": {
     "duration": 0.016388,
     "end_time": "2022-07-18T13:37:10.808142",
     "exception": false,
     "start_time": "2022-07-18T13:37:10.791754",
     "status": "completed"
    },
    "tags": []
   },
   "source": [
    "# Submit\n",
    "\n",
    "<h5> Looks like rnn model does not work ..."
   ]
  },
  {
   "cell_type": "code",
   "execution_count": 24,
   "id": "2c1d59f2",
   "metadata": {
    "execution": {
     "iopub.execute_input": "2022-07-18T13:37:10.842912Z",
     "iopub.status.busy": "2022-07-18T13:37:10.842514Z",
     "iopub.status.idle": "2022-07-18T13:37:12.091000Z",
     "shell.execute_reply": "2022-07-18T13:37:12.089761Z"
    },
    "papermill": {
     "duration": 1.269212,
     "end_time": "2022-07-18T13:37:12.094028",
     "exception": false,
     "start_time": "2022-07-18T13:37:10.824816",
     "status": "completed"
    },
    "tags": []
   },
   "outputs": [],
   "source": [
    "result = cnn_model(X_test)"
   ]
  },
  {
   "cell_type": "code",
   "execution_count": 25,
   "id": "1f215433",
   "metadata": {
    "execution": {
     "iopub.execute_input": "2022-07-18T13:37:12.129370Z",
     "iopub.status.busy": "2022-07-18T13:37:12.128958Z",
     "iopub.status.idle": "2022-07-18T13:37:12.148798Z",
     "shell.execute_reply": "2022-07-18T13:37:12.147757Z"
    },
    "papermill": {
     "duration": 0.040117,
     "end_time": "2022-07-18T13:37:12.151549",
     "exception": false,
     "start_time": "2022-07-18T13:37:12.111432",
     "status": "completed"
    },
    "tags": []
   },
   "outputs": [],
   "source": [
    "result = result.argmax(axis=1)"
   ]
  },
  {
   "cell_type": "code",
   "execution_count": 26,
   "id": "4ee009f4",
   "metadata": {
    "execution": {
     "iopub.execute_input": "2022-07-18T13:37:12.185433Z",
     "iopub.status.busy": "2022-07-18T13:37:12.184277Z",
     "iopub.status.idle": "2022-07-18T13:37:12.201620Z",
     "shell.execute_reply": "2022-07-18T13:37:12.200772Z"
    },
    "papermill": {
     "duration": 0.03655,
     "end_time": "2022-07-18T13:37:12.204158",
     "exception": false,
     "start_time": "2022-07-18T13:37:12.167608",
     "status": "completed"
    },
    "tags": []
   },
   "outputs": [],
   "source": [
    "submission = pd.read_csv('../input/nlp-getting-started/sample_submission.csv')"
   ]
  },
  {
   "cell_type": "code",
   "execution_count": 27,
   "id": "95628e1f",
   "metadata": {
    "execution": {
     "iopub.execute_input": "2022-07-18T13:37:12.237891Z",
     "iopub.status.busy": "2022-07-18T13:37:12.237102Z",
     "iopub.status.idle": "2022-07-18T13:37:12.242628Z",
     "shell.execute_reply": "2022-07-18T13:37:12.241806Z"
    },
    "papermill": {
     "duration": 0.025098,
     "end_time": "2022-07-18T13:37:12.245022",
     "exception": false,
     "start_time": "2022-07-18T13:37:12.219924",
     "status": "completed"
    },
    "tags": []
   },
   "outputs": [],
   "source": [
    "submission['target'] = result"
   ]
  },
  {
   "cell_type": "code",
   "execution_count": 28,
   "id": "b9bb4528",
   "metadata": {
    "execution": {
     "iopub.execute_input": "2022-07-18T13:37:12.278270Z",
     "iopub.status.busy": "2022-07-18T13:37:12.277475Z",
     "iopub.status.idle": "2022-07-18T13:37:12.290964Z",
     "shell.execute_reply": "2022-07-18T13:37:12.290075Z"
    },
    "papermill": {
     "duration": 0.032896,
     "end_time": "2022-07-18T13:37:12.293417",
     "exception": false,
     "start_time": "2022-07-18T13:37:12.260521",
     "status": "completed"
    },
    "tags": []
   },
   "outputs": [],
   "source": [
    "submission.to_csv('./sample_submission.csv',index=False)"
   ]
  }
 ],
 "metadata": {
  "kernelspec": {
   "display_name": "Python 3",
   "language": "python",
   "name": "python3"
  },
  "language_info": {
   "codemirror_mode": {
    "name": "ipython",
    "version": 3
   },
   "file_extension": ".py",
   "mimetype": "text/x-python",
   "name": "python",
   "nbconvert_exporter": "python",
   "pygments_lexer": "ipython3",
   "version": "3.7.12"
  },
  "papermill": {
   "default_parameters": {},
   "duration": 1453.541003,
   "end_time": "2022-07-18T13:37:15.341493",
   "environment_variables": {},
   "exception": null,
   "input_path": "__notebook__.ipynb",
   "output_path": "__notebook__.ipynb",
   "parameters": {},
   "start_time": "2022-07-18T13:13:01.800490",
   "version": "2.3.4"
  }
 },
 "nbformat": 4,
 "nbformat_minor": 5
}
