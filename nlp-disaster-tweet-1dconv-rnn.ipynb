{
 "cells": [
  {
   "cell_type": "code",
   "execution_count": 1,
   "id": "ed563d96",
   "metadata": {
    "_cell_guid": "b1076dfc-b9ad-4769-8c92-a6c4dae69d19",
    "_uuid": "8f2839f25d086af736a60e9eeb907d3b93b6e0e5",
    "execution": {
     "iopub.execute_input": "2022-06-22T14:07:58.843908Z",
     "iopub.status.busy": "2022-06-22T14:07:58.843091Z",
     "iopub.status.idle": "2022-06-22T14:07:58.858133Z",
     "shell.execute_reply": "2022-06-22T14:07:58.856782Z"
    },
    "papermill": {
     "duration": 0.029126,
     "end_time": "2022-06-22T14:07:58.861953",
     "exception": false,
     "start_time": "2022-06-22T14:07:58.832827",
     "status": "completed"
    },
    "tags": []
   },
   "outputs": [
    {
     "name": "stdout",
     "output_type": "stream",
     "text": [
      "/kaggle/input/nlp-getting-started/sample_submission.csv\n",
      "/kaggle/input/nlp-getting-started/train.csv\n",
      "/kaggle/input/nlp-getting-started/test.csv\n"
     ]
    }
   ],
   "source": [
    "# This Python 3 environment comes with many helpful analytics libraries installed\n",
    "# It is defined by the kaggle/python Docker image: https://github.com/kaggle/docker-python\n",
    "# For example, here's several helpful packages to load\n",
    "\n",
    "import numpy as np # linear algebra\n",
    "import pandas as pd # data processing, CSV file I/O (e.g. pd.read_csv)\n",
    "\n",
    "# Input data files are available in the read-only \"../input/\" directory\n",
    "# For example, running this (by clicking run or pressing Shift+Enter) will list all files under the input directory\n",
    "\n",
    "import os\n",
    "for dirname, _, filenames in os.walk('/kaggle/input'):\n",
    "    for filename in filenames:\n",
    "        print(os.path.join(dirname, filename))\n",
    "\n",
    "# You can write up to 20GB to the current directory (/kaggle/working/) that gets preserved as output when you create a version using \"Save & Run All\" \n",
    "# You can also write temporary files to /kaggle/temp/, but they won't be saved outside of the current session"
   ]
  },
  {
   "cell_type": "code",
   "execution_count": 2,
   "id": "5ded5768",
   "metadata": {
    "execution": {
     "iopub.execute_input": "2022-06-22T14:07:58.875204Z",
     "iopub.status.busy": "2022-06-22T14:07:58.874806Z",
     "iopub.status.idle": "2022-06-22T14:08:10.803972Z",
     "shell.execute_reply": "2022-06-22T14:08:10.803137Z"
    },
    "papermill": {
     "duration": 11.938714,
     "end_time": "2022-06-22T14:08:10.806438",
     "exception": false,
     "start_time": "2022-06-22T14:07:58.867724",
     "status": "completed"
    },
    "tags": []
   },
   "outputs": [],
   "source": [
    "import pandas as pd\n",
    "import matplotlib.pyplot as plt\n",
    "import seaborn as sns\n",
    "import numpy as np\n",
    "from nltk.corpus import stopwords\n",
    "from nltk.util import ngrams\n",
    "from sklearn.feature_extraction.text import CountVectorizer\n",
    "from collections import defaultdict\n",
    "from collections import  Counter\n",
    "plt.style.use('ggplot')\n",
    "stop=set(stopwords.words('english'))\n",
    "import re\n",
    "from nltk.tokenize import word_tokenize\n",
    "import gensim\n",
    "import string\n",
    "from tensorflow import keras\n",
    "from keras.preprocessing.text import Tokenizer\n",
    "from keras.preprocessing.sequence import pad_sequences\n",
    "from tqdm import tqdm\n",
    "from keras.models import Sequential\n",
    "from keras.layers import Embedding,LSTM,Dense,SpatialDropout1D\n",
    "from keras.initializers import Constant\n",
    "from sklearn.model_selection import train_test_split\n",
    "\n",
    "import warnings\n",
    "warnings.filterwarnings('ignore')"
   ]
  },
  {
   "cell_type": "code",
   "execution_count": 3,
   "id": "26ac85f8",
   "metadata": {
    "execution": {
     "iopub.execute_input": "2022-06-22T14:08:10.819774Z",
     "iopub.status.busy": "2022-06-22T14:08:10.818476Z",
     "iopub.status.idle": "2022-06-22T14:08:10.937752Z",
     "shell.execute_reply": "2022-06-22T14:08:10.936492Z"
    },
    "papermill": {
     "duration": 0.128776,
     "end_time": "2022-06-22T14:08:10.940466",
     "exception": false,
     "start_time": "2022-06-22T14:08:10.811690",
     "status": "completed"
    },
    "tags": []
   },
   "outputs": [],
   "source": [
    "tweet = pd.read_csv('../input/nlp-getting-started/train.csv')\n",
    "test = pd.read_csv('../input/nlp-getting-started/test.csv')"
   ]
  },
  {
   "cell_type": "code",
   "execution_count": 4,
   "id": "101a3984",
   "metadata": {
    "execution": {
     "iopub.execute_input": "2022-06-22T14:08:10.953193Z",
     "iopub.status.busy": "2022-06-22T14:08:10.952804Z",
     "iopub.status.idle": "2022-06-22T14:08:11.111664Z",
     "shell.execute_reply": "2022-06-22T14:08:11.110241Z"
    },
    "papermill": {
     "duration": 0.170445,
     "end_time": "2022-06-22T14:08:11.116530",
     "exception": false,
     "start_time": "2022-06-22T14:08:10.946085",
     "status": "completed"
    },
    "tags": []
   },
   "outputs": [
    {
     "data": {
      "text/plain": [
       "Text(0, 0.5, 'sample')"
      ]
     },
     "execution_count": 4,
     "metadata": {},
     "output_type": "execute_result"
    },
    {
     "data": {
      "image/png": "[encoded data removed]",
      "text/plain": [
       "<Figure size 432x288 with 1 Axes>"
      ]
     },
     "metadata": {},
     "output_type": "display_data"
    }
   ],
   "source": [
    "x=tweet.target.value_counts()\n",
    "sns.barplot(x.index,x)\n",
    "plt.gca().set_ylabel('sample')"
   ]
  },
  {
   "cell_type": "markdown",
   "id": "b4126f6d",
   "metadata": {
    "papermill": {
     "duration": 0.010798,
     "end_time": "2022-06-22T14:08:11.140313",
     "exception": false,
     "start_time": "2022-06-22T14:08:11.129515",
     "status": "completed"
    },
    "tags": []
   },
   "source": [
    "# Preprocess"
   ]
  },
  {
   "cell_type": "code",
   "execution_count": 5,
   "id": "e8d18812",
   "metadata": {
    "execution": {
     "iopub.execute_input": "2022-06-22T14:08:11.157560Z",
     "iopub.status.busy": "2022-06-22T14:08:11.156865Z",
     "iopub.status.idle": "2022-06-22T14:08:11.165455Z",
     "shell.execute_reply": "2022-06-22T14:08:11.164583Z"
    },
    "papermill": {
     "duration": 0.019303,
     "end_time": "2022-06-22T14:08:11.167847",
     "exception": false,
     "start_time": "2022-06-22T14:08:11.148544",
     "status": "completed"
    },
    "tags": []
   },
   "outputs": [],
   "source": [
    "df = pd.concat([tweet, test])"
   ]
  },
  {
   "cell_type": "code",
   "execution_count": 6,
   "id": "0d3e11cd",
   "metadata": {
    "execution": {
     "iopub.execute_input": "2022-06-22T14:08:11.193669Z",
     "iopub.status.busy": "2022-06-22T14:08:11.193007Z",
     "iopub.status.idle": "2022-06-22T14:08:11.201983Z",
     "shell.execute_reply": "2022-06-22T14:08:11.200810Z"
    },
    "papermill": {
     "duration": 0.018644,
     "end_time": "2022-06-22T14:08:11.204318",
     "exception": false,
     "start_time": "2022-06-22T14:08:11.185674",
     "status": "completed"
    },
    "tags": []
   },
   "outputs": [],
   "source": [
    "# Fill NaN value of keword column and location column\n",
    "df.keyword = df.keyword.fillna('NoKeword')\n",
    "df.location = df.location.fillna('NoLocation')"
   ]
  },
  {
   "cell_type": "code",
   "execution_count": 7,
   "id": "f57041e8",
   "metadata": {
    "execution": {
     "iopub.execute_input": "2022-06-22T14:08:11.217664Z",
     "iopub.status.busy": "2022-06-22T14:08:11.216973Z",
     "iopub.status.idle": "2022-06-22T14:08:11.221827Z",
     "shell.execute_reply": "2022-06-22T14:08:11.220922Z"
    },
    "papermill": {
     "duration": 0.013933,
     "end_time": "2022-06-22T14:08:11.223884",
     "exception": false,
     "start_time": "2022-06-22T14:08:11.209951",
     "status": "completed"
    },
    "tags": []
   },
   "outputs": [],
   "source": [
    "def remove_URL(text):\n",
    "    url = re.compile(r'https?://\\S+|www\\.\\S+')\n",
    "    return url.sub(r'',text)"
   ]
  },
  {
   "cell_type": "code",
   "execution_count": 8,
   "id": "05766bf2",
   "metadata": {
    "execution": {
     "iopub.execute_input": "2022-06-22T14:08:11.237886Z",
     "iopub.status.busy": "2022-06-22T14:08:11.237281Z",
     "iopub.status.idle": "2022-06-22T14:08:11.269585Z",
     "shell.execute_reply": "2022-06-22T14:08:11.268437Z"
    },
    "papermill": {
     "duration": 0.042064,
     "end_time": "2022-06-22T14:08:11.272171",
     "exception": false,
     "start_time": "2022-06-22T14:08:11.230107",
     "status": "completed"
    },
    "tags": []
   },
   "outputs": [],
   "source": [
    "df['text'] = df['text'].apply(lambda x : remove_URL(x))"
   ]
  },
  {
   "cell_type": "code",
   "execution_count": 9,
   "id": "f6a86c62",
   "metadata": {
    "execution": {
     "iopub.execute_input": "2022-06-22T14:08:11.285253Z",
     "iopub.status.busy": "2022-06-22T14:08:11.284448Z",
     "iopub.status.idle": "2022-06-22T14:08:11.304939Z",
     "shell.execute_reply": "2022-06-22T14:08:11.303701Z"
    },
    "papermill": {
     "duration": 0.029264,
     "end_time": "2022-06-22T14:08:11.307310",
     "exception": false,
     "start_time": "2022-06-22T14:08:11.278046",
     "status": "completed"
    },
    "tags": []
   },
   "outputs": [],
   "source": [
    "def remove_html(text):\n",
    "    html=re.compile(r'<.*?>')\n",
    "    return html.sub(r'',text)\n",
    "\n",
    "df['text'] = df['text'].apply(lambda x : remove_html(x))"
   ]
  },
  {
   "cell_type": "code",
   "execution_count": 10,
   "id": "c30f1707",
   "metadata": {
    "execution": {
     "iopub.execute_input": "2022-06-22T14:08:11.319938Z",
     "iopub.status.busy": "2022-06-22T14:08:11.319562Z",
     "iopub.status.idle": "2022-06-22T14:08:11.377376Z",
     "shell.execute_reply": "2022-06-22T14:08:11.376027Z"
    },
    "papermill": {
     "duration": 0.067274,
     "end_time": "2022-06-22T14:08:11.380015",
     "exception": false,
     "start_time": "2022-06-22T14:08:11.312741",
     "status": "completed"
    },
    "tags": []
   },
   "outputs": [],
   "source": [
    "def remove_emoji(text):\n",
    "    emoji_pattern = re.compile(\"[\"\n",
    "                           u\"\\U0001F600-\\U0001F64F\"  # emoticons\n",
    "                           u\"\\U0001F300-\\U0001F5FF\"  # symbols & pictographs\n",
    "                           u\"\\U0001F680-\\U0001F6FF\"  # transport & map symbols\n",
    "                           u\"\\U0001F1E0-\\U0001F1FF\"  # flags (iOS)\n",
    "                           u\"\\U00002702-\\U000027B0\"\n",
    "                           u\"\\U000024C2-\\U0001F251\"\n",
    "                           \"]+\", flags=re.UNICODE)\n",
    "    return emoji_pattern.sub(r'', text)\n",
    "\n",
    "df['text'] = df['text'].apply(lambda x : remove_emoji(x))"
   ]
  },
  {
   "cell_type": "code",
   "execution_count": 11,
   "id": "eec5acbd",
   "metadata": {
    "execution": {
     "iopub.execute_input": "2022-06-22T14:08:11.392419Z",
     "iopub.status.busy": "2022-06-22T14:08:11.392016Z",
     "iopub.status.idle": "2022-06-22T14:08:11.458601Z",
     "shell.execute_reply": "2022-06-22T14:08:11.457394Z"
    },
    "papermill": {
     "duration": 0.07612,
     "end_time": "2022-06-22T14:08:11.461784",
     "exception": false,
     "start_time": "2022-06-22T14:08:11.385664",
     "status": "completed"
    },
    "tags": []
   },
   "outputs": [],
   "source": [
    "def remove_punct(text):\n",
    "    table = str.maketrans('','',string.punctuation)\n",
    "    return text.translate(table)\n",
    "\n",
    "df['text'] = df['text'].apply(lambda x : remove_punct(x))"
   ]
  },
  {
   "cell_type": "code",
   "execution_count": 12,
   "id": "3713405d",
   "metadata": {
    "execution": {
     "iopub.execute_input": "2022-06-22T14:08:11.475392Z",
     "iopub.status.busy": "2022-06-22T14:08:11.474634Z",
     "iopub.status.idle": "2022-06-22T14:08:11.495956Z",
     "shell.execute_reply": "2022-06-22T14:08:11.495055Z"
    },
    "papermill": {
     "duration": 0.031239,
     "end_time": "2022-06-22T14:08:11.498424",
     "exception": false,
     "start_time": "2022-06-22T14:08:11.467185",
     "status": "completed"
    },
    "tags": []
   },
   "outputs": [
    {
     "data": {
      "text/html": [
       "<div>\n",
       "<style scoped>\n",
       "    .dataframe tbody tr th:only-of-type {\n",
       "        vertical-align: middle;\n",
       "    }\n",
       "\n",
       "    .dataframe tbody tr th {\n",
       "        vertical-align: top;\n",
       "    }\n",
       "\n",
       "    .dataframe thead th {\n",
       "        text-align: right;\n",
       "    }\n",
       "</style>\n",
       "<table border=\"1\" class=\"dataframe\">\n",
       "  <thead>\n",
       "    <tr style=\"text-align: right;\">\n",
       "      <th></th>\n",
       "      <th>id</th>\n",
       "      <th>keyword</th>\n",
       "      <th>location</th>\n",
       "      <th>text</th>\n",
       "      <th>target</th>\n",
       "    </tr>\n",
       "  </thead>\n",
       "  <tbody>\n",
       "    <tr>\n",
       "      <th>0</th>\n",
       "      <td>1</td>\n",
       "      <td>NoKeword</td>\n",
       "      <td>NoLocation</td>\n",
       "      <td>Our Deeds are the Reason of this earthquake Ma...</td>\n",
       "      <td>1.0</td>\n",
       "    </tr>\n",
       "    <tr>\n",
       "      <th>1</th>\n",
       "      <td>4</td>\n",
       "      <td>NoKeword</td>\n",
       "      <td>NoLocation</td>\n",
       "      <td>Forest fire near La Ronge Sask Canada</td>\n",
       "      <td>1.0</td>\n",
       "    </tr>\n",
       "    <tr>\n",
       "      <th>2</th>\n",
       "      <td>5</td>\n",
       "      <td>NoKeword</td>\n",
       "      <td>NoLocation</td>\n",
       "      <td>All residents asked to shelter in place are be...</td>\n",
       "      <td>1.0</td>\n",
       "    </tr>\n",
       "    <tr>\n",
       "      <th>3</th>\n",
       "      <td>6</td>\n",
       "      <td>NoKeword</td>\n",
       "      <td>NoLocation</td>\n",
       "      <td>13000 people receive wildfires evacuation orde...</td>\n",
       "      <td>1.0</td>\n",
       "    </tr>\n",
       "    <tr>\n",
       "      <th>4</th>\n",
       "      <td>7</td>\n",
       "      <td>NoKeword</td>\n",
       "      <td>NoLocation</td>\n",
       "      <td>Just got sent this photo from Ruby Alaska as s...</td>\n",
       "      <td>1.0</td>\n",
       "    </tr>\n",
       "    <tr>\n",
       "      <th>...</th>\n",
       "      <td>...</td>\n",
       "      <td>...</td>\n",
       "      <td>...</td>\n",
       "      <td>...</td>\n",
       "      <td>...</td>\n",
       "    </tr>\n",
       "    <tr>\n",
       "      <th>3258</th>\n",
       "      <td>10861</td>\n",
       "      <td>NoKeword</td>\n",
       "      <td>NoLocation</td>\n",
       "      <td>EARTHQUAKE SAFETY LOS ANGELES ÛÒ SAFETY FASTE...</td>\n",
       "      <td>NaN</td>\n",
       "    </tr>\n",
       "    <tr>\n",
       "      <th>3259</th>\n",
       "      <td>10865</td>\n",
       "      <td>NoKeword</td>\n",
       "      <td>NoLocation</td>\n",
       "      <td>Storm in RI worse than last hurricane My citya...</td>\n",
       "      <td>NaN</td>\n",
       "    </tr>\n",
       "    <tr>\n",
       "      <th>3260</th>\n",
       "      <td>10868</td>\n",
       "      <td>NoKeword</td>\n",
       "      <td>NoLocation</td>\n",
       "      <td>Green Line derailment in Chicago</td>\n",
       "      <td>NaN</td>\n",
       "    </tr>\n",
       "    <tr>\n",
       "      <th>3261</th>\n",
       "      <td>10874</td>\n",
       "      <td>NoKeword</td>\n",
       "      <td>NoLocation</td>\n",
       "      <td>MEG issues Hazardous Weather Outlook HWO</td>\n",
       "      <td>NaN</td>\n",
       "    </tr>\n",
       "    <tr>\n",
       "      <th>3262</th>\n",
       "      <td>10875</td>\n",
       "      <td>NoKeword</td>\n",
       "      <td>NoLocation</td>\n",
       "      <td>CityofCalgary has activated its Municipal Emer...</td>\n",
       "      <td>NaN</td>\n",
       "    </tr>\n",
       "  </tbody>\n",
       "</table>\n",
       "<p>10876 rows × 5 columns</p>\n",
       "</div>"
      ],
      "text/plain": [
       "         id   keyword    location  \\\n",
       "0         1  NoKeword  NoLocation   \n",
       "1         4  NoKeword  NoLocation   \n",
       "2         5  NoKeword  NoLocation   \n",
       "3         6  NoKeword  NoLocation   \n",
       "4         7  NoKeword  NoLocation   \n",
       "...     ...       ...         ...   \n",
       "3258  10861  NoKeword  NoLocation   \n",
       "3259  10865  NoKeword  NoLocation   \n",
       "3260  10868  NoKeword  NoLocation   \n",
       "3261  10874  NoKeword  NoLocation   \n",
       "3262  10875  NoKeword  NoLocation   \n",
       "\n",
       "                                                   text  target  \n",
       "0     Our Deeds are the Reason of this earthquake Ma...     1.0  \n",
       "1                 Forest fire near La Ronge Sask Canada     1.0  \n",
       "2     All residents asked to shelter in place are be...     1.0  \n",
       "3     13000 people receive wildfires evacuation orde...     1.0  \n",
       "4     Just got sent this photo from Ruby Alaska as s...     1.0  \n",
       "...                                                 ...     ...  \n",
       "3258  EARTHQUAKE SAFETY LOS ANGELES ÛÒ SAFETY FASTE...     NaN  \n",
       "3259  Storm in RI worse than last hurricane My citya...     NaN  \n",
       "3260                  Green Line derailment in Chicago      NaN  \n",
       "3261          MEG issues Hazardous Weather Outlook HWO      NaN  \n",
       "3262  CityofCalgary has activated its Municipal Emer...     NaN  \n",
       "\n",
       "[10876 rows x 5 columns]"
      ]
     },
     "execution_count": 12,
     "metadata": {},
     "output_type": "execute_result"
    }
   ],
   "source": [
    "df"
   ]
  },
  {
   "cell_type": "code",
   "execution_count": 13,
   "id": "6ba6e1b8",
   "metadata": {
    "execution": {
     "iopub.execute_input": "2022-06-22T14:08:11.512398Z",
     "iopub.status.busy": "2022-06-22T14:08:11.511994Z",
     "iopub.status.idle": "2022-06-22T14:08:23.975960Z",
     "shell.execute_reply": "2022-06-22T14:08:23.974466Z"
    },
    "papermill": {
     "duration": 12.47444,
     "end_time": "2022-06-22T14:08:23.978595",
     "exception": false,
     "start_time": "2022-06-22T14:08:11.504155",
     "status": "completed"
    },
    "tags": []
   },
   "outputs": [
    {
     "name": "stdout",
     "output_type": "stream",
     "text": [
      "Collecting pyspellchecker\r\n",
      "  Downloading pyspellchecker-0.6.3-py3-none-any.whl (2.7 MB)\r\n",
      "\u001b[2K     \u001b[90m━━━━━━━━━━━━━━━━━━━━━━━━━━━━━━━━━━━━━━━━\u001b[0m \u001b[32m2.7/2.7 MB\u001b[0m \u001b[31m4.5 MB/s\u001b[0m eta \u001b[36m0:00:00\u001b[0m\r\n",
      "\u001b[?25hInstalling collected packages: pyspellchecker\r\n",
      "Successfully installed pyspellchecker-0.6.3\r\n",
      "\u001b[33mWARNING: Running pip as the 'root' user can result in broken permissions and conflicting behaviour with the system package manager. It is recommended to use a virtual environment instead: https://pip.pypa.io/warnings/venv\u001b[0m\u001b[33m\r\n",
      "\u001b[0m"
     ]
    }
   ],
   "source": [
    "!pip install pyspellchecker"
   ]
  },
  {
   "cell_type": "code",
   "execution_count": 14,
   "id": "ad3cda85",
   "metadata": {
    "execution": {
     "iopub.execute_input": "2022-06-22T14:08:23.995027Z",
     "iopub.status.busy": "2022-06-22T14:08:23.994614Z",
     "iopub.status.idle": "2022-06-22T14:08:24.148823Z",
     "shell.execute_reply": "2022-06-22T14:08:24.147642Z"
    },
    "papermill": {
     "duration": 0.165512,
     "end_time": "2022-06-22T14:08:24.151188",
     "exception": false,
     "start_time": "2022-06-22T14:08:23.985676",
     "status": "completed"
    },
    "tags": []
   },
   "outputs": [],
   "source": [
    "from spellchecker import SpellChecker\n",
    "\n",
    "spell = SpellChecker()\n",
    "\n",
    "def correct_spellings(text):\n",
    "    corrected_text = []\n",
    "    misspelled_words = spell.unknown(text.split())\n",
    "    \n",
    "    for word in text.split():\n",
    "        for word in misspelled_words:\n",
    "            corrected_text.append(spell.correction(word))\n",
    "        else:\n",
    "            corrected_text.append(word)\n",
    "            \n",
    "    return \" \".join(corrected_text)"
   ]
  },
  {
   "cell_type": "code",
   "execution_count": 15,
   "id": "4c2ac65d",
   "metadata": {
    "execution": {
     "iopub.execute_input": "2022-06-22T14:08:24.166886Z",
     "iopub.status.busy": "2022-06-22T14:08:24.166511Z",
     "iopub.status.idle": "2022-06-22T14:08:24.477967Z",
     "shell.execute_reply": "2022-06-22T14:08:24.476625Z"
    },
    "papermill": {
     "duration": 0.322262,
     "end_time": "2022-06-22T14:08:24.480774",
     "exception": false,
     "start_time": "2022-06-22T14:08:24.158512",
     "status": "completed"
    },
    "tags": []
   },
   "outputs": [],
   "source": [
    "def Make_new_text(keyword,location,text):\n",
    "    return str(keyword) + ' ' + str(location) + ' ' + str(text)\n",
    "\n",
    "df['New_text'] = df.apply(lambda x: Make_new_text(x.keyword, x.location, x.text), axis=1)"
   ]
  },
  {
   "cell_type": "code",
   "execution_count": 16,
   "id": "0213c7b9",
   "metadata": {
    "execution": {
     "iopub.execute_input": "2022-06-22T14:08:24.496146Z",
     "iopub.status.busy": "2022-06-22T14:08:24.495782Z",
     "iopub.status.idle": "2022-06-22T14:08:24.501534Z",
     "shell.execute_reply": "2022-06-22T14:08:24.500686Z"
    },
    "papermill": {
     "duration": 0.016131,
     "end_time": "2022-06-22T14:08:24.503446",
     "exception": false,
     "start_time": "2022-06-22T14:08:24.487315",
     "status": "completed"
    },
    "tags": []
   },
   "outputs": [],
   "source": [
    "def create_corpus(df):\n",
    "    corpus = []\n",
    "    for tweet in tqdm(df['New_text']):\n",
    "        words = [word.lower() for word in word_tokenize(tweet) if ((word.isalpha() == 1) & (word not in stop))]\n",
    "        \n",
    "        corpus.append(words)\n",
    "        \n",
    "    return corpus"
   ]
  },
  {
   "cell_type": "code",
   "execution_count": 17,
   "id": "a5535284",
   "metadata": {
    "execution": {
     "iopub.execute_input": "2022-06-22T14:08:24.519018Z",
     "iopub.status.busy": "2022-06-22T14:08:24.517922Z",
     "iopub.status.idle": "2022-06-22T14:08:26.165510Z",
     "shell.execute_reply": "2022-06-22T14:08:26.164206Z"
    },
    "papermill": {
     "duration": 1.657907,
     "end_time": "2022-06-22T14:08:26.168143",
     "exception": false,
     "start_time": "2022-06-22T14:08:24.510236",
     "status": "completed"
    },
    "tags": []
   },
   "outputs": [
    {
     "name": "stderr",
     "output_type": "stream",
     "text": [
      "100%|██████████| 10876/10876 [00:01<00:00, 6648.12it/s]\n"
     ]
    }
   ],
   "source": [
    "corpus = create_corpus(df)"
   ]
  },
  {
   "cell_type": "code",
   "execution_count": 18,
   "id": "1593f3bf",
   "metadata": {
    "execution": {
     "iopub.execute_input": "2022-06-22T14:08:26.185485Z",
     "iopub.status.busy": "2022-06-22T14:08:26.184389Z",
     "iopub.status.idle": "2022-06-22T14:08:26.190896Z",
     "shell.execute_reply": "2022-06-22T14:08:26.189765Z"
    },
    "papermill": {
     "duration": 0.017546,
     "end_time": "2022-06-22T14:08:26.193271",
     "exception": false,
     "start_time": "2022-06-22T14:08:26.175725",
     "status": "completed"
    },
    "tags": []
   },
   "outputs": [],
   "source": [
    "MAX_LEN = 50\n",
    "tokenizer_obj = Tokenizer()"
   ]
  },
  {
   "cell_type": "code",
   "execution_count": 19,
   "id": "21899fe1",
   "metadata": {
    "execution": {
     "iopub.execute_input": "2022-06-22T14:08:26.209734Z",
     "iopub.status.busy": "2022-06-22T14:08:26.209298Z",
     "iopub.status.idle": "2022-06-22T14:08:26.366288Z",
     "shell.execute_reply": "2022-06-22T14:08:26.364698Z"
    },
    "papermill": {
     "duration": 0.168561,
     "end_time": "2022-06-22T14:08:26.369095",
     "exception": false,
     "start_time": "2022-06-22T14:08:26.200534",
     "status": "completed"
    },
    "tags": []
   },
   "outputs": [],
   "source": [
    "tokenizer_obj.fit_on_texts(corpus)"
   ]
  },
  {
   "cell_type": "code",
   "execution_count": 20,
   "id": "de5a89ba",
   "metadata": {
    "execution": {
     "iopub.execute_input": "2022-06-22T14:08:26.386482Z",
     "iopub.status.busy": "2022-06-22T14:08:26.385413Z",
     "iopub.status.idle": "2022-06-22T14:08:26.458464Z",
     "shell.execute_reply": "2022-06-22T14:08:26.457387Z"
    },
    "papermill": {
     "duration": 0.084476,
     "end_time": "2022-06-22T14:08:26.461030",
     "exception": false,
     "start_time": "2022-06-22T14:08:26.376554",
     "status": "completed"
    },
    "tags": []
   },
   "outputs": [],
   "source": [
    "sequences = tokenizer_obj.texts_to_sequences(corpus)"
   ]
  },
  {
   "cell_type": "code",
   "execution_count": 21,
   "id": "579849b2",
   "metadata": {
    "execution": {
     "iopub.execute_input": "2022-06-22T14:08:26.477485Z",
     "iopub.status.busy": "2022-06-22T14:08:26.477075Z",
     "iopub.status.idle": "2022-06-22T14:08:26.512503Z",
     "shell.execute_reply": "2022-06-22T14:08:26.511416Z"
    },
    "papermill": {
     "duration": 0.046425,
     "end_time": "2022-06-22T14:08:26.514814",
     "exception": false,
     "start_time": "2022-06-22T14:08:26.468389",
     "status": "completed"
    },
    "tags": []
   },
   "outputs": [],
   "source": [
    "tweet_pad = pad_sequences(sequences, maxlen=MAX_LEN, truncating='post', padding='post')"
   ]
  },
  {
   "cell_type": "code",
   "execution_count": 22,
   "id": "25be375d",
   "metadata": {
    "execution": {
     "iopub.execute_input": "2022-06-22T14:08:26.531880Z",
     "iopub.status.busy": "2022-06-22T14:08:26.530955Z",
     "iopub.status.idle": "2022-06-22T14:08:26.539011Z",
     "shell.execute_reply": "2022-06-22T14:08:26.537856Z"
    },
    "papermill": {
     "duration": 0.018913,
     "end_time": "2022-06-22T14:08:26.541051",
     "exception": false,
     "start_time": "2022-06-22T14:08:26.522138",
     "status": "completed"
    },
    "tags": []
   },
   "outputs": [
    {
     "data": {
      "text/plain": [
       "(50,)"
      ]
     },
     "execution_count": 22,
     "metadata": {},
     "output_type": "execute_result"
    }
   ],
   "source": [
    "tweet_pad[1].shape"
   ]
  },
  {
   "cell_type": "code",
   "execution_count": null,
   "id": "461f1c30",
   "metadata": {
    "papermill": {
     "duration": 0.00704,
     "end_time": "2022-06-22T14:08:26.555533",
     "exception": false,
     "start_time": "2022-06-22T14:08:26.548493",
     "status": "completed"
    },
    "tags": []
   },
   "outputs": [],
   "source": []
  }
 ],
 "metadata": {
  "kernelspec": {
   "display_name": "Python 3",
   "language": "python",
   "name": "python3"
  },
  "language_info": {
   "codemirror_mode": {
    "name": "ipython",
    "version": 3
   },
   "file_extension": ".py",
   "mimetype": "text/x-python",
   "name": "python",
   "nbconvert_exporter": "python",
   "pygments_lexer": "ipython3",
   "version": "3.7.12"
  },
  "papermill": {
   "default_parameters": {},
   "duration": 40.670495,
   "end_time": "2022-06-22T14:08:30.121153",
   "environment_variables": {},
   "exception": null,
   "input_path": "__notebook__.ipynb",
   "output_path": "__notebook__.ipynb",
   "parameters": {},
   "start_time": "2022-06-22T14:07:49.450658",
   "version": "2.3.4"
  }
 },
 "nbformat": 4,
 "nbformat_minor": 5
}
