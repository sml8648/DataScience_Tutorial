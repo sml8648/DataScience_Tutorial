{
 "cells": [
  {
   "cell_type": "code",
   "execution_count": 1,
   "id": "3ec9e86d",
   "metadata": {
    "_cell_guid": "b1076dfc-b9ad-4769-8c92-a6c4dae69d19",
    "_uuid": "8f2839f25d086af736a60e9eeb907d3b93b6e0e5",
    "execution": {
     "iopub.execute_input": "2022-06-01T04:13:31.020434Z",
     "iopub.status.busy": "2022-06-01T04:13:31.019274Z",
     "iopub.status.idle": "2022-06-01T04:13:31.036857Z",
     "shell.execute_reply": "2022-06-01T04:13:31.035522Z"
    },
    "papermill": {
     "duration": 0.091194,
     "end_time": "2022-06-01T04:13:31.039643",
     "exception": false,
     "start_time": "2022-06-01T04:13:30.948449",
     "status": "completed"
    },
    "tags": []
   },
   "outputs": [
    {
     "name": "stdout",
     "output_type": "stream",
     "text": [
      "/kaggle/input/spaceship-titanic/sample_submission.csv\n",
      "/kaggle/input/spaceship-titanic/train.csv\n",
      "/kaggle/input/spaceship-titanic/test.csv\n"
     ]
    }
   ],
   "source": [
    "# This Python 3 environment comes with many helpful analytics libraries installed\n",
    "# It is defined by the kaggle/python Docker image: https://github.com/kaggle/docker-python\n",
    "# For example, here's several helpful packages to load\n",
    "\n",
    "import numpy as np # linear algebra\n",
    "import pandas as pd # data processing, CSV file I/O (e.g. pd.read_csv)\n",
    "\n",
    "# Input data files are available in the read-only \"../input/\" directory\n",
    "# For example, running this (by clicking run or pressing Shift+Enter) will list all files under the input directory\n",
    "\n",
    "import os\n",
    "for dirname, _, filenames in os.walk('/kaggle/input'):\n",
    "    for filename in filenames:\n",
    "        print(os.path.join(dirname, filename))\n",
    "\n",
    "# You can write up to 20GB to the current directory (/kaggle/working/) that gets preserved as output when you create a version using \"Save & Run All\" \n",
    "# You can also write temporary files to /kaggle/temp/, but they won't be saved outside of the current session\n",
    "import warnings\n",
    "warnings.filterwarnings(\"ignore\")\n",
    "\n",
    "import matplotlib.pyplot as plt"
   ]
  },
  {
   "cell_type": "code",
   "execution_count": 2,
   "id": "4e134b64",
   "metadata": {
    "execution": {
     "iopub.execute_input": "2022-06-01T04:13:31.187198Z",
     "iopub.status.busy": "2022-06-01T04:13:31.186449Z",
     "iopub.status.idle": "2022-06-01T04:13:31.260644Z",
     "shell.execute_reply": "2022-06-01T04:13:31.259308Z"
    },
    "papermill": {
     "duration": 0.1442,
     "end_time": "2022-06-01T04:13:31.263316",
     "exception": false,
     "start_time": "2022-06-01T04:13:31.119116",
     "status": "completed"
    },
    "tags": []
   },
   "outputs": [
    {
     "name": "stdout",
     "output_type": "stream",
     "text": [
      "(8693, 14)\n",
      "Index(['PassengerId', 'HomePlanet', 'CryoSleep', 'Cabin', 'Destination', 'Age',\n",
      "       'VIP', 'RoomService', 'FoodCourt', 'ShoppingMall', 'Spa', 'VRDeck',\n",
      "       'Name', 'Transported'],\n",
      "      dtype='object')\n"
     ]
    }
   ],
   "source": [
    "train = pd.read_csv('../input/spaceship-titanic/train.csv')\n",
    "print(train.shape)\n",
    "print(train.columns)"
   ]
  },
  {
   "cell_type": "code",
   "execution_count": 3,
   "id": "d748c697",
   "metadata": {
    "execution": {
     "iopub.execute_input": "2022-06-01T04:13:31.401118Z",
     "iopub.status.busy": "2022-06-01T04:13:31.400602Z",
     "iopub.status.idle": "2022-06-01T04:13:31.403868Z",
     "shell.execute_reply": "2022-06-01T04:13:31.403114Z"
    },
    "papermill": {
     "duration": 0.070578,
     "end_time": "2022-06-01T04:13:31.405672",
     "exception": false,
     "start_time": "2022-06-01T04:13:31.335094",
     "status": "completed"
    },
    "tags": []
   },
   "outputs": [],
   "source": [
    "# 1. 카테고리화가 되는 팩터들은 카테고리화를 하자\n",
    "# 2. 숫자들은 전부 정규화를 하자\n",
    "# 3. 결측치를 카테고리화가 되는 피쳐들은 None 값으로 채우고\n",
    "# 4. 숫자들은 전부 평균값으로 바꾸자"
   ]
  },
  {
   "cell_type": "markdown",
   "id": "80e7a609",
   "metadata": {
    "papermill": {
     "duration": 0.064117,
     "end_time": "2022-06-01T04:13:31.534117",
     "exception": false,
     "start_time": "2022-06-01T04:13:31.470000",
     "status": "completed"
    },
    "tags": []
   },
   "source": [
    "# EDA"
   ]
  },
  {
   "cell_type": "code",
   "execution_count": 4,
   "id": "3e9cb0c2",
   "metadata": {
    "execution": {
     "iopub.execute_input": "2022-06-01T04:13:31.664607Z",
     "iopub.status.busy": "2022-06-01T04:13:31.663949Z",
     "iopub.status.idle": "2022-06-01T04:13:31.667939Z",
     "shell.execute_reply": "2022-06-01T04:13:31.667121Z"
    },
    "papermill": {
     "duration": 0.070717,
     "end_time": "2022-06-01T04:13:31.669691",
     "exception": false,
     "start_time": "2022-06-01T04:13:31.598974",
     "status": "completed"
    },
    "tags": []
   },
   "outputs": [],
   "source": [
    "# EDA 부분을 좀더 깔끔하게 다듬자"
   ]
  },
  {
   "cell_type": "code",
   "execution_count": 5,
   "id": "39b3395c",
   "metadata": {
    "execution": {
     "iopub.execute_input": "2022-06-01T04:13:31.809881Z",
     "iopub.status.busy": "2022-06-01T04:13:31.809566Z",
     "iopub.status.idle": "2022-06-01T04:13:31.829754Z",
     "shell.execute_reply": "2022-06-01T04:13:31.828914Z"
    },
    "papermill": {
     "duration": 0.097824,
     "end_time": "2022-06-01T04:13:31.831700",
     "exception": false,
     "start_time": "2022-06-01T04:13:31.733876",
     "status": "completed"
    },
    "tags": []
   },
   "outputs": [
    {
     "data": {
      "text/plain": [
       "PassengerId       0\n",
       "HomePlanet      201\n",
       "CryoSleep       217\n",
       "Cabin           199\n",
       "Destination     182\n",
       "Age             179\n",
       "VIP             203\n",
       "RoomService     181\n",
       "FoodCourt       183\n",
       "ShoppingMall    208\n",
       "Spa             183\n",
       "VRDeck          188\n",
       "Name            200\n",
       "Transported       0\n",
       "dtype: int64"
      ]
     },
     "execution_count": 5,
     "metadata": {},
     "output_type": "execute_result"
    }
   ],
   "source": [
    "train.isnull().sum()"
   ]
  },
  {
   "cell_type": "code",
   "execution_count": 6,
   "id": "af5da1f7",
   "metadata": {
    "execution": {
     "iopub.execute_input": "2022-06-01T04:13:31.983397Z",
     "iopub.status.busy": "2022-06-01T04:13:31.983057Z",
     "iopub.status.idle": "2022-06-01T04:13:32.018500Z",
     "shell.execute_reply": "2022-06-01T04:13:32.017111Z"
    },
    "papermill": {
     "duration": 0.120418,
     "end_time": "2022-06-01T04:13:32.020486",
     "exception": false,
     "start_time": "2022-06-01T04:13:31.900068",
     "status": "completed"
    },
    "tags": []
   },
   "outputs": [
    {
     "name": "stdout",
     "output_type": "stream",
     "text": [
      "            Transported\n",
      "HomePlanet             \n",
      "Earth              4602\n",
      "Europa             2131\n",
      "Mars               1759\n",
      "            Transported\n",
      "HomePlanet             \n",
      "Earth              1951\n",
      "Europa             1404\n",
      "Mars                920\n",
      "            Transported\n",
      "HomePlanet             \n",
      "Earth          0.423946\n",
      "Europa         0.658846\n",
      "Mars           0.523024\n"
     ]
    }
   ],
   "source": [
    "print(train[['HomePlanet','Transported']].groupby(['HomePlanet'], as_index=True).count())\n",
    "print(train[['HomePlanet','Transported']].groupby(['HomePlanet'], as_index=True).sum())\n",
    "print(train[['HomePlanet','Transported']].groupby(['HomePlanet'], as_index=True).mean())"
   ]
  },
  {
   "cell_type": "code",
   "execution_count": 7,
   "id": "1fbd70a1",
   "metadata": {
    "execution": {
     "iopub.execute_input": "2022-06-01T04:13:32.152631Z",
     "iopub.status.busy": "2022-06-01T04:13:32.151826Z",
     "iopub.status.idle": "2022-06-01T04:13:32.171893Z",
     "shell.execute_reply": "2022-06-01T04:13:32.171296Z"
    },
    "papermill": {
     "duration": 0.090036,
     "end_time": "2022-06-01T04:13:32.175686",
     "exception": false,
     "start_time": "2022-06-01T04:13:32.085650",
     "status": "completed"
    },
    "tags": []
   },
   "outputs": [
    {
     "name": "stdout",
     "output_type": "stream",
     "text": [
      "           Transported\n",
      "CryoSleep             \n",
      "False             5439\n",
      "True              3037\n",
      "           Transported\n",
      "CryoSleep             \n",
      "False             1789\n",
      "True              2483\n",
      "           Transported\n",
      "CryoSleep             \n",
      "False         0.328921\n",
      "True          0.817583\n"
     ]
    }
   ],
   "source": [
    "print(train[['CryoSleep','Transported']].groupby(['CryoSleep'], as_index=True).count())\n",
    "print(train[['CryoSleep','Transported']].groupby(['CryoSleep'], as_index=True).sum())\n",
    "print(train[['CryoSleep','Transported']].groupby(['CryoSleep'], as_index=True).mean())"
   ]
  },
  {
   "cell_type": "code",
   "execution_count": 8,
   "id": "0342c95a",
   "metadata": {
    "execution": {
     "iopub.execute_input": "2022-06-01T04:13:32.309319Z",
     "iopub.status.busy": "2022-06-01T04:13:32.309022Z",
     "iopub.status.idle": "2022-06-01T04:13:32.329008Z",
     "shell.execute_reply": "2022-06-01T04:13:32.328298Z"
    },
    "papermill": {
     "duration": 0.088717,
     "end_time": "2022-06-01T04:13:32.331133",
     "exception": false,
     "start_time": "2022-06-01T04:13:32.242416",
     "status": "completed"
    },
    "tags": []
   },
   "outputs": [
    {
     "name": "stdout",
     "output_type": "stream",
     "text": [
      "               Transported\n",
      "Destination               \n",
      "55 Cancri e           1800\n",
      "PSO J318.5-22          796\n",
      "TRAPPIST-1e           5915\n",
      "               Transported\n",
      "Destination               \n",
      "55 Cancri e           1098\n",
      "PSO J318.5-22          401\n",
      "TRAPPIST-1e           2787\n",
      "               Transported\n",
      "Destination               \n",
      "55 Cancri e       0.610000\n",
      "PSO J318.5-22     0.503769\n",
      "TRAPPIST-1e       0.471175\n"
     ]
    }
   ],
   "source": [
    "print(train[['Destination','Transported']].groupby(['Destination'], as_index=True).count())\n",
    "print(train[['Destination','Transported']].groupby(['Destination'], as_index=True).sum())\n",
    "print(train[['Destination','Transported']].groupby(['Destination'], as_index=True).mean())\n",
    "# 출발지 목적지를 합쳐서 feature를 만들 수도 있을것 같다."
   ]
  },
  {
   "cell_type": "code",
   "execution_count": 9,
   "id": "962d335d",
   "metadata": {
    "execution": {
     "iopub.execute_input": "2022-06-01T04:13:32.465781Z",
     "iopub.status.busy": "2022-06-01T04:13:32.465476Z",
     "iopub.status.idle": "2022-06-01T04:13:32.486334Z",
     "shell.execute_reply": "2022-06-01T04:13:32.485472Z"
    },
    "papermill": {
     "duration": 0.090961,
     "end_time": "2022-06-01T04:13:32.488576",
     "exception": false,
     "start_time": "2022-06-01T04:13:32.397615",
     "status": "completed"
    },
    "tags": []
   },
   "outputs": [
    {
     "name": "stdout",
     "output_type": "stream",
     "text": [
      "       Transported\n",
      "VIP               \n",
      "False         8291\n",
      "True           199\n",
      "       Transported\n",
      "VIP               \n",
      "False         4198\n",
      "True            76\n",
      "       Transported\n",
      "VIP               \n",
      "False     0.506332\n",
      "True      0.381910\n"
     ]
    }
   ],
   "source": [
    "print(train[['VIP','Transported']].groupby(['VIP'], as_index=True).count())\n",
    "print(train[['VIP','Transported']].groupby(['VIP'], as_index=True).sum())\n",
    "print(train[['VIP','Transported']].groupby(['VIP'], as_index=True).mean())"
   ]
  },
  {
   "cell_type": "code",
   "execution_count": 10,
   "id": "24430687",
   "metadata": {
    "execution": {
     "iopub.execute_input": "2022-06-01T04:13:32.624279Z",
     "iopub.status.busy": "2022-06-01T04:13:32.623998Z",
     "iopub.status.idle": "2022-06-01T04:13:32.649650Z",
     "shell.execute_reply": "2022-06-01T04:13:32.648788Z"
    },
    "papermill": {
     "duration": 0.09573,
     "end_time": "2022-06-01T04:13:32.651655",
     "exception": false,
     "start_time": "2022-06-01T04:13:32.555925",
     "status": "completed"
    },
    "tags": []
   },
   "outputs": [
    {
     "data": {
      "text/html": [
       "<div>\n",
       "<style scoped>\n",
       "    .dataframe tbody tr th:only-of-type {\n",
       "        vertical-align: middle;\n",
       "    }\n",
       "\n",
       "    .dataframe tbody tr th {\n",
       "        vertical-align: top;\n",
       "    }\n",
       "\n",
       "    .dataframe thead th {\n",
       "        text-align: right;\n",
       "    }\n",
       "</style>\n",
       "<table border=\"1\" class=\"dataframe\">\n",
       "  <thead>\n",
       "    <tr style=\"text-align: right;\">\n",
       "      <th></th>\n",
       "      <th>PassengerId</th>\n",
       "      <th>CryoSleep</th>\n",
       "      <th>Cabin</th>\n",
       "      <th>Destination</th>\n",
       "      <th>Age</th>\n",
       "      <th>VIP</th>\n",
       "      <th>RoomService</th>\n",
       "      <th>FoodCourt</th>\n",
       "      <th>ShoppingMall</th>\n",
       "      <th>Spa</th>\n",
       "      <th>VRDeck</th>\n",
       "      <th>Name</th>\n",
       "      <th>Transported</th>\n",
       "    </tr>\n",
       "    <tr>\n",
       "      <th>HomePlanet</th>\n",
       "      <th></th>\n",
       "      <th></th>\n",
       "      <th></th>\n",
       "      <th></th>\n",
       "      <th></th>\n",
       "      <th></th>\n",
       "      <th></th>\n",
       "      <th></th>\n",
       "      <th></th>\n",
       "      <th></th>\n",
       "      <th></th>\n",
       "      <th></th>\n",
       "      <th></th>\n",
       "    </tr>\n",
       "  </thead>\n",
       "  <tbody>\n",
       "    <tr>\n",
       "      <th>Earth</th>\n",
       "      <td>4602</td>\n",
       "      <td>4488</td>\n",
       "      <td>4507</td>\n",
       "      <td>4503</td>\n",
       "      <td>4514</td>\n",
       "      <td>4487</td>\n",
       "      <td>4499</td>\n",
       "      <td>4505</td>\n",
       "      <td>4490</td>\n",
       "      <td>4503</td>\n",
       "      <td>4491</td>\n",
       "      <td>4496</td>\n",
       "      <td>4602</td>\n",
       "    </tr>\n",
       "    <tr>\n",
       "      <th>Europa</th>\n",
       "      <td>2131</td>\n",
       "      <td>2073</td>\n",
       "      <td>2070</td>\n",
       "      <td>2094</td>\n",
       "      <td>2085</td>\n",
       "      <td>2089</td>\n",
       "      <td>2095</td>\n",
       "      <td>2085</td>\n",
       "      <td>2078</td>\n",
       "      <td>2086</td>\n",
       "      <td>2094</td>\n",
       "      <td>2085</td>\n",
       "      <td>2131</td>\n",
       "    </tr>\n",
       "    <tr>\n",
       "      <th>Mars</th>\n",
       "      <td>1759</td>\n",
       "      <td>1716</td>\n",
       "      <td>1722</td>\n",
       "      <td>1717</td>\n",
       "      <td>1716</td>\n",
       "      <td>1716</td>\n",
       "      <td>1723</td>\n",
       "      <td>1721</td>\n",
       "      <td>1723</td>\n",
       "      <td>1723</td>\n",
       "      <td>1720</td>\n",
       "      <td>1718</td>\n",
       "      <td>1759</td>\n",
       "    </tr>\n",
       "  </tbody>\n",
       "</table>\n",
       "</div>"
      ],
      "text/plain": [
       "            PassengerId  CryoSleep  Cabin  Destination   Age   VIP  \\\n",
       "HomePlanet                                                           \n",
       "Earth              4602       4488   4507         4503  4514  4487   \n",
       "Europa             2131       2073   2070         2094  2085  2089   \n",
       "Mars               1759       1716   1722         1717  1716  1716   \n",
       "\n",
       "            RoomService  FoodCourt  ShoppingMall   Spa  VRDeck  Name  \\\n",
       "HomePlanet                                                             \n",
       "Earth              4499       4505          4490  4503    4491  4496   \n",
       "Europa             2095       2085          2078  2086    2094  2085   \n",
       "Mars               1723       1721          1723  1723    1720  1718   \n",
       "\n",
       "            Transported  \n",
       "HomePlanet               \n",
       "Earth              4602  \n",
       "Europa             2131  \n",
       "Mars               1759  "
      ]
     },
     "execution_count": 10,
     "metadata": {},
     "output_type": "execute_result"
    }
   ],
   "source": [
    "train.groupby(['HomePlanet'], as_index=True).count()"
   ]
  },
  {
   "cell_type": "code",
   "execution_count": 11,
   "id": "7cfcba5f",
   "metadata": {
    "execution": {
     "iopub.execute_input": "2022-06-01T04:13:32.788937Z",
     "iopub.status.busy": "2022-06-01T04:13:32.788507Z",
     "iopub.status.idle": "2022-06-01T04:13:32.792105Z",
     "shell.execute_reply": "2022-06-01T04:13:32.791454Z"
    },
    "papermill": {
     "duration": 0.075305,
     "end_time": "2022-06-01T04:13:32.793909",
     "exception": false,
     "start_time": "2022-06-01T04:13:32.718604",
     "status": "completed"
    },
    "tags": []
   },
   "outputs": [],
   "source": [
    "# 당연히 null 값들을 어떻게 메꿀것인가\n",
    "# 출발지 목적지 feature를 만들자\n",
    "# Name으로 문류를 해보자"
   ]
  },
  {
   "cell_type": "code",
   "execution_count": 12,
   "id": "40cb4a0f",
   "metadata": {
    "execution": {
     "iopub.execute_input": "2022-06-01T04:13:32.930013Z",
     "iopub.status.busy": "2022-06-01T04:13:32.929570Z",
     "iopub.status.idle": "2022-06-01T04:13:32.936029Z",
     "shell.execute_reply": "2022-06-01T04:13:32.935355Z"
    },
    "papermill": {
     "duration": 0.07694,
     "end_time": "2022-06-01T04:13:32.938002",
     "exception": false,
     "start_time": "2022-06-01T04:13:32.861062",
     "status": "completed"
    },
    "tags": []
   },
   "outputs": [],
   "source": [
    "train['Name'] = train['Name'].fillna('No Name')"
   ]
  },
  {
   "cell_type": "code",
   "execution_count": 13,
   "id": "60847785",
   "metadata": {
    "execution": {
     "iopub.execute_input": "2022-06-01T04:13:33.076528Z",
     "iopub.status.busy": "2022-06-01T04:13:33.076197Z",
     "iopub.status.idle": "2022-06-01T04:13:33.087396Z",
     "shell.execute_reply": "2022-06-01T04:13:33.086656Z"
    },
    "papermill": {
     "duration": 0.083459,
     "end_time": "2022-06-01T04:13:33.089641",
     "exception": false,
     "start_time": "2022-06-01T04:13:33.006182",
     "status": "completed"
    },
    "tags": []
   },
   "outputs": [],
   "source": [
    "def last_Name(x):\n",
    "    return x.split()[1]\n",
    "    \n",
    "train['last_name'] = train['Name'].apply(lambda x : last_Name(x))"
   ]
  },
  {
   "cell_type": "code",
   "execution_count": 14,
   "id": "04bd0455",
   "metadata": {
    "execution": {
     "iopub.execute_input": "2022-06-01T04:13:33.227276Z",
     "iopub.status.busy": "2022-06-01T04:13:33.226865Z",
     "iopub.status.idle": "2022-06-01T04:13:33.237763Z",
     "shell.execute_reply": "2022-06-01T04:13:33.237115Z"
    },
    "papermill": {
     "duration": 0.082275,
     "end_time": "2022-06-01T04:13:33.239881",
     "exception": false,
     "start_time": "2022-06-01T04:13:33.157606",
     "status": "completed"
    },
    "tags": []
   },
   "outputs": [],
   "source": [
    "def first_name(x):\n",
    "    return x.split()[0]\n",
    "\n",
    "train['first_name'] = train['Name'].apply(lambda x : first_name(x))"
   ]
  },
  {
   "cell_type": "code",
   "execution_count": 15,
   "id": "c3416f88",
   "metadata": {
    "execution": {
     "iopub.execute_input": "2022-06-01T04:13:33.375256Z",
     "iopub.status.busy": "2022-06-01T04:13:33.374923Z",
     "iopub.status.idle": "2022-06-01T04:13:33.391876Z",
     "shell.execute_reply": "2022-06-01T04:13:33.391308Z"
    },
    "papermill": {
     "duration": 0.087223,
     "end_time": "2022-06-01T04:13:33.393964",
     "exception": false,
     "start_time": "2022-06-01T04:13:33.306741",
     "status": "completed"
    },
    "tags": []
   },
   "outputs": [
    {
     "name": "stdout",
     "output_type": "stream",
     "text": [
      "            Transported\n",
      "last_name              \n",
      "Slatessen           1.0\n",
      "Slates              1.0\n",
      "Disight             1.0\n",
      "Sophaft             1.0\n",
      "Gooki               1.0\n",
      "Craing              1.0\n",
      "Sionerorly          1.0\n",
      "Noxiong             1.0\n",
      "Singmage            1.0\n",
      "Singlents           1.0\n",
      "Sinecthex           1.0\n",
      "Idivent             1.0\n",
      "Nutca               1.0\n",
      "Obnoble             1.0\n",
      "Idalpus             1.0\n",
      "Icablebat           1.0\n",
      "Capplid             1.0\n",
      "Beake               1.0\n",
      "Siviothy            1.0\n",
      "Conate              1.0\n"
     ]
    }
   ],
   "source": [
    "print(train[['last_name','Transported']].groupby(['last_name'], as_index=True).mean().sort_values(by=['Transported']).tail(20))"
   ]
  },
  {
   "cell_type": "code",
   "execution_count": 16,
   "id": "968b133f",
   "metadata": {
    "execution": {
     "iopub.execute_input": "2022-06-01T04:13:33.531509Z",
     "iopub.status.busy": "2022-06-01T04:13:33.530873Z",
     "iopub.status.idle": "2022-06-01T04:13:33.546770Z",
     "shell.execute_reply": "2022-06-01T04:13:33.545623Z"
    },
    "papermill": {
     "duration": 0.087129,
     "end_time": "2022-06-01T04:13:33.549443",
     "exception": false,
     "start_time": "2022-06-01T04:13:33.462314",
     "status": "completed"
    },
    "tags": []
   },
   "outputs": [
    {
     "name": "stdout",
     "output_type": "stream",
     "text": [
      "     PassengerId HomePlanet CryoSleep    Cabin  Destination   Age    VIP  \\\n",
      "4071     4348_01     Europa      True  B/142/P  TRAPPIST-1e  47.0   True   \n",
      "7228     7723_01     Europa      True  B/254/P  TRAPPIST-1e  27.0  False   \n",
      "\n",
      "      RoomService  FoodCourt  ShoppingMall  Spa  VRDeck           Name  \\\n",
      "4071          0.0        0.0           0.0  0.0     0.0  Krazet Conate   \n",
      "7228          0.0        0.0           0.0  0.0     0.0  Sheleb Conate   \n",
      "\n",
      "      Transported last_name first_name  \n",
      "4071         True    Conate     Krazet  \n",
      "7228         True    Conate     Sheleb  \n"
     ]
    }
   ],
   "source": [
    "print(train[train['last_name'] == 'Conate'])"
   ]
  },
  {
   "cell_type": "code",
   "execution_count": 17,
   "id": "efe5ff26",
   "metadata": {
    "execution": {
     "iopub.execute_input": "2022-06-01T04:13:33.688323Z",
     "iopub.status.busy": "2022-06-01T04:13:33.688012Z",
     "iopub.status.idle": "2022-06-01T04:13:33.697345Z",
     "shell.execute_reply": "2022-06-01T04:13:33.696266Z"
    },
    "papermill": {
     "duration": 0.080567,
     "end_time": "2022-06-01T04:13:33.699464",
     "exception": false,
     "start_time": "2022-06-01T04:13:33.618897",
     "status": "completed"
    },
    "tags": []
   },
   "outputs": [],
   "source": [
    "train['Passenger_group'] = train['PassengerId'].apply(lambda x : x[:4])"
   ]
  },
  {
   "cell_type": "code",
   "execution_count": 18,
   "id": "2dde2471",
   "metadata": {
    "execution": {
     "iopub.execute_input": "2022-06-01T04:13:33.836562Z",
     "iopub.status.busy": "2022-06-01T04:13:33.836172Z",
     "iopub.status.idle": "2022-06-01T04:13:33.854769Z",
     "shell.execute_reply": "2022-06-01T04:13:33.853936Z"
    },
    "papermill": {
     "duration": 0.089947,
     "end_time": "2022-06-01T04:13:33.857067",
     "exception": false,
     "start_time": "2022-06-01T04:13:33.767120",
     "status": "completed"
    },
    "tags": []
   },
   "outputs": [
    {
     "name": "stdout",
     "output_type": "stream",
     "text": [
      "                 Transported\n",
      "Passenger_group             \n",
      "0001                0.000000\n",
      "0002                1.000000\n",
      "0003                0.000000\n",
      "0004                1.000000\n",
      "0005                1.000000\n",
      "...                      ...\n",
      "9275                0.666667\n",
      "9276                0.000000\n",
      "9278                0.000000\n",
      "9279                1.000000\n",
      "9280                0.500000\n",
      "\n",
      "[6217 rows x 1 columns]\n"
     ]
    }
   ],
   "source": [
    "print(train[['Passenger_group','Transported']].groupby(['Passenger_group'], as_index=True).mean())"
   ]
  },
  {
   "cell_type": "code",
   "execution_count": 19,
   "id": "dd288a43",
   "metadata": {
    "execution": {
     "iopub.execute_input": "2022-06-01T04:13:33.996123Z",
     "iopub.status.busy": "2022-06-01T04:13:33.995532Z",
     "iopub.status.idle": "2022-06-01T04:13:34.003278Z",
     "shell.execute_reply": "2022-06-01T04:13:34.002456Z"
    },
    "papermill": {
     "duration": 0.079924,
     "end_time": "2022-06-01T04:13:34.005265",
     "exception": false,
     "start_time": "2022-06-01T04:13:33.925341",
     "status": "completed"
    },
    "tags": []
   },
   "outputs": [
    {
     "data": {
      "text/plain": [
       "(6217,)"
      ]
     },
     "execution_count": 19,
     "metadata": {},
     "output_type": "execute_result"
    }
   ],
   "source": [
    "train['Passenger_group'].unique().shape"
   ]
  },
  {
   "cell_type": "code",
   "execution_count": 20,
   "id": "187f4dae",
   "metadata": {
    "execution": {
     "iopub.execute_input": "2022-06-01T04:13:34.144484Z",
     "iopub.status.busy": "2022-06-01T04:13:34.143932Z",
     "iopub.status.idle": "2022-06-01T04:13:34.151642Z",
     "shell.execute_reply": "2022-06-01T04:13:34.150783Z"
    },
    "papermill": {
     "duration": 0.079527,
     "end_time": "2022-06-01T04:13:34.153625",
     "exception": false,
     "start_time": "2022-06-01T04:13:34.074098",
     "status": "completed"
    },
    "tags": []
   },
   "outputs": [
    {
     "data": {
      "text/plain": [
       "0          B/0/P\n",
       "1          F/0/S\n",
       "2          A/0/S\n",
       "3          A/0/S\n",
       "4          F/1/S\n",
       "          ...   \n",
       "8688      A/98/P\n",
       "8689    G/1499/S\n",
       "8690    G/1500/S\n",
       "8691     E/608/S\n",
       "8692     E/608/S\n",
       "Name: Cabin, Length: 8693, dtype: object"
      ]
     },
     "execution_count": 20,
     "metadata": {},
     "output_type": "execute_result"
    }
   ],
   "source": [
    "train['Cabin']"
   ]
  },
  {
   "cell_type": "code",
   "execution_count": 21,
   "id": "85fa805e",
   "metadata": {
    "execution": {
     "iopub.execute_input": "2022-06-01T04:13:34.294690Z",
     "iopub.status.busy": "2022-06-01T04:13:34.294418Z",
     "iopub.status.idle": "2022-06-01T04:13:34.312514Z",
     "shell.execute_reply": "2022-06-01T04:13:34.311940Z"
    },
    "papermill": {
     "duration": 0.090025,
     "end_time": "2022-06-01T04:13:34.314252",
     "exception": false,
     "start_time": "2022-06-01T04:13:34.224227",
     "status": "completed"
    },
    "tags": []
   },
   "outputs": [
    {
     "data": {
      "text/plain": [
       "PassengerId          0\n",
       "HomePlanet         201\n",
       "CryoSleep          217\n",
       "Cabin              199\n",
       "Destination        182\n",
       "Age                179\n",
       "VIP                203\n",
       "RoomService        181\n",
       "FoodCourt          183\n",
       "ShoppingMall       208\n",
       "Spa                183\n",
       "VRDeck             188\n",
       "Name                 0\n",
       "Transported          0\n",
       "last_name            0\n",
       "first_name           0\n",
       "Passenger_group      0\n",
       "dtype: int64"
      ]
     },
     "execution_count": 21,
     "metadata": {},
     "output_type": "execute_result"
    }
   ],
   "source": [
    "train.isnull().sum()"
   ]
  },
  {
   "cell_type": "code",
   "execution_count": 22,
   "id": "a0fb8d8c",
   "metadata": {
    "execution": {
     "iopub.execute_input": "2022-06-01T04:13:34.455028Z",
     "iopub.status.busy": "2022-06-01T04:13:34.453972Z",
     "iopub.status.idle": "2022-06-01T04:13:34.462020Z",
     "shell.execute_reply": "2022-06-01T04:13:34.461003Z"
    },
    "papermill": {
     "duration": 0.081022,
     "end_time": "2022-06-01T04:13:34.464645",
     "exception": false,
     "start_time": "2022-06-01T04:13:34.383623",
     "status": "completed"
    },
    "tags": []
   },
   "outputs": [
    {
     "name": "stdout",
     "output_type": "stream",
     "text": [
      "F/0/S\n"
     ]
    }
   ],
   "source": [
    "# Cabin을 분해\n",
    "print(train['Cabin'].iloc[1])\n",
    "\n",
    "# Cabin null은 N/N/N 으로 채움\n",
    "train['Cabin'] = train['Cabin'].fillna('N/N/N')"
   ]
  },
  {
   "cell_type": "code",
   "execution_count": 23,
   "id": "d69ce894",
   "metadata": {
    "execution": {
     "iopub.execute_input": "2022-06-01T04:13:34.606843Z",
     "iopub.status.busy": "2022-06-01T04:13:34.606418Z",
     "iopub.status.idle": "2022-06-01T04:13:34.616976Z",
     "shell.execute_reply": "2022-06-01T04:13:34.616282Z"
    },
    "papermill": {
     "duration": 0.083938,
     "end_time": "2022-06-01T04:13:34.619112",
     "exception": false,
     "start_time": "2022-06-01T04:13:34.535174",
     "status": "completed"
    },
    "tags": []
   },
   "outputs": [],
   "source": [
    "def Dec_split(x):\n",
    "    return x.split('/')[0]\n",
    "\n",
    "train['Deck'] = train['Cabin'].apply(lambda x : Dec_split(x))"
   ]
  },
  {
   "cell_type": "code",
   "execution_count": 24,
   "id": "42ef5383",
   "metadata": {
    "execution": {
     "iopub.execute_input": "2022-06-01T04:13:34.760338Z",
     "iopub.status.busy": "2022-06-01T04:13:34.760021Z",
     "iopub.status.idle": "2022-06-01T04:13:34.782691Z",
     "shell.execute_reply": "2022-06-01T04:13:34.781902Z"
    },
    "papermill": {
     "duration": 0.095726,
     "end_time": "2022-06-01T04:13:34.785130",
     "exception": false,
     "start_time": "2022-06-01T04:13:34.689404",
     "status": "completed"
    },
    "tags": []
   },
   "outputs": [
    {
     "name": "stdout",
     "output_type": "stream",
     "text": [
      "      Transported\n",
      "Deck             \n",
      "A             256\n",
      "B             779\n",
      "C             747\n",
      "D             478\n",
      "E             876\n",
      "F            2794\n",
      "G            2559\n",
      "N             199\n",
      "T               5\n",
      "      Transported\n",
      "Deck             \n",
      "A             127\n",
      "B             572\n",
      "C             508\n",
      "D             207\n",
      "E             313\n",
      "F            1229\n",
      "G            1321\n",
      "N             100\n",
      "T               1\n",
      "      Transported\n",
      "Deck             \n",
      "A        0.496094\n",
      "B        0.734275\n",
      "C        0.680054\n",
      "D        0.433054\n",
      "E        0.357306\n",
      "F        0.439871\n",
      "G        0.516217\n",
      "N        0.502513\n",
      "T        0.200000\n"
     ]
    }
   ],
   "source": [
    "print(train[['Deck','Transported']].groupby(['Deck'], as_index=True).count())\n",
    "print(train[['Deck','Transported']].groupby(['Deck'], as_index=True).sum())\n",
    "print(train[['Deck','Transported']].groupby(['Deck'], as_index=True).mean())"
   ]
  },
  {
   "cell_type": "code",
   "execution_count": 25,
   "id": "523990c1",
   "metadata": {
    "execution": {
     "iopub.execute_input": "2022-06-01T04:13:34.929498Z",
     "iopub.status.busy": "2022-06-01T04:13:34.929020Z",
     "iopub.status.idle": "2022-06-01T04:13:34.939261Z",
     "shell.execute_reply": "2022-06-01T04:13:34.938665Z"
    },
    "papermill": {
     "duration": 0.086388,
     "end_time": "2022-06-01T04:13:34.941387",
     "exception": false,
     "start_time": "2022-06-01T04:13:34.854999",
     "status": "completed"
    },
    "tags": []
   },
   "outputs": [],
   "source": [
    "def Num_split(x):\n",
    "    return x.split('/')[1]\n",
    "\n",
    "train['Num'] = train['Cabin'].apply(lambda x : Num_split(x))"
   ]
  },
  {
   "cell_type": "code",
   "execution_count": 26,
   "id": "4bada7b9",
   "metadata": {
    "execution": {
     "iopub.execute_input": "2022-06-01T04:13:35.083730Z",
     "iopub.status.busy": "2022-06-01T04:13:35.083170Z",
     "iopub.status.idle": "2022-06-01T04:13:35.093189Z",
     "shell.execute_reply": "2022-06-01T04:13:35.092496Z"
    },
    "papermill": {
     "duration": 0.083261,
     "end_time": "2022-06-01T04:13:35.095520",
     "exception": false,
     "start_time": "2022-06-01T04:13:35.012259",
     "status": "completed"
    },
    "tags": []
   },
   "outputs": [],
   "source": [
    "def Side_split(x):\n",
    "    return x.split('/')[2]\n",
    "\n",
    "train['Side'] = train['Cabin'].apply(lambda x : Side_split(x))"
   ]
  },
  {
   "cell_type": "code",
   "execution_count": 27,
   "id": "dc8cd9ae",
   "metadata": {
    "execution": {
     "iopub.execute_input": "2022-06-01T04:13:35.239580Z",
     "iopub.status.busy": "2022-06-01T04:13:35.238762Z",
     "iopub.status.idle": "2022-06-01T04:13:35.245704Z",
     "shell.execute_reply": "2022-06-01T04:13:35.245170Z"
    },
    "papermill": {
     "duration": 0.081526,
     "end_time": "2022-06-01T04:13:35.247522",
     "exception": false,
     "start_time": "2022-06-01T04:13:35.165996",
     "status": "completed"
    },
    "tags": []
   },
   "outputs": [
    {
     "data": {
      "text/plain": [
       "0       P\n",
       "1       S\n",
       "2       S\n",
       "3       S\n",
       "4       S\n",
       "       ..\n",
       "8688    P\n",
       "8689    S\n",
       "8690    S\n",
       "8691    S\n",
       "8692    S\n",
       "Name: Side, Length: 8693, dtype: object"
      ]
     },
     "execution_count": 27,
     "metadata": {},
     "output_type": "execute_result"
    }
   ],
   "source": [
    "train['Side']"
   ]
  },
  {
   "cell_type": "code",
   "execution_count": 28,
   "id": "d0bd71af",
   "metadata": {
    "execution": {
     "iopub.execute_input": "2022-06-01T04:13:35.390332Z",
     "iopub.status.busy": "2022-06-01T04:13:35.389781Z",
     "iopub.status.idle": "2022-06-01T04:13:35.402631Z",
     "shell.execute_reply": "2022-06-01T04:13:35.401950Z"
    },
    "papermill": {
     "duration": 0.087334,
     "end_time": "2022-06-01T04:13:35.405249",
     "exception": false,
     "start_time": "2022-06-01T04:13:35.317915",
     "status": "completed"
    },
    "tags": []
   },
   "outputs": [
    {
     "name": "stdout",
     "output_type": "stream",
     "text": [
      "      Transported\n",
      "Side             \n",
      "N        0.502513\n",
      "P        0.451260\n",
      "S        0.555037\n"
     ]
    }
   ],
   "source": [
    "print(train[['Side','Transported']].groupby(['Side'], as_index=True).mean())"
   ]
  },
  {
   "cell_type": "code",
   "execution_count": 29,
   "id": "0592a32f",
   "metadata": {
    "execution": {
     "iopub.execute_input": "2022-06-01T04:13:35.558203Z",
     "iopub.status.busy": "2022-06-01T04:13:35.557684Z",
     "iopub.status.idle": "2022-06-01T04:13:35.560904Z",
     "shell.execute_reply": "2022-06-01T04:13:35.560246Z"
    },
    "papermill": {
     "duration": 0.077852,
     "end_time": "2022-06-01T04:13:35.562883",
     "exception": false,
     "start_time": "2022-06-01T04:13:35.485031",
     "status": "completed"
    },
    "tags": []
   },
   "outputs": [],
   "source": [
    "# 그거에 대한 연결 고리고 차원만 높인다면 딥러닝이 찾아줄것 같은데"
   ]
  },
  {
   "cell_type": "code",
   "execution_count": 30,
   "id": "f10b009f",
   "metadata": {
    "execution": {
     "iopub.execute_input": "2022-06-01T04:13:35.708438Z",
     "iopub.status.busy": "2022-06-01T04:13:35.707969Z",
     "iopub.status.idle": "2022-06-01T04:13:35.718103Z",
     "shell.execute_reply": "2022-06-01T04:13:35.716885Z"
    },
    "papermill": {
     "duration": 0.085017,
     "end_time": "2022-06-01T04:13:35.720654",
     "exception": false,
     "start_time": "2022-06-01T04:13:35.635637",
     "status": "completed"
    },
    "tags": []
   },
   "outputs": [
    {
     "name": "stdout",
     "output_type": "stream",
     "text": [
      "            VRDeck\n",
      "VIP               \n",
      "False   282.718056\n",
      "True   1234.856410\n"
     ]
    }
   ],
   "source": [
    "print(train[['VIP','VRDeck']].groupby(['VIP'], as_index=True).mean())"
   ]
  },
  {
   "cell_type": "code",
   "execution_count": 31,
   "id": "00973162",
   "metadata": {
    "execution": {
     "iopub.execute_input": "2022-06-01T04:13:35.866783Z",
     "iopub.status.busy": "2022-06-01T04:13:35.866242Z",
     "iopub.status.idle": "2022-06-01T04:13:35.870262Z",
     "shell.execute_reply": "2022-06-01T04:13:35.869567Z"
    },
    "papermill": {
     "duration": 0.079255,
     "end_time": "2022-06-01T04:13:35.872272",
     "exception": false,
     "start_time": "2022-06-01T04:13:35.793017",
     "status": "completed"
    },
    "tags": []
   },
   "outputs": [],
   "source": [
    "Room_service = train['RoomService'].to_numpy()"
   ]
  },
  {
   "cell_type": "code",
   "execution_count": 32,
   "id": "e20f6879",
   "metadata": {
    "execution": {
     "iopub.execute_input": "2022-06-01T04:13:36.018531Z",
     "iopub.status.busy": "2022-06-01T04:13:36.018184Z",
     "iopub.status.idle": "2022-06-01T04:13:36.022182Z",
     "shell.execute_reply": "2022-06-01T04:13:36.021357Z"
    },
    "papermill": {
     "duration": 0.078937,
     "end_time": "2022-06-01T04:13:36.024220",
     "exception": false,
     "start_time": "2022-06-01T04:13:35.945283",
     "status": "completed"
    },
    "tags": []
   },
   "outputs": [],
   "source": [
    "Room_service = np.log(Room_service)"
   ]
  },
  {
   "cell_type": "code",
   "execution_count": 33,
   "id": "28768514",
   "metadata": {
    "execution": {
     "iopub.execute_input": "2022-06-01T04:13:36.168597Z",
     "iopub.status.busy": "2022-06-01T04:13:36.168292Z",
     "iopub.status.idle": "2022-06-01T04:13:36.172229Z",
     "shell.execute_reply": "2022-06-01T04:13:36.171429Z"
    },
    "papermill": {
     "duration": 0.07823,
     "end_time": "2022-06-01T04:13:36.174184",
     "exception": false,
     "start_time": "2022-06-01T04:13:36.095954",
     "status": "completed"
    },
    "tags": []
   },
   "outputs": [],
   "source": [
    "result = np.isfinite(Room_service)"
   ]
  },
  {
   "cell_type": "code",
   "execution_count": 34,
   "id": "2b8166c8",
   "metadata": {
    "execution": {
     "iopub.execute_input": "2022-06-01T04:13:36.319934Z",
     "iopub.status.busy": "2022-06-01T04:13:36.319126Z",
     "iopub.status.idle": "2022-06-01T04:13:36.324016Z",
     "shell.execute_reply": "2022-06-01T04:13:36.323453Z"
    },
    "papermill": {
     "duration": 0.079695,
     "end_time": "2022-06-01T04:13:36.325982",
     "exception": false,
     "start_time": "2022-06-01T04:13:36.246287",
     "status": "completed"
    },
    "tags": []
   },
   "outputs": [
    {
     "name": "stdout",
     "output_type": "stream",
     "text": [
      "[4.69134788 3.76120012 5.71373281 ... 4.4543473  0.         4.83628191]\n"
     ]
    }
   ],
   "source": [
    "Room_service = Room_service[result]\n",
    "print(Room_service)"
   ]
  },
  {
   "cell_type": "code",
   "execution_count": 35,
   "id": "41642665",
   "metadata": {
    "execution": {
     "iopub.execute_input": "2022-06-01T04:13:36.471569Z",
     "iopub.status.busy": "2022-06-01T04:13:36.471148Z",
     "iopub.status.idle": "2022-06-01T04:13:36.474587Z",
     "shell.execute_reply": "2022-06-01T04:13:36.474005Z"
    },
    "papermill": {
     "duration": 0.0784,
     "end_time": "2022-06-01T04:13:36.476410",
     "exception": false,
     "start_time": "2022-06-01T04:13:36.398010",
     "status": "completed"
    },
    "tags": []
   },
   "outputs": [],
   "source": [
    "R_min = Room_service.min()"
   ]
  },
  {
   "cell_type": "code",
   "execution_count": 36,
   "id": "40d7e308",
   "metadata": {
    "execution": {
     "iopub.execute_input": "2022-06-01T04:13:36.623552Z",
     "iopub.status.busy": "2022-06-01T04:13:36.623016Z",
     "iopub.status.idle": "2022-06-01T04:13:36.626322Z",
     "shell.execute_reply": "2022-06-01T04:13:36.625764Z"
    },
    "papermill": {
     "duration": 0.079754,
     "end_time": "2022-06-01T04:13:36.628250",
     "exception": false,
     "start_time": "2022-06-01T04:13:36.548496",
     "status": "completed"
    },
    "tags": []
   },
   "outputs": [],
   "source": [
    "R_max = Room_service.max()"
   ]
  },
  {
   "cell_type": "code",
   "execution_count": 37,
   "id": "fea74b5c",
   "metadata": {
    "execution": {
     "iopub.execute_input": "2022-06-01T04:13:36.773924Z",
     "iopub.status.busy": "2022-06-01T04:13:36.773489Z",
     "iopub.status.idle": "2022-06-01T04:13:36.777342Z",
     "shell.execute_reply": "2022-06-01T04:13:36.776629Z"
    },
    "papermill": {
     "duration": 0.078596,
     "end_time": "2022-06-01T04:13:36.779297",
     "exception": false,
     "start_time": "2022-06-01T04:13:36.700701",
     "status": "completed"
    },
    "tags": []
   },
   "outputs": [],
   "source": [
    "arr1 = np.clip(Room_service,R_min,R_max)"
   ]
  },
  {
   "cell_type": "code",
   "execution_count": 38,
   "id": "758ca126",
   "metadata": {
    "execution": {
     "iopub.execute_input": "2022-06-01T04:13:36.923241Z",
     "iopub.status.busy": "2022-06-01T04:13:36.922968Z",
     "iopub.status.idle": "2022-06-01T04:13:36.927016Z",
     "shell.execute_reply": "2022-06-01T04:13:36.926118Z"
    },
    "papermill": {
     "duration": 0.078435,
     "end_time": "2022-06-01T04:13:36.928987",
     "exception": false,
     "start_time": "2022-06-01T04:13:36.850552",
     "status": "completed"
    },
    "tags": []
   },
   "outputs": [],
   "source": [
    "RS = pd.Series(arr1)"
   ]
  },
  {
   "cell_type": "code",
   "execution_count": 39,
   "id": "b9d309ca",
   "metadata": {
    "execution": {
     "iopub.execute_input": "2022-06-01T04:13:37.075866Z",
     "iopub.status.busy": "2022-06-01T04:13:37.075341Z",
     "iopub.status.idle": "2022-06-01T04:13:37.437710Z",
     "shell.execute_reply": "2022-06-01T04:13:37.436758Z"
    },
    "papermill": {
     "duration": 0.437617,
     "end_time": "2022-06-01T04:13:37.439775",
     "exception": false,
     "start_time": "2022-06-01T04:13:37.002158",
     "status": "completed"
    },
    "tags": []
   },
   "outputs": [
    {
     "data": {
      "text/plain": [
       "<AxesSubplot:>"
      ]
     },
     "execution_count": 39,
     "metadata": {},
     "output_type": "execute_result"
    },
    {
     "data": {
      "image/png": "[encoded data removed]",
      "text/plain": [
       "<Figure size 432x288 with 1 Axes>"
      ]
     },
     "metadata": {
      "needs_background": "light"
     },
     "output_type": "display_data"
    }
   ],
   "source": [
    "RS.hist()"
   ]
  },
  {
   "cell_type": "markdown",
   "id": "adde0b16",
   "metadata": {
    "execution": {
     "iopub.execute_input": "2022-04-16T23:24:59.249976Z",
     "iopub.status.busy": "2022-04-16T23:24:59.249627Z",
     "iopub.status.idle": "2022-04-16T23:24:59.290007Z",
     "shell.execute_reply": "2022-04-16T23:24:59.289208Z",
     "shell.execute_reply.started": "2022-04-16T23:24:59.249941Z"
    },
    "papermill": {
     "duration": 0.072896,
     "end_time": "2022-06-01T04:13:37.585559",
     "exception": false,
     "start_time": "2022-06-01T04:13:37.512663",
     "status": "completed"
    },
    "tags": []
   },
   "source": [
    "# train"
   ]
  },
  {
   "cell_type": "code",
   "execution_count": 40,
   "id": "ca73bb26",
   "metadata": {
    "execution": {
     "iopub.execute_input": "2022-06-01T04:13:37.734140Z",
     "iopub.status.busy": "2022-06-01T04:13:37.733606Z",
     "iopub.status.idle": "2022-06-01T04:13:37.739011Z",
     "shell.execute_reply": "2022-06-01T04:13:37.738328Z"
    },
    "papermill": {
     "duration": 0.082223,
     "end_time": "2022-06-01T04:13:37.741245",
     "exception": false,
     "start_time": "2022-06-01T04:13:37.659022",
     "status": "completed"
    },
    "tags": []
   },
   "outputs": [],
   "source": [
    "corr_df = train[['RoomService','FoodCourt','ShoppingMall','Spa','VRDeck','Transported']]"
   ]
  },
  {
   "cell_type": "code",
   "execution_count": 41,
   "id": "06c4251c",
   "metadata": {
    "execution": {
     "iopub.execute_input": "2022-06-01T04:13:37.892435Z",
     "iopub.status.busy": "2022-06-01T04:13:37.891921Z",
     "iopub.status.idle": "2022-06-01T04:13:37.906999Z",
     "shell.execute_reply": "2022-06-01T04:13:37.906410Z"
    },
    "papermill": {
     "duration": 0.09344,
     "end_time": "2022-06-01T04:13:37.908968",
     "exception": false,
     "start_time": "2022-06-01T04:13:37.815528",
     "status": "completed"
    },
    "tags": []
   },
   "outputs": [
    {
     "data": {
      "text/html": [
       "<div>\n",
       "<style scoped>\n",
       "    .dataframe tbody tr th:only-of-type {\n",
       "        vertical-align: middle;\n",
       "    }\n",
       "\n",
       "    .dataframe tbody tr th {\n",
       "        vertical-align: top;\n",
       "    }\n",
       "\n",
       "    .dataframe thead th {\n",
       "        text-align: right;\n",
       "    }\n",
       "</style>\n",
       "<table border=\"1\" class=\"dataframe\">\n",
       "  <thead>\n",
       "    <tr style=\"text-align: right;\">\n",
       "      <th></th>\n",
       "      <th>RoomService</th>\n",
       "      <th>FoodCourt</th>\n",
       "      <th>ShoppingMall</th>\n",
       "      <th>Spa</th>\n",
       "      <th>VRDeck</th>\n",
       "      <th>Transported</th>\n",
       "    </tr>\n",
       "  </thead>\n",
       "  <tbody>\n",
       "    <tr>\n",
       "      <th>RoomService</th>\n",
       "      <td>1.000000</td>\n",
       "      <td>-0.015889</td>\n",
       "      <td>0.054480</td>\n",
       "      <td>0.010080</td>\n",
       "      <td>-0.019581</td>\n",
       "      <td>-0.244611</td>\n",
       "    </tr>\n",
       "    <tr>\n",
       "      <th>FoodCourt</th>\n",
       "      <td>-0.015889</td>\n",
       "      <td>1.000000</td>\n",
       "      <td>-0.014228</td>\n",
       "      <td>0.221891</td>\n",
       "      <td>0.227995</td>\n",
       "      <td>0.046566</td>\n",
       "    </tr>\n",
       "    <tr>\n",
       "      <th>ShoppingMall</th>\n",
       "      <td>0.054480</td>\n",
       "      <td>-0.014228</td>\n",
       "      <td>1.000000</td>\n",
       "      <td>0.013879</td>\n",
       "      <td>-0.007322</td>\n",
       "      <td>0.010141</td>\n",
       "    </tr>\n",
       "    <tr>\n",
       "      <th>Spa</th>\n",
       "      <td>0.010080</td>\n",
       "      <td>0.221891</td>\n",
       "      <td>0.013879</td>\n",
       "      <td>1.000000</td>\n",
       "      <td>0.153821</td>\n",
       "      <td>-0.221131</td>\n",
       "    </tr>\n",
       "    <tr>\n",
       "      <th>VRDeck</th>\n",
       "      <td>-0.019581</td>\n",
       "      <td>0.227995</td>\n",
       "      <td>-0.007322</td>\n",
       "      <td>0.153821</td>\n",
       "      <td>1.000000</td>\n",
       "      <td>-0.207075</td>\n",
       "    </tr>\n",
       "    <tr>\n",
       "      <th>Transported</th>\n",
       "      <td>-0.244611</td>\n",
       "      <td>0.046566</td>\n",
       "      <td>0.010141</td>\n",
       "      <td>-0.221131</td>\n",
       "      <td>-0.207075</td>\n",
       "      <td>1.000000</td>\n",
       "    </tr>\n",
       "  </tbody>\n",
       "</table>\n",
       "</div>"
      ],
      "text/plain": [
       "              RoomService  FoodCourt  ShoppingMall       Spa    VRDeck  \\\n",
       "RoomService      1.000000  -0.015889      0.054480  0.010080 -0.019581   \n",
       "FoodCourt       -0.015889   1.000000     -0.014228  0.221891  0.227995   \n",
       "ShoppingMall     0.054480  -0.014228      1.000000  0.013879 -0.007322   \n",
       "Spa              0.010080   0.221891      0.013879  1.000000  0.153821   \n",
       "VRDeck          -0.019581   0.227995     -0.007322  0.153821  1.000000   \n",
       "Transported     -0.244611   0.046566      0.010141 -0.221131 -0.207075   \n",
       "\n",
       "              Transported  \n",
       "RoomService     -0.244611  \n",
       "FoodCourt        0.046566  \n",
       "ShoppingMall     0.010141  \n",
       "Spa             -0.221131  \n",
       "VRDeck          -0.207075  \n",
       "Transported      1.000000  "
      ]
     },
     "execution_count": 41,
     "metadata": {},
     "output_type": "execute_result"
    }
   ],
   "source": [
    "corr_df.corr()"
   ]
  },
  {
   "cell_type": "markdown",
   "id": "c121e2f9",
   "metadata": {
    "papermill": {
     "duration": 0.074611,
     "end_time": "2022-06-01T04:13:38.056255",
     "exception": false,
     "start_time": "2022-06-01T04:13:37.981644",
     "status": "completed"
    },
    "tags": []
   },
   "source": [
    "# Preprocessing"
   ]
  },
  {
   "cell_type": "code",
   "execution_count": 42,
   "id": "dc565522",
   "metadata": {
    "execution": {
     "iopub.execute_input": "2022-06-01T04:13:38.203822Z",
     "iopub.status.busy": "2022-06-01T04:13:38.203343Z",
     "iopub.status.idle": "2022-06-01T04:13:38.277344Z",
     "shell.execute_reply": "2022-06-01T04:13:38.276675Z"
    },
    "papermill": {
     "duration": 0.150356,
     "end_time": "2022-06-01T04:13:38.279444",
     "exception": false,
     "start_time": "2022-06-01T04:13:38.129088",
     "status": "completed"
    },
    "tags": []
   },
   "outputs": [
    {
     "name": "stdout",
     "output_type": "stream",
     "text": [
      "(8693, 14) (4277, 13)\n"
     ]
    }
   ],
   "source": [
    "# Make a full set of dataset\n",
    "train = pd.read_csv('../input/spaceship-titanic/train.csv')\n",
    "test = pd.read_csv('../input/spaceship-titanic/test.csv')\n",
    "\n",
    "# Check the shape of train and test\n",
    "print(train.shape, test.shape)\n",
    "\n",
    "# Concat train_set without labels and test_set\n",
    "Full_set = pd.concat([train.iloc[:,:-1],test])"
   ]
  },
  {
   "cell_type": "code",
   "execution_count": 43,
   "id": "78bbcf19",
   "metadata": {
    "execution": {
     "iopub.execute_input": "2022-06-01T04:13:38.428381Z",
     "iopub.status.busy": "2022-06-01T04:13:38.427893Z",
     "iopub.status.idle": "2022-06-01T04:13:38.439286Z",
     "shell.execute_reply": "2022-06-01T04:13:38.438494Z"
    },
    "papermill": {
     "duration": 0.088807,
     "end_time": "2022-06-01T04:13:38.441558",
     "exception": false,
     "start_time": "2022-06-01T04:13:38.352751",
     "status": "completed"
    },
    "tags": []
   },
   "outputs": [],
   "source": [
    "# Drop useless columns\n",
    "Full_set = Full_set.drop(['PassengerId','Name'],axis=1)\n",
    "\n",
    "# Split Numerical columns and Categorical value\n",
    "Numerical_set = Full_set[['Age','RoomService','FoodCourt','ShoppingMall','Spa','VRDeck']]\n",
    "Categorical_set = Full_set[['HomePlanet','CryoSleep','Cabin','Destination','VIP']]"
   ]
  },
  {
   "cell_type": "code",
   "execution_count": 44,
   "id": "cfa9c9a8",
   "metadata": {
    "execution": {
     "iopub.execute_input": "2022-06-01T04:13:38.590508Z",
     "iopub.status.busy": "2022-06-01T04:13:38.590208Z",
     "iopub.status.idle": "2022-06-01T04:13:39.687254Z",
     "shell.execute_reply": "2022-06-01T04:13:39.685991Z"
    },
    "papermill": {
     "duration": 1.174085,
     "end_time": "2022-06-01T04:13:39.689641",
     "exception": false,
     "start_time": "2022-06-01T04:13:38.515556",
     "status": "completed"
    },
    "tags": []
   },
   "outputs": [
    {
     "name": "stdout",
     "output_type": "stream",
     "text": [
      "Before fill with mean values :  Age             270\n",
      "RoomService     263\n",
      "FoodCourt       289\n",
      "ShoppingMall    306\n",
      "Spa             284\n",
      "VRDeck          268\n",
      "dtype: int64\n",
      "After fill with mean values :  Age             0\n",
      "RoomService     0\n",
      "FoodCourt       0\n",
      "ShoppingMall    0\n",
      "Spa             0\n",
      "VRDeck          0\n",
      "dtype: int64\n"
     ]
    }
   ],
   "source": [
    "# Fill NaN values of numerical columns with mean value\n",
    "# Next Step : Check if result is better or not when columns are applied with other values(Ex. median, max, min) \n",
    "# Next Step : Check if result is better or not when columns are applied with other Regression algorithm(Ex. linear regression, Randomforest Regression)\n",
    "\n",
    "from sklearn.impute import SimpleImputer\n",
    "\n",
    "# Before preprocessing\n",
    "print(\"Before fill with mean values : \", Numerical_set.isnull().sum())\n",
    "\n",
    "# Fill Nan values with mean\n",
    "imputer = SimpleImputer(strategy='mean')\n",
    "imputer.fit(Numerical_set)\n",
    "Numerical_set = imputer.transform(Numerical_set)\n",
    "Numerical_set = pd.DataFrame(Numerical_set, columns=['Age','RoomService','FoodCourt','ShoppingMall','Spa','VRDeck'])\n",
    "\n",
    "# After preprocessing\n",
    "print(\"After fill with mean values : \", Numerical_set.isnull().sum())"
   ]
  },
  {
   "cell_type": "code",
   "execution_count": 45,
   "id": "6c67128e",
   "metadata": {
    "execution": {
     "iopub.execute_input": "2022-06-01T04:13:39.853696Z",
     "iopub.status.busy": "2022-06-01T04:13:39.853028Z",
     "iopub.status.idle": "2022-06-01T04:13:41.431821Z",
     "shell.execute_reply": "2022-06-01T04:13:41.431053Z"
    },
    "papermill": {
     "duration": 1.670712,
     "end_time": "2022-06-01T04:13:41.434670",
     "exception": false,
     "start_time": "2022-06-01T04:13:39.763958",
     "status": "completed"
    },
    "tags": []
   },
   "outputs": [
    {
     "data": {
      "text/plain": [
       "array([[<AxesSubplot:title={'center':'Age'}>,\n",
       "        <AxesSubplot:title={'center':'RoomService'}>],\n",
       "       [<AxesSubplot:title={'center':'FoodCourt'}>,\n",
       "        <AxesSubplot:title={'center':'ShoppingMall'}>],\n",
       "       [<AxesSubplot:title={'center':'Spa'}>,\n",
       "        <AxesSubplot:title={'center':'VRDeck'}>]], dtype=object)"
      ]
     },
     "execution_count": 45,
     "metadata": {},
     "output_type": "execute_result"
    },
    {
     "data": {
      "image/png": "[encoded data removed]",
      "text/plain": [
       "<Figure size 432x288 with 6 Axes>"
      ]
     },
     "metadata": {
      "needs_background": "light"
     },
     "output_type": "display_data"
    },
    {
     "data": {
      "image/png": "[encoded data removed]",
      "text/plain": [
       "<Figure size 432x288 with 6 Axes>"
      ]
     },
     "metadata": {
      "needs_background": "light"
     },
     "output_type": "display_data"
    }
   ],
   "source": [
    "# Hist before applied np.log\n",
    "Numerical_set.hist()\n",
    "\n",
    "# Appling np.log to normalize distribution of data\n",
    "Numerical_set = np.log(Numerical_set)\n",
    "Numerical_set = np.clip(Numerical_set,1e-10,None)\n",
    "\n",
    "# Hist After applied np.log\n",
    "Numerical_set.hist()"
   ]
  },
  {
   "cell_type": "code",
   "execution_count": 46,
   "id": "51c26bbc",
   "metadata": {
    "execution": {
     "iopub.execute_input": "2022-06-01T04:13:41.590917Z",
     "iopub.status.busy": "2022-06-01T04:13:41.590404Z",
     "iopub.status.idle": "2022-06-01T04:13:41.599783Z",
     "shell.execute_reply": "2022-06-01T04:13:41.599118Z"
    },
    "papermill": {
     "duration": 0.090158,
     "end_time": "2022-06-01T04:13:41.601906",
     "exception": false,
     "start_time": "2022-06-01T04:13:41.511748",
     "status": "completed"
    },
    "tags": []
   },
   "outputs": [],
   "source": [
    "# Scaling the values with Standard Scaler\n",
    "from sklearn.preprocessing import StandardScaler\n",
    "\n",
    "scaler = StandardScaler()\n",
    "scaler.fit(Numerical_set)\n",
    "Numerical_set = scaler.transform(Numerical_set)\n",
    "Numerical_set = pd.DataFrame(Numerical_set, columns=['Age','RoomService','FoodCourt','ShoppingMall','Spa','VRDeck'])"
   ]
  },
  {
   "cell_type": "code",
   "execution_count": 47,
   "id": "f875fd8c",
   "metadata": {
    "execution": {
     "iopub.execute_input": "2022-06-01T04:13:41.757960Z",
     "iopub.status.busy": "2022-06-01T04:13:41.757430Z",
     "iopub.status.idle": "2022-06-01T04:13:41.792053Z",
     "shell.execute_reply": "2022-06-01T04:13:41.791501Z"
    },
    "papermill": {
     "duration": 0.114492,
     "end_time": "2022-06-01T04:13:41.793840",
     "exception": false,
     "start_time": "2022-06-01T04:13:41.679348",
     "status": "completed"
    },
    "tags": []
   },
   "outputs": [
    {
     "data": {
      "text/html": [
       "<div>\n",
       "<style scoped>\n",
       "    .dataframe tbody tr th:only-of-type {\n",
       "        vertical-align: middle;\n",
       "    }\n",
       "\n",
       "    .dataframe tbody tr th {\n",
       "        vertical-align: top;\n",
       "    }\n",
       "\n",
       "    .dataframe thead th {\n",
       "        text-align: right;\n",
       "    }\n",
       "</style>\n",
       "<table border=\"1\" class=\"dataframe\">\n",
       "  <thead>\n",
       "    <tr style=\"text-align: right;\">\n",
       "      <th></th>\n",
       "      <th>Age</th>\n",
       "      <th>RoomService</th>\n",
       "      <th>FoodCourt</th>\n",
       "      <th>ShoppingMall</th>\n",
       "      <th>Spa</th>\n",
       "      <th>VRDeck</th>\n",
       "    </tr>\n",
       "  </thead>\n",
       "  <tbody>\n",
       "    <tr>\n",
       "      <th>count</th>\n",
       "      <td>1.297000e+04</td>\n",
       "      <td>1.297000e+04</td>\n",
       "      <td>1.297000e+04</td>\n",
       "      <td>1.297000e+04</td>\n",
       "      <td>1.297000e+04</td>\n",
       "      <td>1.297000e+04</td>\n",
       "    </tr>\n",
       "    <tr>\n",
       "      <th>mean</th>\n",
       "      <td>2.978171e-16</td>\n",
       "      <td>1.220989e-16</td>\n",
       "      <td>1.005278e-16</td>\n",
       "      <td>1.216195e-16</td>\n",
       "      <td>1.131280e-16</td>\n",
       "      <td>7.340997e-17</td>\n",
       "    </tr>\n",
       "    <tr>\n",
       "      <th>std</th>\n",
       "      <td>1.000039e+00</td>\n",
       "      <td>1.000039e+00</td>\n",
       "      <td>1.000039e+00</td>\n",
       "      <td>1.000039e+00</td>\n",
       "      <td>1.000039e+00</td>\n",
       "      <td>1.000039e+00</td>\n",
       "    </tr>\n",
       "    <tr>\n",
       "      <th>min</th>\n",
       "      <td>-4.075221e+00</td>\n",
       "      <td>-6.626429e-01</td>\n",
       "      <td>-6.754107e-01</td>\n",
       "      <td>-6.504096e-01</td>\n",
       "      <td>-6.866517e-01</td>\n",
       "      <td>-6.570096e-01</td>\n",
       "    </tr>\n",
       "    <tr>\n",
       "      <th>25%</th>\n",
       "      <td>-2.199844e-01</td>\n",
       "      <td>-6.626429e-01</td>\n",
       "      <td>-6.754107e-01</td>\n",
       "      <td>-6.504096e-01</td>\n",
       "      <td>-6.866517e-01</td>\n",
       "      <td>-6.570096e-01</td>\n",
       "    </tr>\n",
       "    <tr>\n",
       "      <th>50%</th>\n",
       "      <td>1.662231e-01</td>\n",
       "      <td>-6.626429e-01</td>\n",
       "      <td>-6.754107e-01</td>\n",
       "      <td>-6.504096e-01</td>\n",
       "      <td>-6.866517e-01</td>\n",
       "      <td>-6.570096e-01</td>\n",
       "    </tr>\n",
       "    <tr>\n",
       "      <th>75%</th>\n",
       "      <td>5.717039e-01</td>\n",
       "      <td>9.185770e-01</td>\n",
       "      <td>9.441487e-01</td>\n",
       "      <td>8.183098e-01</td>\n",
       "      <td>9.003627e-01</td>\n",
       "      <td>8.336377e-01</td>\n",
       "    </tr>\n",
       "    <tr>\n",
       "      <th>max</th>\n",
       "      <td>1.547863e+00</td>\n",
       "      <td>2.800522e+00</td>\n",
       "      <td>2.774726e+00</td>\n",
       "      <td>3.188872e+00</td>\n",
       "      <td>2.873072e+00</td>\n",
       "      <td>2.959976e+00</td>\n",
       "    </tr>\n",
       "  </tbody>\n",
       "</table>\n",
       "</div>"
      ],
      "text/plain": [
       "                Age   RoomService     FoodCourt  ShoppingMall           Spa  \\\n",
       "count  1.297000e+04  1.297000e+04  1.297000e+04  1.297000e+04  1.297000e+04   \n",
       "mean   2.978171e-16  1.220989e-16  1.005278e-16  1.216195e-16  1.131280e-16   \n",
       "std    1.000039e+00  1.000039e+00  1.000039e+00  1.000039e+00  1.000039e+00   \n",
       "min   -4.075221e+00 -6.626429e-01 -6.754107e-01 -6.504096e-01 -6.866517e-01   \n",
       "25%   -2.199844e-01 -6.626429e-01 -6.754107e-01 -6.504096e-01 -6.866517e-01   \n",
       "50%    1.662231e-01 -6.626429e-01 -6.754107e-01 -6.504096e-01 -6.866517e-01   \n",
       "75%    5.717039e-01  9.185770e-01  9.441487e-01  8.183098e-01  9.003627e-01   \n",
       "max    1.547863e+00  2.800522e+00  2.774726e+00  3.188872e+00  2.873072e+00   \n",
       "\n",
       "             VRDeck  \n",
       "count  1.297000e+04  \n",
       "mean   7.340997e-17  \n",
       "std    1.000039e+00  \n",
       "min   -6.570096e-01  \n",
       "25%   -6.570096e-01  \n",
       "50%   -6.570096e-01  \n",
       "75%    8.336377e-01  \n",
       "max    2.959976e+00  "
      ]
     },
     "execution_count": 47,
     "metadata": {},
     "output_type": "execute_result"
    }
   ],
   "source": [
    "# Describe Numerical set. Numerical preprocessing has done\n",
    "Numerical_set.describe()"
   ]
  },
  {
   "cell_type": "code",
   "execution_count": 48,
   "id": "798507c5",
   "metadata": {
    "execution": {
     "iopub.execute_input": "2022-06-01T04:13:41.952355Z",
     "iopub.status.busy": "2022-06-01T04:13:41.951827Z",
     "iopub.status.idle": "2022-06-01T04:13:41.987396Z",
     "shell.execute_reply": "2022-06-01T04:13:41.986470Z"
    },
    "papermill": {
     "duration": 0.117837,
     "end_time": "2022-06-01T04:13:41.989539",
     "exception": false,
     "start_time": "2022-06-01T04:13:41.871702",
     "status": "completed"
    },
    "tags": []
   },
   "outputs": [
    {
     "name": "stdout",
     "output_type": "stream",
     "text": [
      "HomePlanet     288\n",
      "CryoSleep      310\n",
      "Cabin          299\n",
      "Destination    274\n",
      "VIP            296\n",
      "dtype: int64\n",
      "HomePlanet     0\n",
      "CryoSleep      0\n",
      "Cabin          0\n",
      "Destination    0\n",
      "VIP            0\n",
      "dtype: int64\n"
     ]
    }
   ],
   "source": [
    "# Check the NaN values of Categorical set\n",
    "print(Categorical_set.isnull().sum())\n",
    "\n",
    "# Fill Cabin column with N/N/N\n",
    "Categorical_set['Cabin'] = Categorical_set['Cabin'].fillna('N/N/N')\n",
    "\n",
    "# Fill NaN value with NV string which means Not a Value\n",
    "Categorical_set = Categorical_set.fillna('NotValue')\n",
    "\n",
    "print(Categorical_set.isnull().sum())"
   ]
  },
  {
   "cell_type": "code",
   "execution_count": 49,
   "id": "5b8a3542",
   "metadata": {
    "execution": {
     "iopub.execute_input": "2022-06-01T04:13:42.148370Z",
     "iopub.status.busy": "2022-06-01T04:13:42.148056Z",
     "iopub.status.idle": "2022-06-01T04:13:42.176081Z",
     "shell.execute_reply": "2022-06-01T04:13:42.175162Z"
    },
    "papermill": {
     "duration": 0.109859,
     "end_time": "2022-06-01T04:13:42.178594",
     "exception": false,
     "start_time": "2022-06-01T04:13:42.068735",
     "status": "completed"
    },
    "tags": []
   },
   "outputs": [],
   "source": [
    "# Split Cabin column\n",
    "def Deck(x):\n",
    "    return x.split('/')[0]\n",
    "\n",
    "def Side(x):\n",
    "    return x.split('/')[2]\n",
    "\n",
    "Categorical_set['Deck'] = Categorical_set['Cabin'].apply(lambda x : Deck(x))\n",
    "Categorical_set['Sdie'] = Categorical_set['Cabin'].apply(lambda x : Side(x))\n",
    "\n",
    "# Drop Original Cabin\n",
    "Categorical_set = Categorical_set.drop(['Cabin'],axis=1)"
   ]
  },
  {
   "cell_type": "code",
   "execution_count": 50,
   "id": "bbfd00b8",
   "metadata": {
    "execution": {
     "iopub.execute_input": "2022-06-01T04:13:42.335172Z",
     "iopub.status.busy": "2022-06-01T04:13:42.334835Z",
     "iopub.status.idle": "2022-06-01T04:13:42.355610Z",
     "shell.execute_reply": "2022-06-01T04:13:42.354716Z"
    },
    "papermill": {
     "duration": 0.101537,
     "end_time": "2022-06-01T04:13:42.357971",
     "exception": false,
     "start_time": "2022-06-01T04:13:42.256434",
     "status": "completed"
    },
    "tags": []
   },
   "outputs": [],
   "source": [
    "# One-Hot encoding categorical value\n",
    "Categorical_set = pd.get_dummies(Categorical_set)"
   ]
  },
  {
   "cell_type": "code",
   "execution_count": 51,
   "id": "5199202b",
   "metadata": {
    "execution": {
     "iopub.execute_input": "2022-06-01T04:13:42.516387Z",
     "iopub.status.busy": "2022-06-01T04:13:42.515614Z",
     "iopub.status.idle": "2022-06-01T04:13:42.529544Z",
     "shell.execute_reply": "2022-06-01T04:13:42.528790Z"
    },
    "papermill": {
     "duration": 0.094275,
     "end_time": "2022-06-01T04:13:42.531776",
     "exception": false,
     "start_time": "2022-06-01T04:13:42.437501",
     "status": "completed"
    },
    "tags": []
   },
   "outputs": [],
   "source": [
    "# Concat Numerical_set and Categorical_set\n",
    "Total_set = pd.concat([Numerical_set.reset_index(), Categorical_set.reset_index()],axis=1)\n",
    "Total_set = Total_set.drop(['index'],axis=1)"
   ]
  },
  {
   "cell_type": "code",
   "execution_count": 52,
   "id": "a42c524e",
   "metadata": {
    "execution": {
     "iopub.execute_input": "2022-06-01T04:13:42.694826Z",
     "iopub.status.busy": "2022-06-01T04:13:42.694415Z",
     "iopub.status.idle": "2022-06-01T04:13:42.722805Z",
     "shell.execute_reply": "2022-06-01T04:13:42.721950Z"
    },
    "papermill": {
     "duration": 0.110707,
     "end_time": "2022-06-01T04:13:42.724885",
     "exception": false,
     "start_time": "2022-06-01T04:13:42.614178",
     "status": "completed"
    },
    "tags": []
   },
   "outputs": [
    {
     "data": {
      "text/html": [
       "<div>\n",
       "<style scoped>\n",
       "    .dataframe tbody tr th:only-of-type {\n",
       "        vertical-align: middle;\n",
       "    }\n",
       "\n",
       "    .dataframe tbody tr th {\n",
       "        vertical-align: top;\n",
       "    }\n",
       "\n",
       "    .dataframe thead th {\n",
       "        text-align: right;\n",
       "    }\n",
       "</style>\n",
       "<table border=\"1\" class=\"dataframe\">\n",
       "  <thead>\n",
       "    <tr style=\"text-align: right;\">\n",
       "      <th></th>\n",
       "      <th>Age</th>\n",
       "      <th>RoomService</th>\n",
       "      <th>FoodCourt</th>\n",
       "      <th>ShoppingMall</th>\n",
       "      <th>Spa</th>\n",
       "      <th>VRDeck</th>\n",
       "      <th>HomePlanet_Earth</th>\n",
       "      <th>HomePlanet_Europa</th>\n",
       "      <th>HomePlanet_Mars</th>\n",
       "      <th>HomePlanet_NotValue</th>\n",
       "      <th>...</th>\n",
       "      <th>Deck_C</th>\n",
       "      <th>Deck_D</th>\n",
       "      <th>Deck_E</th>\n",
       "      <th>Deck_F</th>\n",
       "      <th>Deck_G</th>\n",
       "      <th>Deck_N</th>\n",
       "      <th>Deck_T</th>\n",
       "      <th>Sdie_N</th>\n",
       "      <th>Sdie_P</th>\n",
       "      <th>Sdie_S</th>\n",
       "    </tr>\n",
       "  </thead>\n",
       "  <tbody>\n",
       "    <tr>\n",
       "      <th>0</th>\n",
       "      <td>0.639452</td>\n",
       "      <td>-0.662643</td>\n",
       "      <td>-0.675411</td>\n",
       "      <td>-0.650410</td>\n",
       "      <td>-0.686652</td>\n",
       "      <td>-0.657010</td>\n",
       "      <td>0</td>\n",
       "      <td>1</td>\n",
       "      <td>0</td>\n",
       "      <td>0</td>\n",
       "      <td>...</td>\n",
       "      <td>0</td>\n",
       "      <td>0</td>\n",
       "      <td>0</td>\n",
       "      <td>0</td>\n",
       "      <td>0</td>\n",
       "      <td>0</td>\n",
       "      <td>0</td>\n",
       "      <td>0</td>\n",
       "      <td>1</td>\n",
       "      <td>0</td>\n",
       "    </tr>\n",
       "    <tr>\n",
       "      <th>1</th>\n",
       "      <td>0.014647</td>\n",
       "      <td>1.035067</td>\n",
       "      <td>0.060389</td>\n",
       "      <td>0.577498</td>\n",
       "      <td>1.555007</td>\n",
       "      <td>0.699338</td>\n",
       "      <td>1</td>\n",
       "      <td>0</td>\n",
       "      <td>0</td>\n",
       "      <td>0</td>\n",
       "      <td>...</td>\n",
       "      <td>0</td>\n",
       "      <td>0</td>\n",
       "      <td>0</td>\n",
       "      <td>1</td>\n",
       "      <td>0</td>\n",
       "      <td>0</td>\n",
       "      <td>0</td>\n",
       "      <td>0</td>\n",
       "      <td>0</td>\n",
       "      <td>1</td>\n",
       "    </tr>\n",
       "    <tr>\n",
       "      <th>2</th>\n",
       "      <td>1.150202</td>\n",
       "      <td>0.698464</td>\n",
       "      <td>2.064553</td>\n",
       "      <td>-0.650410</td>\n",
       "      <td>2.444834</td>\n",
       "      <td>0.737916</td>\n",
       "      <td>0</td>\n",
       "      <td>1</td>\n",
       "      <td>0</td>\n",
       "      <td>0</td>\n",
       "      <td>...</td>\n",
       "      <td>0</td>\n",
       "      <td>0</td>\n",
       "      <td>0</td>\n",
       "      <td>0</td>\n",
       "      <td>0</td>\n",
       "      <td>0</td>\n",
       "      <td>0</td>\n",
       "      <td>0</td>\n",
       "      <td>0</td>\n",
       "      <td>1</td>\n",
       "    </tr>\n",
       "    <tr>\n",
       "      <th>3</th>\n",
       "      <td>0.424468</td>\n",
       "      <td>-0.662643</td>\n",
       "      <td>1.721289</td>\n",
       "      <td>1.606450</td>\n",
       "      <td>2.195487</td>\n",
       "      <td>1.229270</td>\n",
       "      <td>0</td>\n",
       "      <td>1</td>\n",
       "      <td>0</td>\n",
       "      <td>0</td>\n",
       "      <td>...</td>\n",
       "      <td>0</td>\n",
       "      <td>0</td>\n",
       "      <td>0</td>\n",
       "      <td>0</td>\n",
       "      <td>0</td>\n",
       "      <td>0</td>\n",
       "      <td>0</td>\n",
       "      <td>0</td>\n",
       "      <td>0</td>\n",
       "      <td>1</td>\n",
       "    </tr>\n",
       "    <tr>\n",
       "      <th>4</th>\n",
       "      <td>-0.507150</td>\n",
       "      <td>1.405048</td>\n",
       "      <td>0.747312</td>\n",
       "      <td>1.263537</td>\n",
       "      <td>1.565216</td>\n",
       "      <td>-0.408568</td>\n",
       "      <td>1</td>\n",
       "      <td>0</td>\n",
       "      <td>0</td>\n",
       "      <td>0</td>\n",
       "      <td>...</td>\n",
       "      <td>0</td>\n",
       "      <td>0</td>\n",
       "      <td>0</td>\n",
       "      <td>1</td>\n",
       "      <td>0</td>\n",
       "      <td>0</td>\n",
       "      <td>0</td>\n",
       "      <td>0</td>\n",
       "      <td>0</td>\n",
       "      <td>1</td>\n",
       "    </tr>\n",
       "    <tr>\n",
       "      <th>...</th>\n",
       "      <td>...</td>\n",
       "      <td>...</td>\n",
       "      <td>...</td>\n",
       "      <td>...</td>\n",
       "      <td>...</td>\n",
       "      <td>...</td>\n",
       "      <td>...</td>\n",
       "      <td>...</td>\n",
       "      <td>...</td>\n",
       "      <td>...</td>\n",
       "      <td>...</td>\n",
       "      <td>...</td>\n",
       "      <td>...</td>\n",
       "      <td>...</td>\n",
       "      <td>...</td>\n",
       "      <td>...</td>\n",
       "      <td>...</td>\n",
       "      <td>...</td>\n",
       "      <td>...</td>\n",
       "      <td>...</td>\n",
       "      <td>...</td>\n",
       "    </tr>\n",
       "    <tr>\n",
       "      <th>12965</th>\n",
       "      <td>0.462886</td>\n",
       "      <td>-0.662643</td>\n",
       "      <td>-0.675411</td>\n",
       "      <td>-0.650410</td>\n",
       "      <td>-0.686652</td>\n",
       "      <td>-0.657010</td>\n",
       "      <td>1</td>\n",
       "      <td>0</td>\n",
       "      <td>0</td>\n",
       "      <td>0</td>\n",
       "      <td>...</td>\n",
       "      <td>0</td>\n",
       "      <td>0</td>\n",
       "      <td>0</td>\n",
       "      <td>0</td>\n",
       "      <td>1</td>\n",
       "      <td>0</td>\n",
       "      <td>0</td>\n",
       "      <td>0</td>\n",
       "      <td>0</td>\n",
       "      <td>1</td>\n",
       "    </tr>\n",
       "    <tr>\n",
       "      <th>12966</th>\n",
       "      <td>0.734822</td>\n",
       "      <td>-0.662643</td>\n",
       "      <td>1.582230</td>\n",
       "      <td>0.430379</td>\n",
       "      <td>0.131600</td>\n",
       "      <td>1.124295</td>\n",
       "      <td>1</td>\n",
       "      <td>0</td>\n",
       "      <td>0</td>\n",
       "      <td>0</td>\n",
       "      <td>...</td>\n",
       "      <td>0</td>\n",
       "      <td>0</td>\n",
       "      <td>0</td>\n",
       "      <td>0</td>\n",
       "      <td>0</td>\n",
       "      <td>1</td>\n",
       "      <td>0</td>\n",
       "      <td>1</td>\n",
       "      <td>0</td>\n",
       "      <td>0</td>\n",
       "    </tr>\n",
       "    <tr>\n",
       "      <th>12967</th>\n",
       "      <td>0.248025</td>\n",
       "      <td>-0.662643</td>\n",
       "      <td>-0.675411</td>\n",
       "      <td>-0.650410</td>\n",
       "      <td>-0.686652</td>\n",
       "      <td>-0.657010</td>\n",
       "      <td>0</td>\n",
       "      <td>0</td>\n",
       "      <td>1</td>\n",
       "      <td>0</td>\n",
       "      <td>...</td>\n",
       "      <td>0</td>\n",
       "      <td>1</td>\n",
       "      <td>0</td>\n",
       "      <td>0</td>\n",
       "      <td>0</td>\n",
       "      <td>0</td>\n",
       "      <td>0</td>\n",
       "      <td>0</td>\n",
       "      <td>1</td>\n",
       "      <td>0</td>\n",
       "    </tr>\n",
       "    <tr>\n",
       "      <th>12968</th>\n",
       "      <td>0.248025</td>\n",
       "      <td>-0.662643</td>\n",
       "      <td>1.967965</td>\n",
       "      <td>-0.650410</td>\n",
       "      <td>-0.686652</td>\n",
       "      <td>1.586580</td>\n",
       "      <td>0</td>\n",
       "      <td>1</td>\n",
       "      <td>0</td>\n",
       "      <td>0</td>\n",
       "      <td>...</td>\n",
       "      <td>0</td>\n",
       "      <td>1</td>\n",
       "      <td>0</td>\n",
       "      <td>0</td>\n",
       "      <td>0</td>\n",
       "      <td>0</td>\n",
       "      <td>0</td>\n",
       "      <td>0</td>\n",
       "      <td>1</td>\n",
       "      <td>0</td>\n",
       "    </tr>\n",
       "    <tr>\n",
       "      <th>12969</th>\n",
       "      <td>0.765104</td>\n",
       "      <td>-0.662643</td>\n",
       "      <td>-0.675411</td>\n",
       "      <td>-0.650410</td>\n",
       "      <td>-0.686652</td>\n",
       "      <td>-0.657010</td>\n",
       "      <td>1</td>\n",
       "      <td>0</td>\n",
       "      <td>0</td>\n",
       "      <td>0</td>\n",
       "      <td>...</td>\n",
       "      <td>0</td>\n",
       "      <td>0</td>\n",
       "      <td>0</td>\n",
       "      <td>0</td>\n",
       "      <td>1</td>\n",
       "      <td>0</td>\n",
       "      <td>0</td>\n",
       "      <td>0</td>\n",
       "      <td>0</td>\n",
       "      <td>1</td>\n",
       "    </tr>\n",
       "  </tbody>\n",
       "</table>\n",
       "<p>12970 rows × 32 columns</p>\n",
       "</div>"
      ],
      "text/plain": [
       "            Age  RoomService  FoodCourt  ShoppingMall       Spa    VRDeck  \\\n",
       "0      0.639452    -0.662643  -0.675411     -0.650410 -0.686652 -0.657010   \n",
       "1      0.014647     1.035067   0.060389      0.577498  1.555007  0.699338   \n",
       "2      1.150202     0.698464   2.064553     -0.650410  2.444834  0.737916   \n",
       "3      0.424468    -0.662643   1.721289      1.606450  2.195487  1.229270   \n",
       "4     -0.507150     1.405048   0.747312      1.263537  1.565216 -0.408568   \n",
       "...         ...          ...        ...           ...       ...       ...   \n",
       "12965  0.462886    -0.662643  -0.675411     -0.650410 -0.686652 -0.657010   \n",
       "12966  0.734822    -0.662643   1.582230      0.430379  0.131600  1.124295   \n",
       "12967  0.248025    -0.662643  -0.675411     -0.650410 -0.686652 -0.657010   \n",
       "12968  0.248025    -0.662643   1.967965     -0.650410 -0.686652  1.586580   \n",
       "12969  0.765104    -0.662643  -0.675411     -0.650410 -0.686652 -0.657010   \n",
       "\n",
       "       HomePlanet_Earth  HomePlanet_Europa  HomePlanet_Mars  \\\n",
       "0                     0                  1                0   \n",
       "1                     1                  0                0   \n",
       "2                     0                  1                0   \n",
       "3                     0                  1                0   \n",
       "4                     1                  0                0   \n",
       "...                 ...                ...              ...   \n",
       "12965                 1                  0                0   \n",
       "12966                 1                  0                0   \n",
       "12967                 0                  0                1   \n",
       "12968                 0                  1                0   \n",
       "12969                 1                  0                0   \n",
       "\n",
       "       HomePlanet_NotValue  ...  Deck_C  Deck_D  Deck_E  Deck_F  Deck_G  \\\n",
       "0                        0  ...       0       0       0       0       0   \n",
       "1                        0  ...       0       0       0       1       0   \n",
       "2                        0  ...       0       0       0       0       0   \n",
       "3                        0  ...       0       0       0       0       0   \n",
       "4                        0  ...       0       0       0       1       0   \n",
       "...                    ...  ...     ...     ...     ...     ...     ...   \n",
       "12965                    0  ...       0       0       0       0       1   \n",
       "12966                    0  ...       0       0       0       0       0   \n",
       "12967                    0  ...       0       1       0       0       0   \n",
       "12968                    0  ...       0       1       0       0       0   \n",
       "12969                    0  ...       0       0       0       0       1   \n",
       "\n",
       "       Deck_N  Deck_T  Sdie_N  Sdie_P  Sdie_S  \n",
       "0           0       0       0       1       0  \n",
       "1           0       0       0       0       1  \n",
       "2           0       0       0       0       1  \n",
       "3           0       0       0       0       1  \n",
       "4           0       0       0       0       1  \n",
       "...       ...     ...     ...     ...     ...  \n",
       "12965       0       0       0       0       1  \n",
       "12966       1       0       1       0       0  \n",
       "12967       0       0       0       1       0  \n",
       "12968       0       0       0       1       0  \n",
       "12969       0       0       0       0       1  \n",
       "\n",
       "[12970 rows x 32 columns]"
      ]
     },
     "execution_count": 52,
     "metadata": {},
     "output_type": "execute_result"
    }
   ],
   "source": [
    "Total_set"
   ]
  },
  {
   "cell_type": "markdown",
   "id": "cebbba61",
   "metadata": {
    "papermill": {
     "duration": 0.078199,
     "end_time": "2022-06-01T04:13:42.893327",
     "exception": false,
     "start_time": "2022-06-01T04:13:42.815128",
     "status": "completed"
    },
    "tags": []
   },
   "source": [
    "# DNN"
   ]
  },
  {
   "cell_type": "code",
   "execution_count": 53,
   "id": "452aa225",
   "metadata": {
    "execution": {
     "iopub.execute_input": "2022-06-01T04:13:43.058025Z",
     "iopub.status.busy": "2022-06-01T04:13:43.057038Z",
     "iopub.status.idle": "2022-06-01T04:13:43.097723Z",
     "shell.execute_reply": "2022-06-01T04:13:43.096885Z"
    },
    "papermill": {
     "duration": 0.125927,
     "end_time": "2022-06-01T04:13:43.100090",
     "exception": false,
     "start_time": "2022-06-01T04:13:42.974163",
     "status": "completed"
    },
    "tags": []
   },
   "outputs": [],
   "source": [
    "# Split train set and test set again\n",
    "train_set = Total_set.iloc[:8693,:]\n",
    "test_set = Total_set.iloc[8693:,:]\n",
    "\n",
    "# labeling train set\n",
    "label = pd.read_csv('../input/spaceship-titanic/train.csv')\n",
    "label = label.iloc[:,-1].astype(int)"
   ]
  },
  {
   "cell_type": "code",
   "execution_count": 54,
   "id": "b1d8bb29",
   "metadata": {
    "execution": {
     "iopub.execute_input": "2022-06-01T04:13:43.259747Z",
     "iopub.status.busy": "2022-06-01T04:13:43.258920Z",
     "iopub.status.idle": "2022-06-01T04:13:43.268880Z",
     "shell.execute_reply": "2022-06-01T04:13:43.267706Z"
    },
    "papermill": {
     "duration": 0.092447,
     "end_time": "2022-06-01T04:13:43.271690",
     "exception": false,
     "start_time": "2022-06-01T04:13:43.179243",
     "status": "completed"
    },
    "tags": []
   },
   "outputs": [],
   "source": [
    "# Split train set and validate set\n",
    "from sklearn.model_selection import train_test_split\n",
    "\n",
    "x_train, x_test, y_train, y_test = train_test_split(train_set, label, test_size=0.2)"
   ]
  },
  {
   "cell_type": "code",
   "execution_count": 55,
   "id": "31bc0054",
   "metadata": {
    "execution": {
     "iopub.execute_input": "2022-06-01T04:13:43.430032Z",
     "iopub.status.busy": "2022-06-01T04:13:43.429442Z",
     "iopub.status.idle": "2022-06-01T04:13:49.776176Z",
     "shell.execute_reply": "2022-06-01T04:13:49.775340Z"
    },
    "papermill": {
     "duration": 6.428483,
     "end_time": "2022-06-01T04:13:49.778660",
     "exception": false,
     "start_time": "2022-06-01T04:13:43.350177",
     "status": "completed"
    },
    "tags": []
   },
   "outputs": [],
   "source": [
    "# DNN model\n",
    "import tensorflow as tf\n",
    "from tensorflow.keras import Sequential\n",
    "from tensorflow.keras.layers import Dense, Dropout, BatchNormalization\n",
    "from tensorflow.keras.optimizers import Adam\n",
    "from keras import metrics"
   ]
  },
  {
   "cell_type": "code",
   "execution_count": 56,
   "id": "44e38c19",
   "metadata": {
    "execution": {
     "iopub.execute_input": "2022-06-01T04:13:49.937128Z",
     "iopub.status.busy": "2022-06-01T04:13:49.936827Z",
     "iopub.status.idle": "2022-06-01T04:13:50.083529Z",
     "shell.execute_reply": "2022-06-01T04:13:50.082761Z"
    },
    "papermill": {
     "duration": 0.229768,
     "end_time": "2022-06-01T04:13:50.087161",
     "exception": false,
     "start_time": "2022-06-01T04:13:49.857393",
     "status": "completed"
    },
    "tags": []
   },
   "outputs": [
    {
     "name": "stdout",
     "output_type": "stream",
     "text": [
      "Model: \"sequential\"\n",
      "_________________________________________________________________\n",
      "Layer (type)                 Output Shape              Param #   \n",
      "=================================================================\n",
      "dense (Dense)                (None, 64)                2112      \n",
      "_________________________________________________________________\n",
      "dropout (Dropout)            (None, 64)                0         \n",
      "_________________________________________________________________\n",
      "dense_1 (Dense)              (None, 32)                2080      \n",
      "_________________________________________________________________\n",
      "dropout_1 (Dropout)          (None, 32)                0         \n",
      "_________________________________________________________________\n",
      "dense_2 (Dense)              (None, 1)                 33        \n",
      "=================================================================\n",
      "Total params: 4,225\n",
      "Trainable params: 4,225\n",
      "Non-trainable params: 0\n",
      "_________________________________________________________________\n"
     ]
    },
    {
     "name": "stderr",
     "output_type": "stream",
     "text": [
      "2022-06-01 04:13:49.981362: I tensorflow/core/common_runtime/process_util.cc:146] Creating new thread pool with default inter op setting: 2. Tune using inter_op_parallelism_threads for best performance.\n"
     ]
    }
   ],
   "source": [
    "# flush model\n",
    "tf.keras.backend.clear_session()\n",
    "\n",
    "# Sequential Model\n",
    "model = Sequential()\n",
    "model.add(Dense(64, activation='relu',input_shape=(32,)))\n",
    "model.add(Dropout(0.5))\n",
    "model.add(Dense(32, activation='relu'))\n",
    "model.add(Dropout(0.5))\n",
    "model.add(Dense(1, activation='sigmoid'))\n",
    "\n",
    "# Adma optimizer not working... \n",
    "model.compile(optimizer='rmsprop',loss='binary_crossentropy',metrics =['accuracy'])\n",
    "\n",
    "# model summary\n",
    "model.summary()"
   ]
  },
  {
   "cell_type": "code",
   "execution_count": 57,
   "id": "0fe3240b",
   "metadata": {
    "execution": {
     "iopub.execute_input": "2022-06-01T04:13:50.247635Z",
     "iopub.status.busy": "2022-06-01T04:13:50.247172Z",
     "iopub.status.idle": "2022-06-01T04:14:09.085746Z",
     "shell.execute_reply": "2022-06-01T04:14:09.084767Z"
    },
    "papermill": {
     "duration": 18.921548,
     "end_time": "2022-06-01T04:14:09.088341",
     "exception": false,
     "start_time": "2022-06-01T04:13:50.166793",
     "status": "completed"
    },
    "tags": []
   },
   "outputs": [
    {
     "name": "stderr",
     "output_type": "stream",
     "text": [
      "2022-06-01 04:13:50.535503: I tensorflow/compiler/mlir/mlir_graph_optimization_pass.cc:185] None of the MLIR Optimization Passes are enabled (registered 2)\n"
     ]
    },
    {
     "name": "stdout",
     "output_type": "stream",
     "text": [
      "Epoch 1/30\n",
      "218/218 [==============================] - 2s 4ms/step - loss: 0.5960 - accuracy: 0.6867 - val_loss: 0.5020 - val_accuracy: 0.7711\n",
      "Epoch 2/30\n",
      "218/218 [==============================] - 1s 3ms/step - loss: 0.5200 - accuracy: 0.7494 - val_loss: 0.4703 - val_accuracy: 0.7792\n",
      "Epoch 3/30\n",
      "218/218 [==============================] - 1s 3ms/step - loss: 0.4925 - accuracy: 0.7683 - val_loss: 0.4635 - val_accuracy: 0.7775\n",
      "Epoch 4/30\n",
      "218/218 [==============================] - 1s 3ms/step - loss: 0.4863 - accuracy: 0.7682 - val_loss: 0.4572 - val_accuracy: 0.7815\n",
      "Epoch 5/30\n",
      "218/218 [==============================] - 1s 3ms/step - loss: 0.4725 - accuracy: 0.7771 - val_loss: 0.4534 - val_accuracy: 0.7815\n",
      "Epoch 6/30\n",
      "218/218 [==============================] - 1s 3ms/step - loss: 0.4742 - accuracy: 0.7800 - val_loss: 0.4541 - val_accuracy: 0.7844\n",
      "Epoch 7/30\n",
      "218/218 [==============================] - 1s 3ms/step - loss: 0.4656 - accuracy: 0.7798 - val_loss: 0.4496 - val_accuracy: 0.7792\n",
      "Epoch 8/30\n",
      "218/218 [==============================] - 1s 2ms/step - loss: 0.4645 - accuracy: 0.7808 - val_loss: 0.4493 - val_accuracy: 0.7815\n",
      "Epoch 9/30\n",
      "218/218 [==============================] - 1s 3ms/step - loss: 0.4632 - accuracy: 0.7817 - val_loss: 0.4476 - val_accuracy: 0.7838\n",
      "Epoch 10/30\n",
      "218/218 [==============================] - 1s 2ms/step - loss: 0.4564 - accuracy: 0.7854 - val_loss: 0.4476 - val_accuracy: 0.7872\n",
      "Epoch 11/30\n",
      "218/218 [==============================] - 1s 3ms/step - loss: 0.4498 - accuracy: 0.7854 - val_loss: 0.4481 - val_accuracy: 0.7890\n",
      "Epoch 12/30\n",
      "218/218 [==============================] - 1s 3ms/step - loss: 0.4519 - accuracy: 0.7906 - val_loss: 0.4435 - val_accuracy: 0.7936\n",
      "Epoch 13/30\n",
      "218/218 [==============================] - 1s 3ms/step - loss: 0.4463 - accuracy: 0.7906 - val_loss: 0.4436 - val_accuracy: 0.7953\n",
      "Epoch 14/30\n",
      "218/218 [==============================] - 1s 3ms/step - loss: 0.4504 - accuracy: 0.7935 - val_loss: 0.4461 - val_accuracy: 0.7953\n",
      "Epoch 15/30\n",
      "218/218 [==============================] - 1s 3ms/step - loss: 0.4467 - accuracy: 0.7906 - val_loss: 0.4473 - val_accuracy: 0.7884\n",
      "Epoch 16/30\n",
      "218/218 [==============================] - 1s 2ms/step - loss: 0.4510 - accuracy: 0.7912 - val_loss: 0.4468 - val_accuracy: 0.7924\n",
      "Epoch 17/30\n",
      "218/218 [==============================] - 1s 2ms/step - loss: 0.4483 - accuracy: 0.7911 - val_loss: 0.4483 - val_accuracy: 0.7941\n",
      "Epoch 18/30\n",
      "218/218 [==============================] - 1s 2ms/step - loss: 0.4502 - accuracy: 0.7892 - val_loss: 0.4434 - val_accuracy: 0.7953\n",
      "Epoch 19/30\n",
      "218/218 [==============================] - 1s 3ms/step - loss: 0.4434 - accuracy: 0.7911 - val_loss: 0.4456 - val_accuracy: 0.7970\n",
      "Epoch 20/30\n",
      "218/218 [==============================] - 1s 4ms/step - loss: 0.4437 - accuracy: 0.7955 - val_loss: 0.4466 - val_accuracy: 0.7936\n",
      "Epoch 21/30\n",
      "218/218 [==============================] - 1s 2ms/step - loss: 0.4448 - accuracy: 0.7967 - val_loss: 0.4424 - val_accuracy: 0.7999\n",
      "Epoch 22/30\n",
      "218/218 [==============================] - 1s 2ms/step - loss: 0.4436 - accuracy: 0.7961 - val_loss: 0.4440 - val_accuracy: 0.7924\n",
      "Epoch 23/30\n",
      "218/218 [==============================] - 1s 2ms/step - loss: 0.4411 - accuracy: 0.7951 - val_loss: 0.4435 - val_accuracy: 0.7970\n",
      "Epoch 24/30\n",
      "218/218 [==============================] - 1s 3ms/step - loss: 0.4371 - accuracy: 0.7997 - val_loss: 0.4411 - val_accuracy: 0.8022\n",
      "Epoch 25/30\n",
      "218/218 [==============================] - 1s 3ms/step - loss: 0.4396 - accuracy: 0.7971 - val_loss: 0.4408 - val_accuracy: 0.7987\n",
      "Epoch 26/30\n",
      "218/218 [==============================] - 1s 2ms/step - loss: 0.4411 - accuracy: 0.7962 - val_loss: 0.4413 - val_accuracy: 0.7976\n",
      "Epoch 27/30\n",
      "218/218 [==============================] - 1s 2ms/step - loss: 0.4345 - accuracy: 0.8000 - val_loss: 0.4434 - val_accuracy: 0.8010\n",
      "Epoch 28/30\n",
      "218/218 [==============================] - 1s 3ms/step - loss: 0.4435 - accuracy: 0.7948 - val_loss: 0.4426 - val_accuracy: 0.8016\n",
      "Epoch 29/30\n",
      "218/218 [==============================] - 1s 3ms/step - loss: 0.4346 - accuracy: 0.7968 - val_loss: 0.4451 - val_accuracy: 0.7999\n",
      "Epoch 30/30\n",
      "218/218 [==============================] - 1s 3ms/step - loss: 0.4373 - accuracy: 0.7971 - val_loss: 0.4416 - val_accuracy: 0.8028\n"
     ]
    }
   ],
   "source": [
    "# Fit modle\n",
    "history = model.fit(x_train, y_train, epochs=30, validation_data=(x_test,y_test),verbose=1)"
   ]
  },
  {
   "cell_type": "code",
   "execution_count": 58,
   "id": "27dfec26",
   "metadata": {
    "execution": {
     "iopub.execute_input": "2022-06-01T04:14:09.484964Z",
     "iopub.status.busy": "2022-06-01T04:14:09.484414Z",
     "iopub.status.idle": "2022-06-01T04:14:09.698203Z",
     "shell.execute_reply": "2022-06-01T04:14:09.697323Z"
    },
    "papermill": {
     "duration": 0.414,
     "end_time": "2022-06-01T04:14:09.700327",
     "exception": false,
     "start_time": "2022-06-01T04:14:09.286327",
     "status": "completed"
    },
    "tags": []
   },
   "outputs": [
    {
     "data": {
      "image/png": "[encoded data removed]",
      "text/plain": [
       "<Figure size 432x288 with 1 Axes>"
      ]
     },
     "metadata": {
      "needs_background": "light"
     },
     "output_type": "display_data"
    }
   ],
   "source": [
    "plt.plot(history.history['loss'])\n",
    "plt.plot(history.history['val_loss'])\n",
    "plt.title('Model Loss')\n",
    "plt.ylabel('Loss')\n",
    "plt.xlabel('Epoch')\n",
    "plt.legend(['Train', 'Valid'], loc='upper left')\n",
    "plt.show()"
   ]
  },
  {
   "cell_type": "code",
   "execution_count": 59,
   "id": "a3711bc9",
   "metadata": {
    "execution": {
     "iopub.execute_input": "2022-06-01T04:14:10.096537Z",
     "iopub.status.busy": "2022-06-01T04:14:10.095915Z",
     "iopub.status.idle": "2022-06-01T04:14:10.359275Z",
     "shell.execute_reply": "2022-06-01T04:14:10.358445Z"
    },
    "papermill": {
     "duration": 0.463929,
     "end_time": "2022-06-01T04:14:10.361838",
     "exception": false,
     "start_time": "2022-06-01T04:14:09.897909",
     "status": "completed"
    },
    "tags": []
   },
   "outputs": [],
   "source": [
    "result = model.predict(test_set)\n",
    "result = np.where(result > 0.5, True, False)"
   ]
  },
  {
   "cell_type": "code",
   "execution_count": 60,
   "id": "9251afd5",
   "metadata": {
    "execution": {
     "iopub.execute_input": "2022-06-01T04:14:10.759567Z",
     "iopub.status.busy": "2022-06-01T04:14:10.759251Z",
     "iopub.status.idle": "2022-06-01T04:14:10.773089Z",
     "shell.execute_reply": "2022-06-01T04:14:10.772449Z"
    },
    "papermill": {
     "duration": 0.215728,
     "end_time": "2022-06-01T04:14:10.775229",
     "exception": false,
     "start_time": "2022-06-01T04:14:10.559501",
     "status": "completed"
    },
    "tags": []
   },
   "outputs": [],
   "source": [
    "submission = pd.read_csv('../input/spaceship-titanic/sample_submission.csv')"
   ]
  },
  {
   "cell_type": "code",
   "execution_count": 61,
   "id": "0d3a9b9a",
   "metadata": {
    "execution": {
     "iopub.execute_input": "2022-06-01T04:14:11.170218Z",
     "iopub.status.busy": "2022-06-01T04:14:11.169340Z",
     "iopub.status.idle": "2022-06-01T04:14:11.174366Z",
     "shell.execute_reply": "2022-06-01T04:14:11.173712Z"
    },
    "papermill": {
     "duration": 0.204425,
     "end_time": "2022-06-01T04:14:11.176647",
     "exception": false,
     "start_time": "2022-06-01T04:14:10.972222",
     "status": "completed"
    },
    "tags": []
   },
   "outputs": [],
   "source": [
    "submission['Transported'] = result"
   ]
  },
  {
   "cell_type": "code",
   "execution_count": 62,
   "id": "218771a2",
   "metadata": {
    "execution": {
     "iopub.execute_input": "2022-06-01T04:14:11.573327Z",
     "iopub.status.busy": "2022-06-01T04:14:11.573016Z",
     "iopub.status.idle": "2022-06-01T04:14:11.587940Z",
     "shell.execute_reply": "2022-06-01T04:14:11.587291Z"
    },
    "papermill": {
     "duration": 0.216105,
     "end_time": "2022-06-01T04:14:11.590036",
     "exception": false,
     "start_time": "2022-06-01T04:14:11.373931",
     "status": "completed"
    },
    "tags": []
   },
   "outputs": [],
   "source": [
    "submission.to_csv('./submission.csv',index=False)"
   ]
  },
  {
   "cell_type": "code",
   "execution_count": null,
   "id": "b7405e01",
   "metadata": {
    "papermill": {
     "duration": 0.19678,
     "end_time": "2022-06-01T04:14:11.984466",
     "exception": false,
     "start_time": "2022-06-01T04:14:11.787686",
     "status": "completed"
    },
    "tags": []
   },
   "outputs": [],
   "source": []
  }
 ],
 "metadata": {
  "kernelspec": {
   "display_name": "Python 3",
   "language": "python",
   "name": "python3"
  },
  "language_info": {
   "codemirror_mode": {
    "name": "ipython",
    "version": 3
   },
   "file_extension": ".py",
   "mimetype": "text/x-python",
   "name": "python",
   "nbconvert_exporter": "python",
   "pygments_lexer": "ipython3",
   "version": "3.7.12"
  },
  "papermill": {
   "default_parameters": {},
   "duration": 54.810887,
   "end_time": "2022-06-01T04:14:15.697330",
   "environment_variables": {},
   "exception": null,
   "input_path": "__notebook__.ipynb",
   "output_path": "__notebook__.ipynb",
   "parameters": {},
   "start_time": "2022-06-01T04:13:20.886443",
   "version": "2.3.4"
  }
 },
 "nbformat": 4,
 "nbformat_minor": 5
}
