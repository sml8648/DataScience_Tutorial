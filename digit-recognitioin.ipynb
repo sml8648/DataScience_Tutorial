{
 "cells": [
  {
   "cell_type": "code",
   "execution_count": 1,
   "id": "aa51b530",
   "metadata": {
    "_cell_guid": "b1076dfc-b9ad-4769-8c92-a6c4dae69d19",
    "_uuid": "8f2839f25d086af736a60e9eeb907d3b93b6e0e5",
    "execution": {
     "iopub.execute_input": "2022-06-04T11:56:11.575504Z",
     "iopub.status.busy": "2022-06-04T11:56:11.575044Z",
     "iopub.status.idle": "2022-06-04T11:56:11.588636Z",
     "shell.execute_reply": "2022-06-04T11:56:11.587733Z"
    },
    "papermill": {
     "duration": 0.025611,
     "end_time": "2022-06-04T11:56:11.593257",
     "exception": false,
     "start_time": "2022-06-04T11:56:11.567646",
     "status": "completed"
    },
    "tags": []
   },
   "outputs": [
    {
     "name": "stdout",
     "output_type": "stream",
     "text": [
      "/kaggle/input/digit-recognizer/sample_submission.csv\n",
      "/kaggle/input/digit-recognizer/train.csv\n",
      "/kaggle/input/digit-recognizer/test.csv\n"
     ]
    }
   ],
   "source": [
    "# This Python 3 environment comes with many helpful analytics libraries installed\n",
    "# It is defined by the kaggle/python Docker image: https://github.com/kaggle/docker-python\n",
    "# For example, here's several helpful packages to load\n",
    "\n",
    "import numpy as np # linear algebra\n",
    "import pandas as pd # data processing, CSV file I/O (e.g. pd.read_csv)\n",
    "\n",
    "# Input data files are available in the read-only \"../input/\" directory\n",
    "# For example, running this (by clicking run or pressing Shift+Enter) will list all files under the input directory\n",
    "\n",
    "import os\n",
    "for dirname, _, filenames in os.walk('/kaggle/input'):\n",
    "    for filename in filenames:\n",
    "        print(os.path.join(dirname, filename))\n",
    "\n",
    "# You can write up to 20GB to the current directory (/kaggle/working/) that gets preserved as output when you create a version using \"Save & Run All\" \n",
    "# You can also write temporary files to /kaggle/temp/, but they won't be saved outside of the current session"
   ]
  },
  {
   "cell_type": "code",
   "execution_count": 2,
   "id": "2d115c95",
   "metadata": {
    "execution": {
     "iopub.execute_input": "2022-06-04T11:56:11.603977Z",
     "iopub.status.busy": "2022-06-04T11:56:11.603637Z",
     "iopub.status.idle": "2022-06-04T11:56:16.630636Z",
     "shell.execute_reply": "2022-06-04T11:56:16.629557Z"
    },
    "papermill": {
     "duration": 5.035025,
     "end_time": "2022-06-04T11:56:16.633087",
     "exception": false,
     "start_time": "2022-06-04T11:56:11.598062",
     "status": "completed"
    },
    "tags": []
   },
   "outputs": [],
   "source": [
    "import tensorflow as tf\n",
    "from tensorflow import keras"
   ]
  },
  {
   "cell_type": "code",
   "execution_count": 3,
   "id": "9b84ab04",
   "metadata": {
    "execution": {
     "iopub.execute_input": "2022-06-04T11:56:16.646227Z",
     "iopub.status.busy": "2022-06-04T11:56:16.644888Z",
     "iopub.status.idle": "2022-06-04T11:56:22.184949Z",
     "shell.execute_reply": "2022-06-04T11:56:22.184218Z"
    },
    "papermill": {
     "duration": 5.548779,
     "end_time": "2022-06-04T11:56:22.187183",
     "exception": false,
     "start_time": "2022-06-04T11:56:16.638404",
     "status": "completed"
    },
    "tags": []
   },
   "outputs": [],
   "source": [
    "df_train = pd.read_csv('../input/digit-recognizer/train.csv')\n",
    "df_test = pd.read_csv('../input/digit-recognizer/test.csv')"
   ]
  },
  {
   "cell_type": "code",
   "execution_count": 4,
   "id": "8173f793",
   "metadata": {
    "execution": {
     "iopub.execute_input": "2022-06-04T11:56:22.198688Z",
     "iopub.status.busy": "2022-06-04T11:56:22.198029Z",
     "iopub.status.idle": "2022-06-04T11:56:22.291352Z",
     "shell.execute_reply": "2022-06-04T11:56:22.290397Z"
    },
    "papermill": {
     "duration": 0.101396,
     "end_time": "2022-06-04T11:56:22.293681",
     "exception": false,
     "start_time": "2022-06-04T11:56:22.192285",
     "status": "completed"
    },
    "tags": []
   },
   "outputs": [],
   "source": [
    "X_train = df_train.loc[:,df_train.columns != 'label'].to_numpy().reshape(-1,28,28)\n",
    "y_train = df_train['label'].to_numpy()\n",
    "X_test = df_test.to_numpy().reshape(-1,28,28)"
   ]
  },
  {
   "cell_type": "code",
   "execution_count": 5,
   "id": "b06b512d",
   "metadata": {
    "execution": {
     "iopub.execute_input": "2022-06-04T11:56:22.304943Z",
     "iopub.status.busy": "2022-06-04T11:56:22.304254Z",
     "iopub.status.idle": "2022-06-04T11:56:22.492470Z",
     "shell.execute_reply": "2022-06-04T11:56:22.491249Z"
    },
    "papermill": {
     "duration": 0.196365,
     "end_time": "2022-06-04T11:56:22.494929",
     "exception": false,
     "start_time": "2022-06-04T11:56:22.298564",
     "status": "completed"
    },
    "tags": []
   },
   "outputs": [],
   "source": [
    "X_train = (X_train / 255.)[...,np.newaxis]\n",
    "X_test = (X_test / 255.)[...,np.newaxis]"
   ]
  },
  {
   "cell_type": "code",
   "execution_count": 6,
   "id": "4e2b1450",
   "metadata": {
    "execution": {
     "iopub.execute_input": "2022-06-04T11:56:22.507144Z",
     "iopub.status.busy": "2022-06-04T11:56:22.506767Z",
     "iopub.status.idle": "2022-06-04T11:56:22.513063Z",
     "shell.execute_reply": "2022-06-04T11:56:22.511686Z"
    },
    "papermill": {
     "duration": 0.015226,
     "end_time": "2022-06-04T11:56:22.515745",
     "exception": false,
     "start_time": "2022-06-04T11:56:22.500519",
     "status": "completed"
    },
    "tags": []
   },
   "outputs": [],
   "source": [
    "X_train, X_valid = X_train[:-5000], X_train[-5000:]\n",
    "y_train, y_valid = y_train[:-5000], y_train[-5000:]"
   ]
  },
  {
   "cell_type": "code",
   "execution_count": 7,
   "id": "0c060a79",
   "metadata": {
    "execution": {
     "iopub.execute_input": "2022-06-04T11:56:22.528436Z",
     "iopub.status.busy": "2022-06-04T11:56:22.527706Z",
     "iopub.status.idle": "2022-06-04T11:56:23.824218Z",
     "shell.execute_reply": "2022-06-04T11:56:23.823236Z"
    },
    "papermill": {
     "duration": 1.30483,
     "end_time": "2022-06-04T11:56:23.826583",
     "exception": false,
     "start_time": "2022-06-04T11:56:22.521753",
     "status": "completed"
    },
    "tags": []
   },
   "outputs": [
    {
     "name": "stderr",
     "output_type": "stream",
     "text": [
      "2022-06-04 11:56:23.619534: I tensorflow/core/common_runtime/process_util.cc:146] Creating new thread pool with default inter op setting: 2. Tune using inter_op_parallelism_threads for best performance.\n"
     ]
    }
   ],
   "source": [
    "model = keras.models.Sequential([\n",
    "    keras.layers.Conv2D(32, kernel_size=3, padding=\"same\", activation=\"relu\"),\n",
    "    keras.layers.Conv2D(64, kernel_size=3, padding=\"same\", activation=\"relu\"),\n",
    "    keras.layers.MaxPool2D(),\n",
    "    keras.layers.Flatten(),\n",
    "    keras.layers.Dropout(0.25),\n",
    "    keras.layers.Dense(128, activation=\"relu\"),\n",
    "    keras.layers.Dropout(0.5),\n",
    "    keras.layers.Dense(10, activation=\"softmax\")\n",
    "])\n",
    "model.compile(loss=\"sparse_categorical_crossentropy\", optimizer=\"nadam\",\n",
    "              metrics=[\"accuracy\"])"
   ]
  },
  {
   "cell_type": "code",
   "execution_count": 8,
   "id": "218cb77a",
   "metadata": {
    "execution": {
     "iopub.execute_input": "2022-06-04T11:56:23.839206Z",
     "iopub.status.busy": "2022-06-04T11:56:23.837460Z",
     "iopub.status.idle": "2022-06-04T12:06:00.615671Z",
     "shell.execute_reply": "2022-06-04T12:06:00.614905Z"
    },
    "papermill": {
     "duration": 576.786239,
     "end_time": "2022-06-04T12:06:00.617551",
     "exception": false,
     "start_time": "2022-06-04T11:56:23.831312",
     "status": "completed"
    },
    "tags": []
   },
   "outputs": [
    {
     "name": "stderr",
     "output_type": "stream",
     "text": [
      "2022-06-04 11:56:24.104278: I tensorflow/compiler/mlir/mlir_graph_optimization_pass.cc:185] None of the MLIR Optimization Passes are enabled (registered 2)\n"
     ]
    },
    {
     "name": "stdout",
     "output_type": "stream",
     "text": [
      "Epoch 1/10\n",
      "1157/1157 [==============================] - 59s 50ms/step - loss: 0.2283 - accuracy: 0.9315 - val_loss: 0.0680 - val_accuracy: 0.9782\n",
      "Epoch 2/10\n",
      "1157/1157 [==============================] - 58s 50ms/step - loss: 0.0900 - accuracy: 0.9723 - val_loss: 0.0468 - val_accuracy: 0.9850\n",
      "Epoch 3/10\n",
      "1157/1157 [==============================] - 57s 49ms/step - loss: 0.0658 - accuracy: 0.9798 - val_loss: 0.0457 - val_accuracy: 0.9856\n",
      "Epoch 4/10\n",
      "1157/1157 [==============================] - 58s 50ms/step - loss: 0.0534 - accuracy: 0.9825 - val_loss: 0.0424 - val_accuracy: 0.9858\n",
      "Epoch 5/10\n",
      "1157/1157 [==============================] - 57s 50ms/step - loss: 0.0480 - accuracy: 0.9845 - val_loss: 0.0457 - val_accuracy: 0.9862\n",
      "Epoch 6/10\n",
      "1157/1157 [==============================] - 57s 50ms/step - loss: 0.0403 - accuracy: 0.9870 - val_loss: 0.0443 - val_accuracy: 0.9876\n",
      "Epoch 7/10\n",
      "1157/1157 [==============================] - 57s 50ms/step - loss: 0.0370 - accuracy: 0.9884 - val_loss: 0.0503 - val_accuracy: 0.9870\n",
      "Epoch 8/10\n",
      "1157/1157 [==============================] - 57s 49ms/step - loss: 0.0281 - accuracy: 0.9904 - val_loss: 0.0383 - val_accuracy: 0.9890\n",
      "Epoch 9/10\n",
      "1157/1157 [==============================] - 58s 50ms/step - loss: 0.0283 - accuracy: 0.9905 - val_loss: 0.0431 - val_accuracy: 0.9902\n",
      "Epoch 10/10\n",
      "1157/1157 [==============================] - 58s 50ms/step - loss: 0.0262 - accuracy: 0.9914 - val_loss: 0.0444 - val_accuracy: 0.9892\n"
     ]
    },
    {
     "data": {
      "text/plain": [
       "<keras.callbacks.History at 0x7fe5e67d7910>"
      ]
     },
     "execution_count": 8,
     "metadata": {},
     "output_type": "execute_result"
    }
   ],
   "source": [
    "model.fit(X_train, y_train, epochs=10, validation_data=(X_valid, y_valid))"
   ]
  },
  {
   "cell_type": "code",
   "execution_count": 9,
   "id": "b3471ad6",
   "metadata": {
    "execution": {
     "iopub.execute_input": "2022-06-04T12:06:01.555854Z",
     "iopub.status.busy": "2022-06-04T12:06:01.555218Z",
     "iopub.status.idle": "2022-06-04T12:06:10.834424Z",
     "shell.execute_reply": "2022-06-04T12:06:10.833478Z"
    },
    "papermill": {
     "duration": 9.77979,
     "end_time": "2022-06-04T12:06:10.836728",
     "exception": false,
     "start_time": "2022-06-04T12:06:01.056938",
     "status": "completed"
    },
    "tags": []
   },
   "outputs": [],
   "source": [
    "submission = model.predict(X_test)"
   ]
  },
  {
   "cell_type": "code",
   "execution_count": 10,
   "id": "a033ff42",
   "metadata": {
    "execution": {
     "iopub.execute_input": "2022-06-04T12:06:11.716954Z",
     "iopub.status.busy": "2022-06-04T12:06:11.716553Z",
     "iopub.status.idle": "2022-06-04T12:06:11.721552Z",
     "shell.execute_reply": "2022-06-04T12:06:11.720670Z"
    },
    "papermill": {
     "duration": 0.445418,
     "end_time": "2022-06-04T12:06:11.723598",
     "exception": false,
     "start_time": "2022-06-04T12:06:11.278180",
     "status": "completed"
    },
    "tags": []
   },
   "outputs": [],
   "source": [
    "submission = submission.argmax(1)"
   ]
  },
  {
   "cell_type": "code",
   "execution_count": 11,
   "id": "1609a5c9",
   "metadata": {
    "execution": {
     "iopub.execute_input": "2022-06-04T12:06:12.650655Z",
     "iopub.status.busy": "2022-06-04T12:06:12.649988Z",
     "iopub.status.idle": "2022-06-04T12:06:12.655491Z",
     "shell.execute_reply": "2022-06-04T12:06:12.654839Z"
    },
    "papermill": {
     "duration": 0.499393,
     "end_time": "2022-06-04T12:06:12.657214",
     "exception": false,
     "start_time": "2022-06-04T12:06:12.157821",
     "status": "completed"
    },
    "tags": []
   },
   "outputs": [
    {
     "data": {
      "text/plain": [
       "(28000,)"
      ]
     },
     "execution_count": 11,
     "metadata": {},
     "output_type": "execute_result"
    }
   ],
   "source": [
    "submission.shape"
   ]
  },
  {
   "cell_type": "code",
   "execution_count": 12,
   "id": "7dfc5239",
   "metadata": {
    "execution": {
     "iopub.execute_input": "2022-06-04T12:06:13.532057Z",
     "iopub.status.busy": "2022-06-04T12:06:13.531379Z",
     "iopub.status.idle": "2022-06-04T12:06:13.553876Z",
     "shell.execute_reply": "2022-06-04T12:06:13.553209Z"
    },
    "papermill": {
     "duration": 0.464821,
     "end_time": "2022-06-04T12:06:13.555953",
     "exception": false,
     "start_time": "2022-06-04T12:06:13.091132",
     "status": "completed"
    },
    "tags": []
   },
   "outputs": [],
   "source": [
    "df_sample = pd.read_csv('../input/digit-recognizer/sample_submission.csv')"
   ]
  },
  {
   "cell_type": "code",
   "execution_count": 13,
   "id": "70f2a113",
   "metadata": {
    "execution": {
     "iopub.execute_input": "2022-06-04T12:06:14.433703Z",
     "iopub.status.busy": "2022-06-04T12:06:14.433059Z",
     "iopub.status.idle": "2022-06-04T12:06:14.437327Z",
     "shell.execute_reply": "2022-06-04T12:06:14.436665Z"
    },
    "papermill": {
     "duration": 0.443821,
     "end_time": "2022-06-04T12:06:14.439119",
     "exception": false,
     "start_time": "2022-06-04T12:06:13.995298",
     "status": "completed"
    },
    "tags": []
   },
   "outputs": [],
   "source": [
    "df_sample['Label'] = submission"
   ]
  },
  {
   "cell_type": "code",
   "execution_count": 14,
   "id": "65ae7154",
   "metadata": {
    "execution": {
     "iopub.execute_input": "2022-06-04T12:06:15.370656Z",
     "iopub.status.busy": "2022-06-04T12:06:15.370016Z",
     "iopub.status.idle": "2022-06-04T12:06:15.446007Z",
     "shell.execute_reply": "2022-06-04T12:06:15.445221Z"
    },
    "papermill": {
     "duration": 0.515153,
     "end_time": "2022-06-04T12:06:15.448143",
     "exception": false,
     "start_time": "2022-06-04T12:06:14.932990",
     "status": "completed"
    },
    "tags": []
   },
   "outputs": [],
   "source": [
    "df_sample.to_csv('sumission.csv')"
   ]
  },
  {
   "cell_type": "code",
   "execution_count": null,
   "id": "22ca5d1a",
   "metadata": {
    "papermill": {
     "duration": 0.441721,
     "end_time": "2022-06-04T12:06:16.326628",
     "exception": false,
     "start_time": "2022-06-04T12:06:15.884907",
     "status": "completed"
    },
    "tags": []
   },
   "outputs": [],
   "source": []
  }
 ],
 "metadata": {
  "kernelspec": {
   "display_name": "Python 3",
   "language": "python",
   "name": "python3"
  },
  "language_info": {
   "codemirror_mode": {
    "name": "ipython",
    "version": 3
   },
   "file_extension": ".py",
   "mimetype": "text/x-python",
   "name": "python",
   "nbconvert_exporter": "python",
   "pygments_lexer": "ipython3",
   "version": "3.7.12"
  },
  "papermill": {
   "default_parameters": {},
   "duration": 618.162144,
   "end_time": "2022-06-04T12:06:20.275296",
   "environment_variables": {},
   "exception": null,
   "input_path": "__notebook__.ipynb",
   "output_path": "__notebook__.ipynb",
   "parameters": {},
   "start_time": "2022-06-04T11:56:02.113152",
   "version": "2.3.4"
  }
 },
 "nbformat": 4,
 "nbformat_minor": 5
}
