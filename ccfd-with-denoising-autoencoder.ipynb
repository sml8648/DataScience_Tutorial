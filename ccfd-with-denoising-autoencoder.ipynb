{
 "cells": [
  {
   "cell_type": "markdown",
   "id": "3fe09d6e",
   "metadata": {
    "papermill": {
     "duration": 0.039073,
     "end_time": "2022-06-01T09:06:34.083272",
     "exception": false,
     "start_time": "2022-06-01T09:06:34.044199",
     "status": "completed"
    },
    "tags": []
   },
   "source": [
    "# Introduction\n",
    "##### This Kernel is written based on a paper which utilized 'denoising autoencoder' to detect credit card fraud\n",
    "##### Source : https://arxiv.org/pdf/1908.11553.pdf\n",
    "##### =============================================\n",
    "##### The idea is really simple. To solve the problem of imbalanced dataset of credit card fruad, this paper proposed an oversampling technique(SMOTE) and feed oversampled dataset into denoising autoencoder.\n",
    "##### Then with the dataset represented by denoising autoencoder, they make classifier learn the pattern between normal transaction and abnormal transaction"
   ]
  },
  {
   "cell_type": "code",
   "execution_count": 1,
   "id": "37f87366",
   "metadata": {
    "_cell_guid": "b1076dfc-b9ad-4769-8c92-a6c4dae69d19",
    "_uuid": "8f2839f25d086af736a60e9eeb907d3b93b6e0e5",
    "execution": {
     "iopub.execute_input": "2022-06-01T09:06:34.161852Z",
     "iopub.status.busy": "2022-06-01T09:06:34.161102Z",
     "iopub.status.idle": "2022-06-01T09:06:34.181531Z",
     "shell.execute_reply": "2022-06-01T09:06:34.180435Z"
    },
    "papermill": {
     "duration": 0.062536,
     "end_time": "2022-06-01T09:06:34.183773",
     "exception": false,
     "start_time": "2022-06-01T09:06:34.121237",
     "status": "completed"
    },
    "tags": []
   },
   "outputs": [
    {
     "name": "stdout",
     "output_type": "stream",
     "text": [
      "/kaggle/input/creditcardfraud/creditcard.csv\n"
     ]
    }
   ],
   "source": [
    "# This Python 3 environment comes with many helpful analytics libraries installed\n",
    "# It is defined by the kaggle/python Docker image: https://github.com/kaggle/docker-python\n",
    "# For example, here's several helpful packages to load\n",
    "\n",
    "import numpy as np # linear algebra\n",
    "import pandas as pd # data processing, CSV file I/O (e.g. pd.read_csv)\n",
    "\n",
    "# Input data files are available in the read-only \"../input/\" directory\n",
    "# For example, running this (by clicking run or pressing Shift+Enter) will list all files under the input directory\n",
    "\n",
    "import os\n",
    "for dirname, _, filenames in os.walk('/kaggle/input'):\n",
    "    for filename in filenames:\n",
    "        print(os.path.join(dirname, filename))\n",
    "\n",
    "# You can write up to 20GB to the current directory (/kaggle/working/) that gets preserved as output when you create a version using \"Save & Run All\" \n",
    "# You can also write temporary files to /kaggle/temp/, but they won't be saved outside of the current session"
   ]
  },
  {
   "cell_type": "code",
   "execution_count": 2,
   "id": "b7755493",
   "metadata": {
    "execution": {
     "iopub.execute_input": "2022-06-01T09:06:34.263375Z",
     "iopub.status.busy": "2022-06-01T09:06:34.262963Z",
     "iopub.status.idle": "2022-06-01T09:06:41.920804Z",
     "shell.execute_reply": "2022-06-01T09:06:41.920169Z"
    },
    "papermill": {
     "duration": 7.699594,
     "end_time": "2022-06-01T09:06:41.923037",
     "exception": false,
     "start_time": "2022-06-01T09:06:34.223443",
     "status": "completed"
    },
    "tags": []
   },
   "outputs": [],
   "source": [
    "from sklearn.model_selection import train_test_split\n",
    "from sklearn.preprocessing import StandardScaler\n",
    "from sklearn.datasets import make_classification\n",
    "from sklearn.metrics import precision_recall_curve, average_precision_score\n",
    "from sklearn.metrics import roc_curve, auc, roc_auc_score\n",
    "from imblearn.over_sampling import SMOTE\n",
    "\n",
    "import tensorflow as tf\n",
    "from tensorflow import keras\n",
    "from keras.callbacks import ModelCheckpoint, EarlyStopping\n",
    "\n",
    "import matplotlib.pyplot as plt\n",
    "import warnings\n",
    "warnings.filterwarnings(\"ignore\")"
   ]
  },
  {
   "cell_type": "markdown",
   "id": "8831bc9c",
   "metadata": {
    "papermill": {
     "duration": 0.037793,
     "end_time": "2022-06-01T09:06:41.999879",
     "exception": false,
     "start_time": "2022-06-01T09:06:41.962086",
     "status": "completed"
    },
    "tags": []
   },
   "source": [
    "## Data Preprocessing\n",
    "##### For dataset preprocessing, drop 'Time' data and normalized the 'Amount' part. \n",
    "##### Other features don't need to do normalization. Then choose the test sample, which account for 20% of total dataset\n"
   ]
  },
  {
   "cell_type": "code",
   "execution_count": 3,
   "id": "35104144",
   "metadata": {
    "execution": {
     "iopub.execute_input": "2022-06-01T09:06:42.081152Z",
     "iopub.status.busy": "2022-06-01T09:06:42.080051Z",
     "iopub.status.idle": "2022-06-01T09:06:47.499671Z",
     "shell.execute_reply": "2022-06-01T09:06:47.498374Z"
    },
    "papermill": {
     "duration": 5.463805,
     "end_time": "2022-06-01T09:06:47.502562",
     "exception": false,
     "start_time": "2022-06-01T09:06:42.038757",
     "status": "completed"
    },
    "tags": []
   },
   "outputs": [],
   "source": [
    "df = pd.read_csv('../input/creditcardfraud/creditcard.csv')\n",
    "\n",
    "x = df[df.columns[1:30]].to_numpy()\n",
    "y = df[df.columns[30]].to_numpy()\n",
    "\n",
    "# prepare data\n",
    "df = pd.concat([pd.DataFrame(x)], axis=1)\n",
    "\n",
    "# normalize Amount\n",
    "df[28] = (df[28] - df[28].mean())/df[28].std()\n",
    "\n",
    "# Split the data\n",
    "x = df.to_numpy()\n",
    "x_train_all, x_test, y_train_all, y_test = train_test_split(x,y,stratify=y,test_size=0.2)"
   ]
  },
  {
   "cell_type": "markdown",
   "id": "497cf72e",
   "metadata": {
    "papermill": {
     "duration": 0.03898,
     "end_time": "2022-06-01T09:06:47.580538",
     "exception": false,
     "start_time": "2022-06-01T09:06:47.541558",
     "status": "completed"
    },
    "tags": []
   },
   "source": [
    "## Oversampling (SMOTE)\n",
    "##### Before oversampling, there are 227451 sample normal train data and 394 sample abnormal data\n",
    "##### After oversampling, there are 227451 sample normal train data and also 227451 sample abnormal data"
   ]
  },
  {
   "cell_type": "code",
   "execution_count": 4,
   "id": "7f2de306",
   "metadata": {
    "execution": {
     "iopub.execute_input": "2022-06-01T09:06:47.661947Z",
     "iopub.status.busy": "2022-06-01T09:06:47.661583Z",
     "iopub.status.idle": "2022-06-01T09:06:47.964147Z",
     "shell.execute_reply": "2022-06-01T09:06:47.963068Z"
    },
    "papermill": {
     "duration": 0.346851,
     "end_time": "2022-06-01T09:06:47.966816",
     "exception": false,
     "start_time": "2022-06-01T09:06:47.619965",
     "status": "completed"
    },
    "tags": []
   },
   "outputs": [
    {
     "data": {
      "text/plain": [
       "(array([0, 1]), array([227451, 227451]))"
      ]
     },
     "execution_count": 4,
     "metadata": {},
     "output_type": "execute_result"
    }
   ],
   "source": [
    "sm = SMOTE()\n",
    "x_train_all, y_train_all = sm.fit_resample(x_train_all,y_train_all)\n",
    "np.unique(y_train_all, return_counts=True)"
   ]
  },
  {
   "cell_type": "code",
   "execution_count": 5,
   "id": "3a2aa305",
   "metadata": {
    "execution": {
     "iopub.execute_input": "2022-06-01T09:06:48.048516Z",
     "iopub.status.busy": "2022-06-01T09:06:48.048219Z",
     "iopub.status.idle": "2022-06-01T09:06:48.052656Z",
     "shell.execute_reply": "2022-06-01T09:06:48.051575Z"
    },
    "papermill": {
     "duration": 0.04861,
     "end_time": "2022-06-01T09:06:48.054638",
     "exception": false,
     "start_time": "2022-06-01T09:06:48.006028",
     "status": "completed"
    },
    "tags": []
   },
   "outputs": [],
   "source": [
    "# Describe oversampled dataset"
   ]
  },
  {
   "cell_type": "markdown",
   "id": "4b12fbb4",
   "metadata": {
    "papermill": {
     "duration": 0.038511,
     "end_time": "2022-06-01T09:06:48.131939",
     "exception": false,
     "start_time": "2022-06-01T09:06:48.093428",
     "status": "completed"
    },
    "tags": []
   },
   "source": [
    "## Denoising autoencoder\n",
    "##### Paper proposed a 7 layer of autoencoder for dataset denoising process\n",
    "##### After oversampling, they add Gaussian noise to the training dataset, the feed the training dataset in this decnoising autoencoder"
   ]
  },
  {
   "cell_type": "code",
   "execution_count": 6,
   "id": "190be079",
   "metadata": {
    "execution": {
     "iopub.execute_input": "2022-06-01T09:06:48.212048Z",
     "iopub.status.busy": "2022-06-01T09:06:48.211770Z",
     "iopub.status.idle": "2022-06-01T09:06:48.294491Z",
     "shell.execute_reply": "2022-06-01T09:06:48.293517Z"
    },
    "papermill": {
     "duration": 0.12652,
     "end_time": "2022-06-01T09:06:48.297584",
     "exception": false,
     "start_time": "2022-06-01T09:06:48.171064",
     "status": "completed"
    },
    "tags": []
   },
   "outputs": [],
   "source": [
    "# Split data for training autoencoder\n",
    "x_train_all, x_valid, y_train_all, y_valid = train_test_split(x_train_all,y_train_all,test_size=0.2)"
   ]
  },
  {
   "cell_type": "code",
   "execution_count": 7,
   "id": "c0bb2632",
   "metadata": {
    "execution": {
     "iopub.execute_input": "2022-06-01T09:06:48.377334Z",
     "iopub.status.busy": "2022-06-01T09:06:48.377049Z",
     "iopub.status.idle": "2022-06-01T09:06:48.384875Z",
     "shell.execute_reply": "2022-06-01T09:06:48.383862Z"
    },
    "papermill": {
     "duration": 0.050344,
     "end_time": "2022-06-01T09:06:48.387155",
     "exception": false,
     "start_time": "2022-06-01T09:06:48.336811",
     "status": "completed"
    },
    "tags": []
   },
   "outputs": [
    {
     "data": {
      "text/plain": [
       "(90981, 29)"
      ]
     },
     "execution_count": 7,
     "metadata": {},
     "output_type": "execute_result"
    }
   ],
   "source": [
    "x_valid.shape"
   ]
  },
  {
   "cell_type": "code",
   "execution_count": 8,
   "id": "a794f272",
   "metadata": {
    "execution": {
     "iopub.execute_input": "2022-06-01T09:06:48.469134Z",
     "iopub.status.busy": "2022-06-01T09:06:48.468420Z",
     "iopub.status.idle": "2022-06-01T09:06:49.082068Z",
     "shell.execute_reply": "2022-06-01T09:06:49.081166Z"
    },
    "papermill": {
     "duration": 0.656356,
     "end_time": "2022-06-01T09:06:49.084546",
     "exception": false,
     "start_time": "2022-06-01T09:06:48.428190",
     "status": "completed"
    },
    "tags": []
   },
   "outputs": [
    {
     "name": "stderr",
     "output_type": "stream",
     "text": [
      "2022-06-01 09:06:48.947194: I tensorflow/core/common_runtime/process_util.cc:146] Creating new thread pool with default inter op setting: 2. Tune using inter_op_parallelism_threads for best performance.\n"
     ]
    }
   ],
   "source": [
    "# Model\n",
    "keras.backend.clear_session()\n",
    "\n",
    "denoising_encoder = keras.models.Sequential([\n",
    "    keras.layers.Flatten(input_shape=[29]),\n",
    "    keras.layers.GaussianNoise(0.2),\n",
    "    keras.layers.Dense(22, activation='relu'),\n",
    "    keras.layers.Dense(15, activation='relu'),\n",
    "    keras.layers.Dense(10, activation='relu'),\n",
    "])\n",
    "\n",
    "denoising_decoder = keras.models.Sequential([\n",
    "    keras.layers.Dense(15, activation='relu', input_shape=[10]),\n",
    "    keras.layers.Dense(22, activation='relu'),\n",
    "    keras.layers.Dense(29),\n",
    "])\n",
    "\n",
    "denoising_ae = keras.models.Sequential([denoising_encoder, denoising_decoder])\n",
    "denoising_ae.compile(loss='mean_squared_error', optimizer=keras.optimizers.Adam(), metrics=['mse'])"
   ]
  },
  {
   "cell_type": "code",
   "execution_count": 9,
   "id": "6cceaee5",
   "metadata": {
    "_kg_hide-input": true,
    "_kg_hide-output": true,
    "execution": {
     "iopub.execute_input": "2022-06-01T09:06:49.163996Z",
     "iopub.status.busy": "2022-06-01T09:06:49.163709Z",
     "iopub.status.idle": "2022-06-01T09:30:11.956443Z",
     "shell.execute_reply": "2022-06-01T09:30:11.955732Z"
    },
    "papermill": {
     "duration": 1402.835554,
     "end_time": "2022-06-01T09:30:11.959065",
     "exception": false,
     "start_time": "2022-06-01T09:06:49.123511",
     "status": "completed"
    },
    "scrolled": true,
    "tags": []
   },
   "outputs": [
    {
     "name": "stderr",
     "output_type": "stream",
     "text": [
      "2022-06-01 09:06:49.330733: I tensorflow/compiler/mlir/mlir_graph_optimization_pass.cc:185] None of the MLIR Optimization Passes are enabled (registered 2)\n"
     ]
    },
    {
     "name": "stdout",
     "output_type": "stream",
     "text": [
      "Epoch 1/40\n",
      "11373/11373 [==============================] - 37s 3ms/step - loss: 0.5692 - mse: 0.5692 - val_loss: 0.3524 - val_mse: 0.3524\n",
      "Epoch 2/40\n",
      "11373/11373 [==============================] - 36s 3ms/step - loss: 0.3007 - mse: 0.3007 - val_loss: 0.2539 - val_mse: 0.2539\n",
      "Epoch 3/40\n",
      "11373/11373 [==============================] - 34s 3ms/step - loss: 0.2551 - mse: 0.2551 - val_loss: 0.2293 - val_mse: 0.2293\n",
      "Epoch 4/40\n",
      "11373/11373 [==============================] - 34s 3ms/step - loss: 0.2353 - mse: 0.2353 - val_loss: 0.2032 - val_mse: 0.2032\n",
      "Epoch 5/40\n",
      "11373/11373 [==============================] - 34s 3ms/step - loss: 0.2218 - mse: 0.2218 - val_loss: 0.1966 - val_mse: 0.1966\n",
      "Epoch 6/40\n",
      "11373/11373 [==============================] - 35s 3ms/step - loss: 0.2124 - mse: 0.2124 - val_loss: 0.1831 - val_mse: 0.1831\n",
      "Epoch 7/40\n",
      "11373/11373 [==============================] - 34s 3ms/step - loss: 0.2030 - mse: 0.2030 - val_loss: 0.1824 - val_mse: 0.1824\n",
      "Epoch 8/40\n",
      "11373/11373 [==============================] - 35s 3ms/step - loss: 0.1977 - mse: 0.1977 - val_loss: 0.1742 - val_mse: 0.1742\n",
      "Epoch 9/40\n",
      "11373/11373 [==============================] - 34s 3ms/step - loss: 0.1937 - mse: 0.1937 - val_loss: 0.1695 - val_mse: 0.1695\n",
      "Epoch 10/40\n",
      "11373/11373 [==============================] - 34s 3ms/step - loss: 0.1902 - mse: 0.1902 - val_loss: 0.1707 - val_mse: 0.1707\n",
      "Epoch 11/40\n",
      "11373/11373 [==============================] - 35s 3ms/step - loss: 0.1873 - mse: 0.1873 - val_loss: 0.1644 - val_mse: 0.1644\n",
      "Epoch 12/40\n",
      "11373/11373 [==============================] - 34s 3ms/step - loss: 0.1848 - mse: 0.1848 - val_loss: 0.1668 - val_mse: 0.1668\n",
      "Epoch 13/40\n",
      "11373/11373 [==============================] - 34s 3ms/step - loss: 0.1818 - mse: 0.1818 - val_loss: 0.1607 - val_mse: 0.1607\n",
      "Epoch 14/40\n",
      "11373/11373 [==============================] - 34s 3ms/step - loss: 0.1793 - mse: 0.1793 - val_loss: 0.1651 - val_mse: 0.1651\n",
      "Epoch 15/40\n",
      "11373/11373 [==============================] - 35s 3ms/step - loss: 0.1760 - mse: 0.1760 - val_loss: 0.1552 - val_mse: 0.1552\n",
      "Epoch 16/40\n",
      "11373/11373 [==============================] - 34s 3ms/step - loss: 0.1734 - mse: 0.1734 - val_loss: 0.1563 - val_mse: 0.1563\n",
      "Epoch 17/40\n",
      "11373/11373 [==============================] - 34s 3ms/step - loss: 0.1724 - mse: 0.1724 - val_loss: 0.1545 - val_mse: 0.1545\n",
      "Epoch 18/40\n",
      "11373/11373 [==============================] - 34s 3ms/step - loss: 0.1718 - mse: 0.1718 - val_loss: 0.1580 - val_mse: 0.1580\n",
      "Epoch 19/40\n",
      "11373/11373 [==============================] - 35s 3ms/step - loss: 0.1717 - mse: 0.1717 - val_loss: 0.1521 - val_mse: 0.1521\n",
      "Epoch 20/40\n",
      "11373/11373 [==============================] - 36s 3ms/step - loss: 0.1710 - mse: 0.1710 - val_loss: 0.1550 - val_mse: 0.1550\n",
      "Epoch 21/40\n",
      "11373/11373 [==============================] - 35s 3ms/step - loss: 0.1702 - mse: 0.1702 - val_loss: 0.1504 - val_mse: 0.1504\n",
      "Epoch 22/40\n",
      "11373/11373 [==============================] - 35s 3ms/step - loss: 0.1707 - mse: 0.1707 - val_loss: 0.1690 - val_mse: 0.1690\n",
      "Epoch 23/40\n",
      "11373/11373 [==============================] - 34s 3ms/step - loss: 0.1693 - mse: 0.1693 - val_loss: 0.1511 - val_mse: 0.1511\n",
      "Epoch 24/40\n",
      "11373/11373 [==============================] - 35s 3ms/step - loss: 0.1682 - mse: 0.1682 - val_loss: 0.1623 - val_mse: 0.1623\n",
      "Epoch 25/40\n",
      "11373/11373 [==============================] - 33s 3ms/step - loss: 0.1675 - mse: 0.1675 - val_loss: 0.1522 - val_mse: 0.1522\n",
      "Epoch 26/40\n",
      "11373/11373 [==============================] - 34s 3ms/step - loss: 0.1675 - mse: 0.1675 - val_loss: 0.1501 - val_mse: 0.1501\n",
      "Epoch 27/40\n",
      "11373/11373 [==============================] - 33s 3ms/step - loss: 0.1665 - mse: 0.1665 - val_loss: 0.1485 - val_mse: 0.1485\n",
      "Epoch 28/40\n",
      "11373/11373 [==============================] - 35s 3ms/step - loss: 0.1667 - mse: 0.1667 - val_loss: 0.1484 - val_mse: 0.1484\n",
      "Epoch 29/40\n",
      "11373/11373 [==============================] - 36s 3ms/step - loss: 0.1660 - mse: 0.1660 - val_loss: 0.1529 - val_mse: 0.1529\n",
      "Epoch 30/40\n",
      "11373/11373 [==============================] - 34s 3ms/step - loss: 0.1661 - mse: 0.1661 - val_loss: 0.1498 - val_mse: 0.1498\n",
      "Epoch 31/40\n",
      "11373/11373 [==============================] - 34s 3ms/step - loss: 0.1651 - mse: 0.1651 - val_loss: 0.1492 - val_mse: 0.1492\n",
      "Epoch 32/40\n",
      "11373/11373 [==============================] - 36s 3ms/step - loss: 0.1645 - mse: 0.1645 - val_loss: 0.1502 - val_mse: 0.1502\n",
      "Epoch 33/40\n",
      "11373/11373 [==============================] - 35s 3ms/step - loss: 0.1637 - mse: 0.1637 - val_loss: 0.1496 - val_mse: 0.1496\n",
      "Epoch 34/40\n",
      "11373/11373 [==============================] - 36s 3ms/step - loss: 0.1626 - mse: 0.1626 - val_loss: 0.1437 - val_mse: 0.1437\n",
      "Epoch 35/40\n",
      "11373/11373 [==============================] - 35s 3ms/step - loss: 0.1618 - mse: 0.1618 - val_loss: 0.1432 - val_mse: 0.1432\n",
      "Epoch 36/40\n",
      "11373/11373 [==============================] - 35s 3ms/step - loss: 0.1620 - mse: 0.1620 - val_loss: 0.1435 - val_mse: 0.1435\n",
      "Epoch 37/40\n",
      "11373/11373 [==============================] - 34s 3ms/step - loss: 0.1613 - mse: 0.1613 - val_loss: 0.1446 - val_mse: 0.1446\n",
      "Epoch 38/40\n",
      "11373/11373 [==============================] - 35s 3ms/step - loss: 0.1600 - mse: 0.1600 - val_loss: 0.1474 - val_mse: 0.1474\n",
      "Epoch 39/40\n",
      "11373/11373 [==============================] - 35s 3ms/step - loss: 0.1588 - mse: 0.1588 - val_loss: 0.1387 - val_mse: 0.1387\n",
      "Epoch 40/40\n",
      "11373/11373 [==============================] - 36s 3ms/step - loss: 0.1563 - mse: 0.1563 - val_loss: 0.1438 - val_mse: 0.1438\n"
     ]
    }
   ],
   "source": [
    "history = denoising_ae.fit(x_train_all, x_train_all, epochs=40, validation_data=(x_valid,x_valid))"
   ]
  },
  {
   "cell_type": "code",
   "execution_count": 10,
   "id": "c3508c13",
   "metadata": {
    "execution": {
     "iopub.execute_input": "2022-06-01T09:30:29.435688Z",
     "iopub.status.busy": "2022-06-01T09:30:29.435364Z",
     "iopub.status.idle": "2022-06-01T09:30:29.696236Z",
     "shell.execute_reply": "2022-06-01T09:30:29.695114Z"
    },
    "papermill": {
     "duration": 9.038887,
     "end_time": "2022-06-01T09:30:29.698321",
     "exception": false,
     "start_time": "2022-06-01T09:30:20.659434",
     "status": "completed"
    },
    "tags": []
   },
   "outputs": [
    {
     "data": {
      "image/png": "[encoded data removed]",
      "text/plain": [
       "<Figure size 432x288 with 1 Axes>"
      ]
     },
     "metadata": {
      "needs_background": "light"
     },
     "output_type": "display_data"
    }
   ],
   "source": [
    "plt.plot(history.history['loss'])\n",
    "plt.plot(history.history['val_loss'])\n",
    "plt.title('Model Loss')\n",
    "plt.ylabel('Loss')\n",
    "plt.xlabel('Epoch')\n",
    "plt.legend(['Train', 'Valid'], loc='upper left')\n",
    "plt.show()"
   ]
  },
  {
   "cell_type": "code",
   "execution_count": 11,
   "id": "0dd029f2",
   "metadata": {
    "execution": {
     "iopub.execute_input": "2022-06-01T09:30:47.238497Z",
     "iopub.status.busy": "2022-06-01T09:30:47.238161Z",
     "iopub.status.idle": "2022-06-01T09:31:05.126907Z",
     "shell.execute_reply": "2022-06-01T09:31:05.126183Z"
    },
    "papermill": {
     "duration": 26.709845,
     "end_time": "2022-06-01T09:31:05.129691",
     "exception": false,
     "start_time": "2022-06-01T09:30:38.419846",
     "status": "completed"
    },
    "tags": []
   },
   "outputs": [],
   "source": [
    "# making denoised dataset\n",
    "denoising_x_train = denoising_ae.predict(x_train_all)\n",
    "denoising_x_valid = denoising_ae.predict(x_valid)"
   ]
  },
  {
   "cell_type": "markdown",
   "id": "8982b368",
   "metadata": {
    "papermill": {
     "duration": 8.705719,
     "end_time": "2022-06-01T09:31:22.587290",
     "exception": false,
     "start_time": "2022-06-01T09:31:13.881571",
     "status": "completed"
    },
    "tags": []
   },
   "source": [
    "## Classifier\n",
    "##### Paper proposed a 6 layers autoencoder for dataset denoise proess. After got denoised training dataset from denoised autoencoder, the dataset go into this deep fully connected neural network classifier\n",
    "##### In the end, this model used SoftMax with cross-entropy as the loss function for final classification."
   ]
  },
  {
   "cell_type": "code",
   "execution_count": 12,
   "id": "f4fd0364",
   "metadata": {
    "execution": {
     "iopub.execute_input": "2022-06-01T09:31:40.054725Z",
     "iopub.status.busy": "2022-06-01T09:31:40.054265Z",
     "iopub.status.idle": "2022-06-01T09:31:40.125167Z",
     "shell.execute_reply": "2022-06-01T09:31:40.124090Z"
    },
    "papermill": {
     "duration": 8.820735,
     "end_time": "2022-06-01T09:31:40.129251",
     "exception": false,
     "start_time": "2022-06-01T09:31:31.308516",
     "status": "completed"
    },
    "tags": []
   },
   "outputs": [],
   "source": [
    "keras.backend.clear_session()\n",
    "\n",
    "# The classifier with out denoising autoencoder dataset\n",
    "base_classifier = keras.models.Sequential([\n",
    "    keras.layers.Dense(22, activation='relu',input_shape=[29]),\n",
    "    keras.layers.Dense(15, activation='relu'),\n",
    "    keras.layers.Dropout(0.2),\n",
    "    keras.layers.Dense(10, activation='relu'),\n",
    "    keras.layers.Dense(5, activation='relu'),\n",
    "    keras.layers.Dense(1, activation='sigmoid')\n",
    "])\n",
    "\n",
    "base_classifier.compile(loss='binary_crossentropy', optimizer=keras.optimizers.Adam(), metrics=['accuracy'])"
   ]
  },
  {
   "cell_type": "code",
   "execution_count": 13,
   "id": "ae2567d6",
   "metadata": {
    "execution": {
     "iopub.execute_input": "2022-06-01T09:31:57.618797Z",
     "iopub.status.busy": "2022-06-01T09:31:57.618416Z",
     "iopub.status.idle": "2022-06-01T09:37:16.837038Z",
     "shell.execute_reply": "2022-06-01T09:37:16.835849Z"
    },
    "papermill": {
     "duration": 327.858956,
     "end_time": "2022-06-01T09:37:16.840032",
     "exception": false,
     "start_time": "2022-06-01T09:31:48.981076",
     "status": "completed"
    },
    "tags": []
   },
   "outputs": [
    {
     "name": "stdout",
     "output_type": "stream",
     "text": [
      "Epoch 1/10\n",
      "11373/11373 [==============================] - 33s 3ms/step - loss: 0.0418 - accuracy: 0.9843 - val_loss: 0.0103 - val_accuracy: 0.9977\n",
      "Epoch 2/10\n",
      "11373/11373 [==============================] - 32s 3ms/step - loss: 0.0110 - accuracy: 0.9973 - val_loss: 0.0071 - val_accuracy: 0.9982\n",
      "Epoch 3/10\n",
      "11373/11373 [==============================] - 31s 3ms/step - loss: 0.0089 - accuracy: 0.9979 - val_loss: 0.0053 - val_accuracy: 0.9986\n",
      "Epoch 4/10\n",
      "11373/11373 [==============================] - 32s 3ms/step - loss: 0.0070 - accuracy: 0.9983 - val_loss: 0.0038 - val_accuracy: 0.9992\n",
      "Epoch 5/10\n",
      "11373/11373 [==============================] - 33s 3ms/step - loss: 0.0060 - accuracy: 0.9985 - val_loss: 0.0069 - val_accuracy: 0.9976\n",
      "Epoch 6/10\n",
      "11373/11373 [==============================] - 31s 3ms/step - loss: 0.0057 - accuracy: 0.9987 - val_loss: 0.0038 - val_accuracy: 0.9993\n",
      "Epoch 7/10\n",
      "11373/11373 [==============================] - 32s 3ms/step - loss: 0.0052 - accuracy: 0.9988 - val_loss: 0.0034 - val_accuracy: 0.9993\n",
      "Epoch 8/10\n",
      "11373/11373 [==============================] - 31s 3ms/step - loss: 0.0048 - accuracy: 0.9988 - val_loss: 0.0042 - val_accuracy: 0.9988\n",
      "Epoch 9/10\n",
      "11373/11373 [==============================] - 33s 3ms/step - loss: 0.0044 - accuracy: 0.9990 - val_loss: 0.0036 - val_accuracy: 0.9992\n",
      "Epoch 10/10\n",
      "11373/11373 [==============================] - 31s 3ms/step - loss: 0.0042 - accuracy: 0.9990 - val_loss: 0.0038 - val_accuracy: 0.9992\n"
     ]
    }
   ],
   "source": [
    "clf_base_history = base_classifier.fit(x_train_all, y_train_all, epochs=10, validation_data=(x_valid,y_valid))"
   ]
  },
  {
   "cell_type": "code",
   "execution_count": 14,
   "id": "79d0ab32",
   "metadata": {
    "execution": {
     "iopub.execute_input": "2022-06-01T09:37:38.474526Z",
     "iopub.status.busy": "2022-06-01T09:37:38.474193Z",
     "iopub.status.idle": "2022-06-01T09:37:38.690258Z",
     "shell.execute_reply": "2022-06-01T09:37:38.689543Z"
    },
    "papermill": {
     "duration": 10.967162,
     "end_time": "2022-06-01T09:37:38.692543",
     "exception": false,
     "start_time": "2022-06-01T09:37:27.725381",
     "status": "completed"
    },
    "tags": []
   },
   "outputs": [
    {
     "data": {
      "image/png": "[encoded data removed]",
      "text/plain": [
       "<Figure size 432x288 with 1 Axes>"
      ]
     },
     "metadata": {
      "needs_background": "light"
     },
     "output_type": "display_data"
    }
   ],
   "source": [
    "plt.plot(clf_base_history.history['loss'])\n",
    "plt.plot(clf_base_history.history['val_loss'])\n",
    "plt.title('Model Loss')\n",
    "plt.ylabel('Loss')\n",
    "plt.xlabel('Epoch')\n",
    "plt.legend(['Train', 'Valid'], loc='upper left')\n",
    "plt.show()"
   ]
  },
  {
   "cell_type": "code",
   "execution_count": 15,
   "id": "73f284a8",
   "metadata": {
    "execution": {
     "iopub.execute_input": "2022-06-01T09:38:00.154464Z",
     "iopub.status.busy": "2022-06-01T09:38:00.154125Z",
     "iopub.status.idle": "2022-06-01T09:38:00.573379Z",
     "shell.execute_reply": "2022-06-01T09:38:00.572369Z"
    },
    "papermill": {
     "duration": 11.177109,
     "end_time": "2022-06-01T09:38:00.576131",
     "exception": false,
     "start_time": "2022-06-01T09:37:49.399022",
     "status": "completed"
    },
    "tags": []
   },
   "outputs": [],
   "source": [
    "keras.backend.clear_session()\n",
    "\n",
    "classifier_1 = keras.models.Sequential([\n",
    "    keras.layers.Dense(22, activation='relu',input_shape=[29]),\n",
    "    keras.layers.Dense(15, activation='relu'),\n",
    "    keras.layers.Dropout(0.2),\n",
    "    keras.layers.Dense(10, activation='relu'),\n",
    "    keras.layers.Dense(5, activation='relu'),\n",
    "    keras.layers.Dense(1, activation='sigmoid')\n",
    "])\n",
    "\n",
    "classifier_1.compile(loss='binary_crossentropy', optimizer=keras.optimizers.Adam(), metrics=['accuracy'])"
   ]
  },
  {
   "cell_type": "code",
   "execution_count": 16,
   "id": "fa2c3531",
   "metadata": {
    "_kg_hide-input": true,
    "_kg_hide-output": true,
    "execution": {
     "iopub.execute_input": "2022-06-01T09:38:22.112304Z",
     "iopub.status.busy": "2022-06-01T09:38:22.111951Z",
     "iopub.status.idle": "2022-06-01T09:43:40.828843Z",
     "shell.execute_reply": "2022-06-01T09:43:40.827461Z"
    },
    "papermill": {
     "duration": 329.433412,
     "end_time": "2022-06-01T09:43:40.832028",
     "exception": false,
     "start_time": "2022-06-01T09:38:11.398616",
     "status": "completed"
    },
    "scrolled": true,
    "tags": []
   },
   "outputs": [
    {
     "name": "stdout",
     "output_type": "stream",
     "text": [
      "Epoch 1/10\n",
      "11373/11373 [==============================] - 32s 3ms/step - loss: 0.0649 - accuracy: 0.9755 - val_loss: 0.0279 - val_accuracy: 0.9910\n",
      "Epoch 2/10\n",
      "11373/11373 [==============================] - 32s 3ms/step - loss: 0.0298 - accuracy: 0.9900 - val_loss: 0.0212 - val_accuracy: 0.9936\n",
      "Epoch 3/10\n",
      "11373/11373 [==============================] - 31s 3ms/step - loss: 0.0236 - accuracy: 0.9926 - val_loss: 0.0164 - val_accuracy: 0.9952\n",
      "Epoch 4/10\n",
      "11373/11373 [==============================] - 32s 3ms/step - loss: 0.0210 - accuracy: 0.9936 - val_loss: 0.0150 - val_accuracy: 0.9961\n",
      "Epoch 5/10\n",
      "11373/11373 [==============================] - 32s 3ms/step - loss: 0.0188 - accuracy: 0.9944 - val_loss: 0.0153 - val_accuracy: 0.9954\n",
      "Epoch 6/10\n",
      "11373/11373 [==============================] - 31s 3ms/step - loss: 0.0177 - accuracy: 0.9947 - val_loss: 0.0118 - val_accuracy: 0.9967\n",
      "Epoch 7/10\n",
      "11373/11373 [==============================] - 31s 3ms/step - loss: 0.0164 - accuracy: 0.9953 - val_loss: 0.0153 - val_accuracy: 0.9951\n",
      "Epoch 8/10\n",
      "11373/11373 [==============================] - 32s 3ms/step - loss: 0.0160 - accuracy: 0.9955 - val_loss: 0.0110 - val_accuracy: 0.9971\n",
      "Epoch 9/10\n",
      "11373/11373 [==============================] - 34s 3ms/step - loss: 0.0154 - accuracy: 0.9957 - val_loss: 0.0119 - val_accuracy: 0.9969\n",
      "Epoch 10/10\n",
      "11373/11373 [==============================] - 32s 3ms/step - loss: 0.0147 - accuracy: 0.9959 - val_loss: 0.0110 - val_accuracy: 0.9972\n"
     ]
    }
   ],
   "source": [
    "clf_1_history = classifier_1.fit(denoising_x_train, y_train_all, epochs=10, validation_data=(denoising_x_valid,y_valid))"
   ]
  },
  {
   "cell_type": "code",
   "execution_count": 17,
   "id": "c5091e31",
   "metadata": {
    "execution": {
     "iopub.execute_input": "2022-06-01T09:44:06.305065Z",
     "iopub.status.busy": "2022-06-01T09:44:06.304436Z",
     "iopub.status.idle": "2022-06-01T09:44:06.502384Z",
     "shell.execute_reply": "2022-06-01T09:44:06.501385Z"
    },
    "papermill": {
     "duration": 12.976345,
     "end_time": "2022-06-01T09:44:06.504799",
     "exception": false,
     "start_time": "2022-06-01T09:43:53.528454",
     "status": "completed"
    },
    "tags": []
   },
   "outputs": [
    {
     "data": {
      "image/png": "[encoded data removed]",
      "text/plain": [
       "<Figure size 432x288 with 1 Axes>"
      ]
     },
     "metadata": {
      "needs_background": "light"
     },
     "output_type": "display_data"
    }
   ],
   "source": [
    "plt.plot(clf_1_history.history['loss'])\n",
    "plt.plot(clf_1_history.history['val_loss'])\n",
    "plt.title('Model Loss')\n",
    "plt.ylabel('Loss')\n",
    "plt.xlabel('Epoch')\n",
    "plt.legend(['Train', 'Valid'], loc='upper left')\n",
    "plt.show()"
   ]
  },
  {
   "cell_type": "code",
   "execution_count": 18,
   "id": "cc156c32",
   "metadata": {
    "execution": {
     "iopub.execute_input": "2022-06-01T09:44:32.153165Z",
     "iopub.status.busy": "2022-06-01T09:44:32.152844Z",
     "iopub.status.idle": "2022-06-01T09:44:32.469327Z",
     "shell.execute_reply": "2022-06-01T09:44:32.468352Z"
    },
    "papermill": {
     "duration": 13.101136,
     "end_time": "2022-06-01T09:44:32.471695",
     "exception": false,
     "start_time": "2022-06-01T09:44:19.370559",
     "status": "completed"
    },
    "tags": []
   },
   "outputs": [],
   "source": [
    "# one-hot encodig label for softmax\n",
    "num = np.unique(y_train_all, axis=0)\n",
    "num = num.shape[0]\n",
    "\n",
    "encoding_train = np.eye(num)[y_train_all]\n",
    "encoding_valid = np.eye(num)[y_valid]"
   ]
  },
  {
   "cell_type": "code",
   "execution_count": 19,
   "id": "c64fc956",
   "metadata": {
    "execution": {
     "iopub.execute_input": "2022-06-01T09:44:58.323779Z",
     "iopub.status.busy": "2022-06-01T09:44:58.323443Z",
     "iopub.status.idle": "2022-06-01T09:44:58.393004Z",
     "shell.execute_reply": "2022-06-01T09:44:58.392225Z"
    },
    "papermill": {
     "duration": 12.83944,
     "end_time": "2022-06-01T09:44:58.395728",
     "exception": false,
     "start_time": "2022-06-01T09:44:45.556288",
     "status": "completed"
    },
    "tags": []
   },
   "outputs": [],
   "source": [
    "# Model\n",
    "keras.backend.clear_session()\n",
    "\n",
    "classifier_2 = keras.models.Sequential([\n",
    "    keras.layers.Dense(22, activation='relu',input_shape=[29]),\n",
    "    keras.layers.Dense(15, activation='relu'),\n",
    "    keras.layers.Dropout(0.2),\n",
    "    keras.layers.Dense(10, activation='relu'),\n",
    "    keras.layers.Dense(5, activation='relu'),\n",
    "    keras.layers.Dense(2, activation='softmax')\n",
    "])\n",
    "\n",
    "classifier_2.compile(loss='categorical_crossentropy', optimizer=keras.optimizers.Adam(), metrics=['accuracy'])"
   ]
  },
  {
   "cell_type": "code",
   "execution_count": 20,
   "id": "79428425",
   "metadata": {
    "execution": {
     "iopub.execute_input": "2022-06-01T09:45:23.900208Z",
     "iopub.status.busy": "2022-06-01T09:45:23.899881Z",
     "iopub.status.idle": "2022-06-01T09:50:31.923538Z",
     "shell.execute_reply": "2022-06-01T09:50:31.922921Z"
    },
    "papermill": {
     "duration": 320.767264,
     "end_time": "2022-06-01T09:50:31.926671",
     "exception": false,
     "start_time": "2022-06-01T09:45:11.159407",
     "status": "completed"
    },
    "tags": []
   },
   "outputs": [
    {
     "name": "stdout",
     "output_type": "stream",
     "text": [
      "Epoch 1/10\n",
      "11373/11373 [==============================] - 31s 3ms/step - loss: 0.0701 - accuracy: 0.9754 - val_loss: 0.0291 - val_accuracy: 0.9908\n",
      "Epoch 2/10\n",
      "11373/11373 [==============================] - 31s 3ms/step - loss: 0.0302 - accuracy: 0.9902 - val_loss: 0.0188 - val_accuracy: 0.9939\n",
      "Epoch 3/10\n",
      "11373/11373 [==============================] - 31s 3ms/step - loss: 0.0247 - accuracy: 0.9923 - val_loss: 0.0172 - val_accuracy: 0.9949\n",
      "Epoch 4/10\n",
      "11373/11373 [==============================] - 32s 3ms/step - loss: 0.0218 - accuracy: 0.9933 - val_loss: 0.0151 - val_accuracy: 0.9955\n",
      "Epoch 5/10\n",
      "11373/11373 [==============================] - 31s 3ms/step - loss: 0.0196 - accuracy: 0.9941 - val_loss: 0.0163 - val_accuracy: 0.9951\n",
      "Epoch 6/10\n",
      "11373/11373 [==============================] - 30s 3ms/step - loss: 0.0188 - accuracy: 0.9944 - val_loss: 0.0139 - val_accuracy: 0.9958\n",
      "Epoch 7/10\n",
      "11373/11373 [==============================] - 30s 3ms/step - loss: 0.0175 - accuracy: 0.9947 - val_loss: 0.0160 - val_accuracy: 0.9955\n",
      "Epoch 8/10\n",
      "11373/11373 [==============================] - 29s 3ms/step - loss: 0.0165 - accuracy: 0.9951 - val_loss: 0.0116 - val_accuracy: 0.9969\n",
      "Epoch 9/10\n",
      "11373/11373 [==============================] - 32s 3ms/step - loss: 0.0157 - accuracy: 0.9955 - val_loss: 0.0115 - val_accuracy: 0.9967\n",
      "Epoch 10/10\n",
      "11373/11373 [==============================] - 30s 3ms/step - loss: 0.0151 - accuracy: 0.9957 - val_loss: 0.0109 - val_accuracy: 0.9971\n"
     ]
    }
   ],
   "source": [
    "clf_2_history = classifier_2.fit(denoising_x_train, encoding_train, epochs=10, validation_data=(denoising_x_valid,encoding_valid))"
   ]
  },
  {
   "cell_type": "code",
   "execution_count": 21,
   "id": "7262cd8b",
   "metadata": {
    "execution": {
     "iopub.execute_input": "2022-06-01T09:51:01.287451Z",
     "iopub.status.busy": "2022-06-01T09:51:01.287137Z",
     "iopub.status.idle": "2022-06-01T09:51:01.493174Z",
     "shell.execute_reply": "2022-06-01T09:51:01.492045Z"
    },
    "papermill": {
     "duration": 14.812514,
     "end_time": "2022-06-01T09:51:01.495515",
     "exception": false,
     "start_time": "2022-06-01T09:50:46.683001",
     "status": "completed"
    },
    "tags": []
   },
   "outputs": [
    {
     "data": {
      "image/png": "[encoded data removed]",
      "text/plain": [
       "<Figure size 432x288 with 1 Axes>"
      ]
     },
     "metadata": {
      "needs_background": "light"
     },
     "output_type": "display_data"
    }
   ],
   "source": [
    "plt.plot(clf_2_history.history['loss'])\n",
    "plt.plot(clf_2_history.history['val_loss'])\n",
    "plt.title('Model Loss')\n",
    "plt.ylabel('Loss')\n",
    "plt.xlabel('Epoch')\n",
    "plt.legend(['Train', 'Valid'], loc='upper left')\n",
    "plt.show()"
   ]
  },
  {
   "cell_type": "code",
   "execution_count": 22,
   "id": "9bf8bf12",
   "metadata": {
    "execution": {
     "iopub.execute_input": "2022-06-01T09:51:31.135309Z",
     "iopub.status.busy": "2022-06-01T09:51:31.134588Z",
     "iopub.status.idle": "2022-06-01T09:51:31.142106Z",
     "shell.execute_reply": "2022-06-01T09:51:31.141065Z"
    },
    "papermill": {
     "duration": 15.015753,
     "end_time": "2022-06-01T09:51:31.144366",
     "exception": false,
     "start_time": "2022-06-01T09:51:16.128613",
     "status": "completed"
    },
    "tags": []
   },
   "outputs": [
    {
     "data": {
      "text/plain": [
       "(array([0, 1]), array([56864,    98]))"
      ]
     },
     "execution_count": 22,
     "metadata": {},
     "output_type": "execute_result"
    }
   ],
   "source": [
    "np.unique(y_test, return_counts=True)"
   ]
  },
  {
   "cell_type": "code",
   "execution_count": 23,
   "id": "496efa22",
   "metadata": {
    "execution": {
     "iopub.execute_input": "2022-06-01T09:52:00.544008Z",
     "iopub.status.busy": "2022-06-01T09:52:00.543065Z",
     "iopub.status.idle": "2022-06-01T09:52:02.776151Z",
     "shell.execute_reply": "2022-06-01T09:52:02.775125Z"
    },
    "papermill": {
     "duration": 17.009776,
     "end_time": "2022-06-01T09:52:02.779087",
     "exception": false,
     "start_time": "2022-06-01T09:51:45.769311",
     "status": "completed"
    },
    "tags": []
   },
   "outputs": [],
   "source": [
    "denoising_x_test = denoising_ae.predict(x_test)"
   ]
  },
  {
   "cell_type": "code",
   "execution_count": 24,
   "id": "3cfb59ef",
   "metadata": {
    "execution": {
     "iopub.execute_input": "2022-06-01T09:52:32.252698Z",
     "iopub.status.busy": "2022-06-01T09:52:32.252398Z",
     "iopub.status.idle": "2022-06-01T09:52:34.393657Z",
     "shell.execute_reply": "2022-06-01T09:52:34.392342Z"
    },
    "papermill": {
     "duration": 16.927029,
     "end_time": "2022-06-01T09:52:34.396201",
     "exception": false,
     "start_time": "2022-06-01T09:52:17.469172",
     "status": "completed"
    },
    "tags": []
   },
   "outputs": [],
   "source": [
    "result = classifier_1.predict(denoising_x_test)\n",
    "result = np.where(result > 0.5, 1, 0)"
   ]
  },
  {
   "cell_type": "code",
   "execution_count": 25,
   "id": "3e9a2958",
   "metadata": {
    "execution": {
     "iopub.execute_input": "2022-06-01T09:53:03.757899Z",
     "iopub.status.busy": "2022-06-01T09:53:03.757257Z",
     "iopub.status.idle": "2022-06-01T09:53:03.773647Z",
     "shell.execute_reply": "2022-06-01T09:53:03.772650Z"
    },
    "papermill": {
     "duration": 14.769563,
     "end_time": "2022-06-01T09:53:03.776041",
     "exception": false,
     "start_time": "2022-06-01T09:52:49.006478",
     "status": "completed"
    },
    "tags": []
   },
   "outputs": [],
   "source": [
    "precision, recall, thresholds = precision_recall_curve(y_test, result)\n",
    "average_precision = average_precision_score(y_test, result)"
   ]
  },
  {
   "cell_type": "code",
   "execution_count": 26,
   "id": "ab97b509",
   "metadata": {
    "execution": {
     "iopub.execute_input": "2022-06-01T09:53:33.240504Z",
     "iopub.status.busy": "2022-06-01T09:53:33.240188Z",
     "iopub.status.idle": "2022-06-01T09:53:33.442832Z",
     "shell.execute_reply": "2022-06-01T09:53:33.441698Z"
    },
    "papermill": {
     "duration": 15.039204,
     "end_time": "2022-06-01T09:53:33.445263",
     "exception": false,
     "start_time": "2022-06-01T09:53:18.406059",
     "status": "completed"
    },
    "tags": []
   },
   "outputs": [
    {
     "data": {
      "text/plain": [
       "Text(0.5, 1.0, 'Precision-Recall curve: Average Precision = 0.20')"
      ]
     },
     "execution_count": 26,
     "metadata": {},
     "output_type": "execute_result"
    },
    {
     "data": {
      "image/png": "[encoded data removed]",
      "text/plain": [
       "<Figure size 432x288 with 1 Axes>"
      ]
     },
     "metadata": {
      "needs_background": "light"
     },
     "output_type": "display_data"
    }
   ],
   "source": [
    "plt.step(recall, precision, color='k', alpha=0.7, where='post')\n",
    "plt.fill_between(recall,precision, step='post', alpha=0.3, color='k')\n",
    "\n",
    "plt.xlabel('Recall')\n",
    "plt.ylabel('Precision')\n",
    "\n",
    "plt.title('Precision-Recall curve: Average Precision = {0:0.2f}'.format(average_precision))"
   ]
  },
  {
   "cell_type": "code",
   "execution_count": 27,
   "id": "381410fb",
   "metadata": {
    "execution": {
     "iopub.execute_input": "2022-06-01T09:54:02.916547Z",
     "iopub.status.busy": "2022-06-01T09:54:02.916194Z",
     "iopub.status.idle": "2022-06-01T09:54:02.924937Z",
     "shell.execute_reply": "2022-06-01T09:54:02.924058Z"
    },
    "papermill": {
     "duration": 14.743176,
     "end_time": "2022-06-01T09:54:02.927159",
     "exception": false,
     "start_time": "2022-06-01T09:53:48.183983",
     "status": "completed"
    },
    "tags": []
   },
   "outputs": [],
   "source": [
    "fpr, tpr, thresholds = roc_curve(y_test, result)\n",
    "areaUnderROC = auc(fpr,tpr)"
   ]
  },
  {
   "cell_type": "code",
   "execution_count": 28,
   "id": "8aa24ef3",
   "metadata": {
    "execution": {
     "iopub.execute_input": "2022-06-01T09:54:32.521649Z",
     "iopub.status.busy": "2022-06-01T09:54:32.521039Z",
     "iopub.status.idle": "2022-06-01T09:54:32.725299Z",
     "shell.execute_reply": "2022-06-01T09:54:32.724378Z"
    },
    "papermill": {
     "duration": 14.989106,
     "end_time": "2022-06-01T09:54:32.727362",
     "exception": false,
     "start_time": "2022-06-01T09:54:17.738256",
     "status": "completed"
    },
    "tags": []
   },
   "outputs": [
    {
     "data": {
      "image/png": "[encoded data removed]",
      "text/plain": [
       "<Figure size 432x288 with 1 Axes>"
      ]
     },
     "metadata": {
      "needs_background": "light"
     },
     "output_type": "display_data"
    }
   ],
   "source": [
    "plt.figure()\n",
    "plt.plot(fpr, tpr, color='r', lw=2, label='ROC curve')\n",
    "plt.plot([0,1],[0,1],color='k', lw=2, linestyle='--')\n",
    "plt.xlim([0.0,1.0])\n",
    "plt.ylim([0.0,1.05])\n",
    "plt.xlabel('False Positive Rate')\n",
    "plt.ylabel('True Positive Rate')\n",
    "plt.title('Receiver operationg characteristic: Area under the curve = {0:0.2f}'.format(areaUnderROC))\n",
    "plt.legend(loc='lower right')\n",
    "plt.show()"
   ]
  },
  {
   "cell_type": "code",
   "execution_count": 29,
   "id": "5de3a890",
   "metadata": {
    "execution": {
     "iopub.execute_input": "2022-06-01T09:55:02.287772Z",
     "iopub.status.busy": "2022-06-01T09:55:02.287113Z",
     "iopub.status.idle": "2022-06-01T09:55:04.689992Z",
     "shell.execute_reply": "2022-06-01T09:55:04.689169Z"
    },
    "papermill": {
     "duration": 17.26699,
     "end_time": "2022-06-01T09:55:04.692682",
     "exception": false,
     "start_time": "2022-06-01T09:54:47.425692",
     "status": "completed"
    },
    "tags": []
   },
   "outputs": [],
   "source": [
    "result2 = classifier_2.predict(denoising_x_test)\n",
    "result2 = result2.argmax(1)"
   ]
  },
  {
   "cell_type": "code",
   "execution_count": 30,
   "id": "70591ea8",
   "metadata": {
    "execution": {
     "iopub.execute_input": "2022-06-01T09:55:34.155896Z",
     "iopub.status.busy": "2022-06-01T09:55:34.155273Z",
     "iopub.status.idle": "2022-06-01T09:55:34.170638Z",
     "shell.execute_reply": "2022-06-01T09:55:34.169511Z"
    },
    "papermill": {
     "duration": 14.688805,
     "end_time": "2022-06-01T09:55:34.173147",
     "exception": false,
     "start_time": "2022-06-01T09:55:19.484342",
     "status": "completed"
    },
    "tags": []
   },
   "outputs": [],
   "source": [
    "precision, recall, thresholds = precision_recall_curve(y_test, result2)\n",
    "average_precision = average_precision_score(y_test, result2)"
   ]
  },
  {
   "cell_type": "code",
   "execution_count": 31,
   "id": "dbdcd149",
   "metadata": {
    "execution": {
     "iopub.execute_input": "2022-06-01T09:56:03.519853Z",
     "iopub.status.busy": "2022-06-01T09:56:03.519479Z",
     "iopub.status.idle": "2022-06-01T09:56:03.719877Z",
     "shell.execute_reply": "2022-06-01T09:56:03.718921Z"
    },
    "papermill": {
     "duration": 14.895342,
     "end_time": "2022-06-01T09:56:03.722177",
     "exception": false,
     "start_time": "2022-06-01T09:55:48.826835",
     "status": "completed"
    },
    "tags": []
   },
   "outputs": [
    {
     "data": {
      "text/plain": [
       "Text(0.5, 1.0, 'Precision-Recall curve: Average Precision = 0.24')"
      ]
     },
     "execution_count": 31,
     "metadata": {},
     "output_type": "execute_result"
    },
    {
     "data": {
      "image/png": "[encoded data removed]",
      "text/plain": [
       "<Figure size 432x288 with 1 Axes>"
      ]
     },
     "metadata": {
      "needs_background": "light"
     },
     "output_type": "display_data"
    }
   ],
   "source": [
    "plt.step(recall, precision, color='k', alpha=0.7, where='post')\n",
    "plt.fill_between(recall,precision, step='post', alpha=0.3, color='k')\n",
    "\n",
    "plt.xlabel('Recall')\n",
    "plt.ylabel('Precision')\n",
    "\n",
    "plt.title('Precision-Recall curve: Average Precision = {0:0.2f}'.format(average_precision))"
   ]
  },
  {
   "cell_type": "code",
   "execution_count": 32,
   "id": "82063c99",
   "metadata": {
    "execution": {
     "iopub.execute_input": "2022-06-01T09:56:33.018438Z",
     "iopub.status.busy": "2022-06-01T09:56:33.018115Z",
     "iopub.status.idle": "2022-06-01T09:56:33.028266Z",
     "shell.execute_reply": "2022-06-01T09:56:33.026995Z"
    },
    "papermill": {
     "duration": 14.601846,
     "end_time": "2022-06-01T09:56:33.030654",
     "exception": false,
     "start_time": "2022-06-01T09:56:18.428808",
     "status": "completed"
    },
    "tags": []
   },
   "outputs": [],
   "source": [
    "fpr, tpr, thresholds = roc_curve(y_test, result2)\n",
    "areaUnderROC = auc(fpr,tpr)"
   ]
  },
  {
   "cell_type": "code",
   "execution_count": 33,
   "id": "ab664cdd",
   "metadata": {
    "execution": {
     "iopub.execute_input": "2022-06-01T09:57:02.386635Z",
     "iopub.status.busy": "2022-06-01T09:57:02.385945Z",
     "iopub.status.idle": "2022-06-01T09:57:02.586485Z",
     "shell.execute_reply": "2022-06-01T09:57:02.585588Z"
    },
    "papermill": {
     "duration": 14.826731,
     "end_time": "2022-06-01T09:57:02.588523",
     "exception": false,
     "start_time": "2022-06-01T09:56:47.761792",
     "status": "completed"
    },
    "tags": []
   },
   "outputs": [
    {
     "data": {
      "image/png": "[encoded data removed]",
      "text/plain": [
       "<Figure size 432x288 with 1 Axes>"
      ]
     },
     "metadata": {
      "needs_background": "light"
     },
     "output_type": "display_data"
    }
   ],
   "source": [
    "plt.figure()\n",
    "plt.plot(fpr, tpr, color='r', lw=2, label='ROC curve')\n",
    "plt.plot([0,1],[0,1],color='k', lw=2, linestyle='--')\n",
    "plt.xlim([0.0,1.0])\n",
    "plt.ylim([0.0,1.05])\n",
    "plt.xlabel('False Positive Rate')\n",
    "plt.ylabel('True Positive Rate')\n",
    "plt.title('Receiver operationg characteristic: Area under the curve = {0:0.2f}'.format(areaUnderROC))\n",
    "plt.legend(loc='lower right')\n",
    "plt.show()"
   ]
  },
  {
   "cell_type": "code",
   "execution_count": 34,
   "id": "a9cad36e",
   "metadata": {
    "execution": {
     "iopub.execute_input": "2022-06-01T09:57:32.098813Z",
     "iopub.status.busy": "2022-06-01T09:57:32.098244Z",
     "iopub.status.idle": "2022-06-01T09:57:34.172270Z",
     "shell.execute_reply": "2022-06-01T09:57:34.171136Z"
    },
    "papermill": {
     "duration": 16.799518,
     "end_time": "2022-06-01T09:57:34.174774",
     "exception": false,
     "start_time": "2022-06-01T09:57:17.375256",
     "status": "completed"
    },
    "tags": []
   },
   "outputs": [],
   "source": [
    "base_result = base_classifier.predict(x_test)\n",
    "base_result = np.where(base_result > 0.5, 1, 0)"
   ]
  },
  {
   "cell_type": "code",
   "execution_count": 35,
   "id": "4bf7d3e6",
   "metadata": {
    "execution": {
     "iopub.execute_input": "2022-06-01T09:58:03.524252Z",
     "iopub.status.busy": "2022-06-01T09:58:03.523907Z",
     "iopub.status.idle": "2022-06-01T09:58:03.539126Z",
     "shell.execute_reply": "2022-06-01T09:58:03.538055Z"
    },
    "papermill": {
     "duration": 14.646274,
     "end_time": "2022-06-01T09:58:03.541759",
     "exception": false,
     "start_time": "2022-06-01T09:57:48.895485",
     "status": "completed"
    },
    "tags": []
   },
   "outputs": [],
   "source": [
    "precision, recall, thresholds = precision_recall_curve(y_test, base_result)\n",
    "average_precision = average_precision_score(y_test, base_result)"
   ]
  },
  {
   "cell_type": "code",
   "execution_count": 36,
   "id": "8e3f48e0",
   "metadata": {
    "execution": {
     "iopub.execute_input": "2022-06-01T09:58:32.918199Z",
     "iopub.status.busy": "2022-06-01T09:58:32.917905Z",
     "iopub.status.idle": "2022-06-01T09:58:33.109272Z",
     "shell.execute_reply": "2022-06-01T09:58:33.108402Z"
    },
    "papermill": {
     "duration": 14.852185,
     "end_time": "2022-06-01T09:58:33.111991",
     "exception": false,
     "start_time": "2022-06-01T09:58:18.259806",
     "status": "completed"
    },
    "tags": []
   },
   "outputs": [
    {
     "data": {
      "text/plain": [
       "Text(0.5, 1.0, 'Precision-Recall curve: Average Precision = 0.52')"
      ]
     },
     "execution_count": 36,
     "metadata": {},
     "output_type": "execute_result"
    },
    {
     "data": {
      "image/png": "[encoded data removed]",
      "text/plain": [
       "<Figure size 432x288 with 1 Axes>"
      ]
     },
     "metadata": {
      "needs_background": "light"
     },
     "output_type": "display_data"
    }
   ],
   "source": [
    "plt.step(recall, precision, color='k', alpha=0.7, where='post')\n",
    "plt.fill_between(recall,precision, step='post', alpha=0.3, color='k')\n",
    "\n",
    "plt.xlabel('Recall')\n",
    "plt.ylabel('Precision')\n",
    "\n",
    "plt.title('Precision-Recall curve: Average Precision = {0:0.2f}'.format(average_precision))"
   ]
  },
  {
   "cell_type": "code",
   "execution_count": 37,
   "id": "89e7adb0",
   "metadata": {
    "execution": {
     "iopub.execute_input": "2022-06-01T09:59:02.617939Z",
     "iopub.status.busy": "2022-06-01T09:59:02.617207Z",
     "iopub.status.idle": "2022-06-01T09:59:02.626154Z",
     "shell.execute_reply": "2022-06-01T09:59:02.625344Z"
    },
    "papermill": {
     "duration": 14.84865,
     "end_time": "2022-06-01T09:59:02.628349",
     "exception": false,
     "start_time": "2022-06-01T09:58:47.779699",
     "status": "completed"
    },
    "tags": []
   },
   "outputs": [],
   "source": [
    "fpr, tpr, thresholds = roc_curve(y_test, base_result)\n",
    "areaUnderROC = auc(fpr,tpr)"
   ]
  },
  {
   "cell_type": "code",
   "execution_count": 38,
   "id": "2e77c89d",
   "metadata": {
    "execution": {
     "iopub.execute_input": "2022-06-01T09:59:32.126474Z",
     "iopub.status.busy": "2022-06-01T09:59:32.126138Z",
     "iopub.status.idle": "2022-06-01T09:59:32.349312Z",
     "shell.execute_reply": "2022-06-01T09:59:32.348364Z"
    },
    "papermill": {
     "duration": 14.875326,
     "end_time": "2022-06-01T09:59:32.351420",
     "exception": false,
     "start_time": "2022-06-01T09:59:17.476094",
     "status": "completed"
    },
    "tags": []
   },
   "outputs": [
    {
     "data": {
      "image/png": "[encoded data removed]",
      "text/plain": [
       "<Figure size 432x288 with 1 Axes>"
      ]
     },
     "metadata": {
      "needs_background": "light"
     },
     "output_type": "display_data"
    }
   ],
   "source": [
    "plt.figure()\n",
    "plt.plot(fpr, tpr, color='r', lw=2, label='ROC curve')\n",
    "plt.plot([0,1],[0,1],color='k', lw=2, linestyle='--')\n",
    "plt.xlim([0.0,1.0])\n",
    "plt.ylim([0.0,1.05])\n",
    "plt.xlabel('False Positive Rate')\n",
    "plt.ylabel('True Positive Rate')\n",
    "plt.title('Receiver operationg characteristic: Area under the curve = {0:0.2f}'.format(areaUnderROC))\n",
    "plt.legend(loc='lower right')\n",
    "plt.show()"
   ]
  },
  {
   "cell_type": "code",
   "execution_count": null,
   "id": "be74aaf1",
   "metadata": {
    "papermill": {
     "duration": 14.68091,
     "end_time": "2022-06-01T10:00:01.768583",
     "exception": false,
     "start_time": "2022-06-01T09:59:47.087673",
     "status": "completed"
    },
    "tags": []
   },
   "outputs": [],
   "source": []
  },
  {
   "cell_type": "code",
   "execution_count": null,
   "id": "0203bfd1",
   "metadata": {
    "papermill": {
     "duration": 14.855345,
     "end_time": "2022-06-01T10:00:31.341281",
     "exception": false,
     "start_time": "2022-06-01T10:00:16.485936",
     "status": "completed"
    },
    "tags": []
   },
   "outputs": [],
   "source": []
  }
 ],
 "metadata": {
  "kernelspec": {
   "display_name": "Python 3",
   "language": "python",
   "name": "python3"
  },
  "language_info": {
   "codemirror_mode": {
    "name": "ipython",
    "version": 3
   },
   "file_extension": ".py",
   "mimetype": "text/x-python",
   "name": "python",
   "nbconvert_exporter": "python",
   "pygments_lexer": "ipython3",
   "version": "3.7.12"
  },
  "papermill": {
   "default_parameters": {},
   "duration": 3265.383516,
   "end_time": "2022-06-01T10:00:49.371725",
   "environment_variables": {},
   "exception": null,
   "input_path": "__notebook__.ipynb",
   "output_path": "__notebook__.ipynb",
   "parameters": {},
   "start_time": "2022-06-01T09:06:23.988209",
   "version": "2.3.4"
  }
 },
 "nbformat": 4,
 "nbformat_minor": 5
}
